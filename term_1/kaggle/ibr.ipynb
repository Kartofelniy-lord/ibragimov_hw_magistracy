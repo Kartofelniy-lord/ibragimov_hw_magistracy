{
  "metadata": {
    "kernelspec": {
      "language": "python",
      "display_name": "Python 3",
      "name": "python3"
    },
    "language_info": {
      "name": "python",
      "version": "3.7.12",
      "mimetype": "text/x-python",
      "codemirror_mode": {
        "name": "ipython",
        "version": 3
      },
      "pygments_lexer": "ipython3",
      "nbconvert_exporter": "python",
      "file_extension": ".py"
    },
    "colab": {
      "provenance": [],
      "collapsed_sections": [
        "56cfFapdy51j",
        "MQCGpt_Uy51k"
      ]
    },
    "widgets": {
      "application/vnd.jupyter.widget-state+json": {
        "85acc32fcbc54990a23c9c0e4f84aa04": {
          "model_module": "@jupyter-widgets/controls",
          "model_name": "ImageModel",
          "model_module_version": "1.5.0",
          "state": {
            "_dom_classes": [],
            "_model_module": "@jupyter-widgets/controls",
            "_model_module_version": "1.5.0",
            "_model_name": "ImageModel",
            "_view_count": null,
            "_view_module": "@jupyter-widgets/controls",
            "_view_module_version": "1.5.0",
            "_view_name": "ImageView",
            "format": "png",
            "height": "",
            "layout": "IPY_MODEL_8c9429542e3241dd88d60f8dc80c8b68",
            "width": ""
          }
        },
        "8c9429542e3241dd88d60f8dc80c8b68": {
          "model_module": "@jupyter-widgets/base",
          "model_name": "LayoutModel",
          "model_module_version": "1.2.0",
          "state": {
            "_model_module": "@jupyter-widgets/base",
            "_model_module_version": "1.2.0",
            "_model_name": "LayoutModel",
            "_view_count": null,
            "_view_module": "@jupyter-widgets/base",
            "_view_module_version": "1.2.0",
            "_view_name": "LayoutView",
            "align_content": null,
            "align_items": null,
            "align_self": null,
            "border": null,
            "bottom": null,
            "display": null,
            "flex": null,
            "flex_flow": null,
            "grid_area": null,
            "grid_auto_columns": null,
            "grid_auto_flow": null,
            "grid_auto_rows": null,
            "grid_column": null,
            "grid_gap": null,
            "grid_row": null,
            "grid_template_areas": null,
            "grid_template_columns": null,
            "grid_template_rows": null,
            "height": null,
            "justify_content": null,
            "justify_items": null,
            "left": null,
            "margin": null,
            "max_height": null,
            "max_width": null,
            "min_height": null,
            "min_width": null,
            "object_fit": null,
            "object_position": null,
            "order": null,
            "overflow": null,
            "overflow_x": null,
            "overflow_y": null,
            "padding": null,
            "right": null,
            "top": null,
            "visibility": null,
            "width": null
          }
        },
        "d7bcb76b56ae4f83aa4840b20327fed9": {
          "model_module": "@jupyter-widgets/controls",
          "model_name": "ImageModel",
          "model_module_version": "1.5.0",
          "state": {
            "_dom_classes": [],
            "_model_module": "@jupyter-widgets/controls",
            "_model_module_version": "1.5.0",
            "_model_name": "ImageModel",
            "_view_count": null,
            "_view_module": "@jupyter-widgets/controls",
            "_view_module_version": "1.5.0",
            "_view_name": "ImageView",
            "format": "png",
            "height": "",
            "layout": "IPY_MODEL_3a503f23ce69470ca63e72ed4d38d1f0",
            "width": ""
          }
        },
        "3a503f23ce69470ca63e72ed4d38d1f0": {
          "model_module": "@jupyter-widgets/base",
          "model_name": "LayoutModel",
          "model_module_version": "1.2.0",
          "state": {
            "_model_module": "@jupyter-widgets/base",
            "_model_module_version": "1.2.0",
            "_model_name": "LayoutModel",
            "_view_count": null,
            "_view_module": "@jupyter-widgets/base",
            "_view_module_version": "1.2.0",
            "_view_name": "LayoutView",
            "align_content": null,
            "align_items": null,
            "align_self": null,
            "border": null,
            "bottom": null,
            "display": null,
            "flex": null,
            "flex_flow": null,
            "grid_area": null,
            "grid_auto_columns": null,
            "grid_auto_flow": null,
            "grid_auto_rows": null,
            "grid_column": null,
            "grid_gap": null,
            "grid_row": null,
            "grid_template_areas": null,
            "grid_template_columns": null,
            "grid_template_rows": null,
            "height": null,
            "justify_content": null,
            "justify_items": null,
            "left": null,
            "margin": null,
            "max_height": null,
            "max_width": null,
            "min_height": null,
            "min_width": null,
            "object_fit": null,
            "object_position": null,
            "order": null,
            "overflow": null,
            "overflow_x": null,
            "overflow_y": null,
            "padding": null,
            "right": null,
            "top": null,
            "visibility": null,
            "width": null
          }
        }
      }
    }
  },
  "nbformat_minor": 0,
  "nbformat": 4,
  "cells": [
    {
      "cell_type": "markdown",
      "source": [
        "# Загрузка данных"
      ],
      "metadata": {
        "id": "f8eUTWlqy51D"
      }
    },
    {
      "cell_type": "code",
      "source": [
        "! pip install pydotplus"
      ],
      "metadata": {
        "execution": {
          "iopub.status.busy": "2022-12-13T18:22:04.866134Z",
          "iopub.execute_input": "2022-12-13T18:22:04.866495Z",
          "iopub.status.idle": "2022-12-13T18:22:15.469289Z",
          "shell.execute_reply.started": "2022-12-13T18:22:04.866466Z",
          "shell.execute_reply": "2022-12-13T18:22:15.467906Z"
        },
        "trusted": true,
        "colab": {
          "base_uri": "https://localhost:8080/"
        },
        "id": "4Gz9xy1by51I",
        "outputId": "d5d880fa-f60c-4bb8-9670-c1db24a04c89"
      },
      "execution_count": 90,
      "outputs": [
        {
          "output_type": "stream",
          "name": "stdout",
          "text": [
            "Looking in indexes: https://pypi.org/simple, https://us-python.pkg.dev/colab-wheels/public/simple/\n",
            "Requirement already satisfied: pydotplus in /usr/local/lib/python3.8/dist-packages (2.0.2)\n",
            "Requirement already satisfied: pyparsing>=2.0.1 in /usr/local/lib/python3.8/dist-packages (from pydotplus) (3.0.9)\n"
          ]
        }
      ]
    },
    {
      "cell_type": "code",
      "source": [
        "import numpy as np # linear algebra\n",
        "import pandas as pd # data processing, CSV file I/O (e.g. pd.read_csv)\n",
        "\n",
        "import os\n",
        "for dirname, _, filenames in os.walk('/kaggle/input'):\n",
        "    for filename in filenames:\n",
        "        print(os.path.join(dirname, filename))\n",
        "        \n",
        "        \n",
        "from sklearn.linear_model import LogisticRegression\n",
        "from sklearn.svm import LinearSVC\n",
        "from sklearn.metrics import f1_score\n",
        "from sklearn.model_selection import train_test_split\n",
        "import seaborn"
      ],
      "metadata": {
        "_uuid": "8f2839f25d086af736a60e9eeb907d3b93b6e0e5",
        "_cell_guid": "b1076dfc-b9ad-4769-8c92-a6c4dae69d19",
        "execution": {
          "iopub.status.busy": "2022-12-13T18:22:15.473520Z",
          "iopub.execute_input": "2022-12-13T18:22:15.473920Z",
          "iopub.status.idle": "2022-12-13T18:22:15.487718Z",
          "shell.execute_reply.started": "2022-12-13T18:22:15.473880Z",
          "shell.execute_reply": "2022-12-13T18:22:15.486228Z"
        },
        "trusted": true,
        "id": "GJc0P96qy51K"
      },
      "execution_count": 91,
      "outputs": []
    },
    {
      "cell_type": "code",
      "source": [
        "train = pd.read_csv('/content/train.csv', sep=';')\n",
        "test = pd.read_csv('/content/test.csv', sep=';')\n",
        "# submission = pd.read_csv('/kaggle/input/hw-multiclass-classification/sub_baseline.csv')"
      ],
      "metadata": {
        "_uuid": "d629ff2d2480ee46fbb7e2d37f6b5fab8052498a",
        "_cell_guid": "79c7e3d0-c299-4dcb-8224-4455121ee9b0",
        "execution": {
          "iopub.status.busy": "2022-12-13T18:22:15.489447Z",
          "iopub.execute_input": "2022-12-13T18:22:15.490882Z",
          "iopub.status.idle": "2022-12-13T18:22:16.544655Z",
          "shell.execute_reply.started": "2022-12-13T18:22:15.490838Z",
          "shell.execute_reply": "2022-12-13T18:22:16.543347Z"
        },
        "trusted": true,
        "id": "r__RWzvNy51L"
      },
      "execution_count": 92,
      "outputs": []
    },
    {
      "cell_type": "code",
      "source": [
        "'train: ', train.shape, 'test: ', test.shape"
      ],
      "metadata": {
        "execution": {
          "iopub.status.busy": "2022-12-13T18:22:16.551681Z",
          "iopub.execute_input": "2022-12-13T18:22:16.557917Z",
          "iopub.status.idle": "2022-12-13T18:22:16.569265Z",
          "shell.execute_reply.started": "2022-12-13T18:22:16.557864Z",
          "shell.execute_reply": "2022-12-13T18:22:16.567960Z"
        },
        "trusted": true,
        "colab": {
          "base_uri": "https://localhost:8080/"
        },
        "id": "3tajsiBQy51M",
        "outputId": "67eb2bb0-c320-4080-9319-e6e0a2af3653"
      },
      "execution_count": 93,
      "outputs": [
        {
          "output_type": "execute_result",
          "data": {
            "text/plain": [
              "('train: ', (39481, 15), 'test: ', (9871, 14))"
            ]
          },
          "metadata": {},
          "execution_count": 93
        }
      ]
    },
    {
      "cell_type": "markdown",
      "source": [
        "Результат нужно сохранить в **csv файл с двумя колонками**: \n",
        "\n",
        "listing_id - берете из датасета\n",
        "\n",
        "interest_level - проставляете своим алгоритмом\n",
        "\n",
        "Разделитель **запятая**, при сохранении с помощью result.to_csv() - не забывайте указывать index=None."
      ],
      "metadata": {
        "id": "W3Z1HBqQy51N"
      }
    },
    {
      "cell_type": "code",
      "source": [
        "# submission.head()"
      ],
      "metadata": {
        "execution": {
          "iopub.status.busy": "2022-12-13T18:22:16.573682Z",
          "iopub.execute_input": "2022-12-13T18:22:16.574741Z",
          "iopub.status.idle": "2022-12-13T18:22:16.597942Z",
          "shell.execute_reply.started": "2022-12-13T18:22:16.574697Z",
          "shell.execute_reply": "2022-12-13T18:22:16.596598Z"
        },
        "trusted": true,
        "id": "7PoN04lYy51N"
      },
      "execution_count": 94,
      "outputs": []
    },
    {
      "cell_type": "markdown",
      "source": [
        "## Анализ данных\n",
        "## 1. Предобработка и генерация признаков\n",
        "\n",
        "Для выполнения задания попробуйте придумать признаки на основе имеющихся данных, для работы с текстовыми полями вам может пригодится LabelEncoder/OneHotEncoder, re.sub(),re.findall() "
      ],
      "metadata": {
        "id": "Rcq2FaKWy51P"
      }
    },
    {
      "cell_type": "markdown",
      "source": [
        "Ниже представлены имеющиеся у нас признаки. Можно попробовать сгенерировать из них новые. Например, можно сделать признак Стоимость за комнату, признаки на основе значений в features, выделить и закодировать адрес, так же можно попробовать оценить \"успешность\" менеджера, предположив, что чем больше объявлений у данного manager_id - тем он круче."
      ],
      "metadata": {
        "id": "067qf_M4y51Q"
      }
    },
    {
      "cell_type": "code",
      "source": [
        "train.columns"
      ],
      "metadata": {
        "execution": {
          "iopub.status.busy": "2022-12-13T18:22:16.603447Z",
          "iopub.execute_input": "2022-12-13T18:22:16.604597Z",
          "iopub.status.idle": "2022-12-13T18:22:16.617594Z",
          "shell.execute_reply.started": "2022-12-13T18:22:16.604549Z",
          "shell.execute_reply": "2022-12-13T18:22:16.616388Z"
        },
        "trusted": true,
        "colab": {
          "base_uri": "https://localhost:8080/"
        },
        "id": "dbVq7XaPy51R",
        "outputId": "2c7052e6-8051-4ab2-b74b-85fd435fa7df"
      },
      "execution_count": 95,
      "outputs": [
        {
          "output_type": "execute_result",
          "data": {
            "text/plain": [
              "Index(['bathrooms', 'bedrooms', 'building_id', 'created', 'description',\n",
              "       'display_address', 'features', 'latitude', 'listing_id', 'longitude',\n",
              "       'manager_id', 'photos', 'price', 'street_address', 'interest_level'],\n",
              "      dtype='object')"
            ]
          },
          "metadata": {},
          "execution_count": 95
        }
      ]
    },
    {
      "cell_type": "code",
      "source": [
        "low = train[train.interest_level=='low'].sample(2900)\n",
        "middle = train[train.interest_level=='medium'].sample(2900)\n",
        "high = train[train.interest_level=='high'].sample(2900)\n",
        "\n",
        "train = pd.concat([low,middle,high])\n",
        "\n",
        "train.columns"
      ],
      "metadata": {
        "execution": {
          "iopub.status.busy": "2022-12-13T18:22:16.620797Z",
          "iopub.execute_input": "2022-12-13T18:22:16.622721Z",
          "iopub.status.idle": "2022-12-13T18:22:16.728352Z",
          "shell.execute_reply.started": "2022-12-13T18:22:16.622674Z",
          "shell.execute_reply": "2022-12-13T18:22:16.727070Z"
        },
        "trusted": true,
        "colab": {
          "base_uri": "https://localhost:8080/"
        },
        "id": "m7Uy4FrRy51S",
        "outputId": "0f124f6b-4c1a-444f-af66-513e36842420"
      },
      "execution_count": 96,
      "outputs": [
        {
          "output_type": "execute_result",
          "data": {
            "text/plain": [
              "Index(['bathrooms', 'bedrooms', 'building_id', 'created', 'description',\n",
              "       'display_address', 'features', 'latitude', 'listing_id', 'longitude',\n",
              "       'manager_id', 'photos', 'price', 'street_address', 'interest_level'],\n",
              "      dtype='object')"
            ]
          },
          "metadata": {},
          "execution_count": 96
        }
      ]
    },
    {
      "cell_type": "code",
      "source": [
        "# Поработаем с ценой\n",
        "train[\"price\"].describe().round(0)"
      ],
      "metadata": {
        "execution": {
          "iopub.status.busy": "2022-12-13T18:22:16.734113Z",
          "iopub.execute_input": "2022-12-13T18:22:16.737253Z",
          "iopub.status.idle": "2022-12-13T18:22:16.759443Z",
          "shell.execute_reply.started": "2022-12-13T18:22:16.737201Z",
          "shell.execute_reply": "2022-12-13T18:22:16.758297Z"
        },
        "trusted": true,
        "colab": {
          "base_uri": "https://localhost:8080/"
        },
        "id": "KAYasbmXy51T",
        "outputId": "5c3c32fc-d34e-45cf-f4d6-4f7956e43128"
      },
      "execution_count": 97,
      "outputs": [
        {
          "output_type": "execute_result",
          "data": {
            "text/plain": [
              "count       8700.0\n",
              "mean        3399.0\n",
              "std        11643.0\n",
              "min          695.0\n",
              "25%         2225.0\n",
              "50%         2856.0\n",
              "75%         3775.0\n",
              "max      1070000.0\n",
              "Name: price, dtype: float64"
            ]
          },
          "metadata": {},
          "execution_count": 97
        }
      ]
    },
    {
      "cell_type": "code",
      "source": [
        "def price_lvl(price):\n",
        "    if price>4100:\n",
        "        return 2\n",
        "    elif price>3150:\n",
        "        return 1\n",
        "    else:\n",
        "        return 0"
      ],
      "metadata": {
        "execution": {
          "iopub.status.busy": "2022-12-13T18:22:16.765112Z",
          "iopub.execute_input": "2022-12-13T18:22:16.767970Z",
          "iopub.status.idle": "2022-12-13T18:22:16.780674Z",
          "shell.execute_reply.started": "2022-12-13T18:22:16.767921Z",
          "shell.execute_reply": "2022-12-13T18:22:16.777081Z"
        },
        "trusted": true,
        "id": "8MUc1a4Gy51T"
      },
      "execution_count": 98,
      "outputs": []
    },
    {
      "cell_type": "code",
      "source": [
        "train[\"price_lvl\"] = train.price.apply(price_lvl)\n",
        "train[\"features\"]"
      ],
      "metadata": {
        "execution": {
          "iopub.status.busy": "2022-12-13T18:22:16.787345Z",
          "iopub.execute_input": "2022-12-13T18:22:16.788200Z",
          "iopub.status.idle": "2022-12-13T18:22:16.824043Z",
          "shell.execute_reply.started": "2022-12-13T18:22:16.788151Z",
          "shell.execute_reply": "2022-12-13T18:22:16.822715Z"
        },
        "trusted": true,
        "colab": {
          "base_uri": "https://localhost:8080/"
        },
        "id": "B7iPF-_fy51U",
        "outputId": "cf5098d7-63c6-42eb-96a9-af5a6351b5ff"
      },
      "execution_count": 99,
      "outputs": [
        {
          "output_type": "execute_result",
          "data": {
            "text/plain": [
              "11046    ['Dining Room', 'Elevator', 'Pre-War', 'Laundr...\n",
              "13493    ['Doorman', 'Fitness Center', 'Pool', 'Elevato...\n",
              "25642                                          ['Doorman']\n",
              "37226                                                   []\n",
              "33484    ['Swimming Pool', 'Dining Room', 'Doorman', 'E...\n",
              "                               ...                        \n",
              "13023    ['Dining Room', 'Doorman', 'Elevator', 'Laundr...\n",
              "14460    ['Roof Deck', 'Doorman', 'Elevator', 'Fitness ...\n",
              "12851                                  ['Hardwood Floors']\n",
              "31661    ['Cats Allowed', 'Dogs Allowed', 'No Fee', 'Re...\n",
              "36781    ['Roof Deck', 'Dining Room', 'Balcony', 'Doorm...\n",
              "Name: features, Length: 8700, dtype: object"
            ]
          },
          "metadata": {},
          "execution_count": 99
        }
      ]
    },
    {
      "cell_type": "code",
      "source": [
        "train['features'] = train['features'].str.replace('[\\'\\[\\]]', '').str.split(', ')\n",
        "train['features_cnt'] = train['features'].apply(len)\n",
        "\n",
        "train['photos']=train['photos'].str.replace('[\\[\\]\\']', '').str.split(', ')\n",
        "train['photos_cnt'] = train['photos'].apply(len)\n",
        "\n",
        "train[\"created\"] = pd.to_datetime(train[\"created\"])\n",
        "train[\"created_day\"] = train[\"created\"].dt.day\n",
        "train[\"created_hour\"] = train[\"created\"].dt.hour\n",
        "\n",
        "train[\"num_description_words\"]=train[\"description\"].fillna('').apply(lambda x: len(x.split(\" \")))"
      ],
      "metadata": {
        "execution": {
          "iopub.status.busy": "2022-12-13T18:22:16.829593Z",
          "iopub.execute_input": "2022-12-13T18:22:16.830879Z",
          "iopub.status.idle": "2022-12-13T18:22:17.212427Z",
          "shell.execute_reply.started": "2022-12-13T18:22:16.830825Z",
          "shell.execute_reply": "2022-12-13T18:22:17.211175Z"
        },
        "trusted": true,
        "colab": {
          "base_uri": "https://localhost:8080/"
        },
        "id": "UWOLQCn7y51U",
        "outputId": "7a0a2331-eed4-4a1f-b1e9-bb66df743b94"
      },
      "execution_count": 100,
      "outputs": [
        {
          "output_type": "stream",
          "name": "stderr",
          "text": [
            "<ipython-input-100-7166383c1649>:1: FutureWarning: The default value of regex will change from True to False in a future version.\n",
            "  train['features'] = train['features'].str.replace('[\\'\\[\\]]', '').str.split(', ')\n",
            "<ipython-input-100-7166383c1649>:4: FutureWarning: The default value of regex will change from True to False in a future version.\n",
            "  train['photos']=train['photos'].str.replace('[\\[\\]\\']', '').str.split(', ')\n"
          ]
        }
      ]
    },
    {
      "cell_type": "code",
      "source": [
        "target = 'interest_level'"
      ],
      "metadata": {
        "execution": {
          "iopub.status.busy": "2022-12-13T18:22:19.547936Z",
          "iopub.execute_input": "2022-12-13T18:22:19.548922Z",
          "iopub.status.idle": "2022-12-13T18:22:19.559615Z",
          "shell.execute_reply.started": "2022-12-13T18:22:19.548873Z",
          "shell.execute_reply": "2022-12-13T18:22:19.556489Z"
        },
        "trusted": true,
        "id": "WsLduIdpy51X"
      },
      "execution_count": 101,
      "outputs": []
    },
    {
      "cell_type": "code",
      "source": [
        "train.columns"
      ],
      "metadata": {
        "execution": {
          "iopub.status.busy": "2022-12-13T18:22:19.561442Z",
          "iopub.execute_input": "2022-12-13T18:22:19.562140Z",
          "iopub.status.idle": "2022-12-13T18:22:19.571344Z",
          "shell.execute_reply.started": "2022-12-13T18:22:19.562096Z",
          "shell.execute_reply": "2022-12-13T18:22:19.569984Z"
        },
        "trusted": true,
        "colab": {
          "base_uri": "https://localhost:8080/"
        },
        "id": "raLeg7oIy51X",
        "outputId": "c92ac467-e8c1-4742-fe02-c60f6b8f794a"
      },
      "execution_count": 102,
      "outputs": [
        {
          "output_type": "execute_result",
          "data": {
            "text/plain": [
              "Index(['bathrooms', 'bedrooms', 'building_id', 'created', 'description',\n",
              "       'display_address', 'features', 'latitude', 'listing_id', 'longitude',\n",
              "       'manager_id', 'photos', 'price', 'street_address', 'interest_level',\n",
              "       'price_lvl', 'features_cnt', 'photos_cnt', 'created_day',\n",
              "       'created_hour', 'num_description_words'],\n",
              "      dtype='object')"
            ]
          },
          "metadata": {},
          "execution_count": 102
        }
      ]
    },
    {
      "cell_type": "code",
      "source": [
        "features = ['bathrooms', 'bedrooms', 'latitude', 'longitude', 'price', 'features_cnt', 'photos_cnt', 'created_day', 'created_hour', 'num_description_words']"
      ],
      "metadata": {
        "execution": {
          "iopub.status.busy": "2022-12-13T18:22:19.582181Z",
          "iopub.execute_input": "2022-12-13T18:22:19.583383Z",
          "iopub.status.idle": "2022-12-13T18:22:19.592311Z",
          "shell.execute_reply.started": "2022-12-13T18:22:19.583337Z",
          "shell.execute_reply": "2022-12-13T18:22:19.590881Z"
        },
        "trusted": true,
        "id": "DB2Td8fiy51Y"
      },
      "execution_count": 104,
      "outputs": []
    },
    {
      "cell_type": "code",
      "source": [
        "train.head()"
      ],
      "metadata": {
        "execution": {
          "iopub.status.busy": "2022-12-13T18:22:19.627268Z",
          "iopub.execute_input": "2022-12-13T18:22:19.628722Z",
          "iopub.status.idle": "2022-12-13T18:22:19.663284Z",
          "shell.execute_reply.started": "2022-12-13T18:22:19.628677Z",
          "shell.execute_reply": "2022-12-13T18:22:19.661922Z"
        },
        "trusted": true,
        "colab": {
          "base_uri": "https://localhost:8080/",
          "height": 629
        },
        "id": "D5WMn039y51Z",
        "outputId": "254fd9a7-e897-4574-da12-2a8c55a3915f"
      },
      "execution_count": 108,
      "outputs": [
        {
          "output_type": "execute_result",
          "data": {
            "text/plain": [
              "       bathrooms  bedrooms                       building_id  \\\n",
              "11046        1.0         2  593d0fb003995388a5417df9f80eef7c   \n",
              "13493        1.0         0  508baf62cd9cc74dd4be6bb722d020f9   \n",
              "25642        2.0         2                                 0   \n",
              "37226        1.0         1  a97e3b0b02e9d7044157d53740755880   \n",
              "33484        1.0         1  7a9ae106c9bf463c73963c4d40f332b9   \n",
              "\n",
              "                  created                                        description  \\\n",
              "11046 2016-06-16 05:50:16  Spacious & Renovated 2 Bed 1 Bath in Kew Garde...   \n",
              "13493 2016-05-19 01:52:37                                                NaN   \n",
              "25642 2016-04-28 01:35:23  Two bedroom in SOHO W/ private balcony,Feature...   \n",
              "37226 2016-04-13 04:55:13  I have an access to show several thousand avai...   \n",
              "33484 2016-06-21 03:38:44  > 1 Bedroom, 1 Bathroom apartment with a south...   \n",
              "\n",
              "         display_address                                           features  \\\n",
              "11046  Metropolitan Ave.  [Dining Room, Elevator, Pre-War, Laundry in Bu...   \n",
              "13493   West 38th Street  [Doorman, Fitness Center, Pool, Elevator, Gara...   \n",
              "25642    Thompson Street                                          [Doorman]   \n",
              "37226         E 9 Street                                                 []   \n",
              "33484         E 86th St.  [Swimming Pool, Dining Room, Doorman, Elevator...   \n",
              "\n",
              "       latitude  listing_id  longitude  ...  \\\n",
              "11046   40.7060     7170240   -73.8324  ...   \n",
              "13493   40.7551     7035556   -73.9928  ...   \n",
              "25642   40.7240     6934860   -74.0035  ...   \n",
              "37226   40.7283     6866354   -73.9857  ...   \n",
              "33484   40.7779     7189556   -73.9525  ...   \n",
              "\n",
              "                                                  photos  price  \\\n",
              "11046  [https://photos.renthop.com/2/7170240_d9461063...   2525   \n",
              "13493                                                 []   3395   \n",
              "25642  [https://photos.renthop.com/2/6934860_b1f45559...  14500   \n",
              "37226  [https://photos.renthop.com/2/6866354_8e241403...   2300   \n",
              "33484  [https://photos.renthop.com/2/7189556_1e726b87...   4000   \n",
              "\n",
              "                 street_address interest_level price_lvl  features_cnt  \\\n",
              "11046  118-80 Metropolitan Ave.            low         0             9   \n",
              "13493      320 West 38th Street            low         1            10   \n",
              "25642        55 Thompson Street            low         2             1   \n",
              "37226            344 E 9 Street            low         0             1   \n",
              "33484            240 E 86th St.            low         1            14   \n",
              "\n",
              "       photos_cnt  created_day  created_hour  num_description_words  \n",
              "11046          12           16             5                     86  \n",
              "13493           1           19             1                      1  \n",
              "25642           7           28             1                     39  \n",
              "37226           6           13             4                     54  \n",
              "33484           7           21             3                    113  \n",
              "\n",
              "[5 rows x 21 columns]"
            ],
            "text/html": [
              "\n",
              "  <div id=\"df-07d6ddca-7c28-4a96-ad52-eee94ac38cd8\">\n",
              "    <div class=\"colab-df-container\">\n",
              "      <div>\n",
              "<style scoped>\n",
              "    .dataframe tbody tr th:only-of-type {\n",
              "        vertical-align: middle;\n",
              "    }\n",
              "\n",
              "    .dataframe tbody tr th {\n",
              "        vertical-align: top;\n",
              "    }\n",
              "\n",
              "    .dataframe thead th {\n",
              "        text-align: right;\n",
              "    }\n",
              "</style>\n",
              "<table border=\"1\" class=\"dataframe\">\n",
              "  <thead>\n",
              "    <tr style=\"text-align: right;\">\n",
              "      <th></th>\n",
              "      <th>bathrooms</th>\n",
              "      <th>bedrooms</th>\n",
              "      <th>building_id</th>\n",
              "      <th>created</th>\n",
              "      <th>description</th>\n",
              "      <th>display_address</th>\n",
              "      <th>features</th>\n",
              "      <th>latitude</th>\n",
              "      <th>listing_id</th>\n",
              "      <th>longitude</th>\n",
              "      <th>...</th>\n",
              "      <th>photos</th>\n",
              "      <th>price</th>\n",
              "      <th>street_address</th>\n",
              "      <th>interest_level</th>\n",
              "      <th>price_lvl</th>\n",
              "      <th>features_cnt</th>\n",
              "      <th>photos_cnt</th>\n",
              "      <th>created_day</th>\n",
              "      <th>created_hour</th>\n",
              "      <th>num_description_words</th>\n",
              "    </tr>\n",
              "  </thead>\n",
              "  <tbody>\n",
              "    <tr>\n",
              "      <th>11046</th>\n",
              "      <td>1.0</td>\n",
              "      <td>2</td>\n",
              "      <td>593d0fb003995388a5417df9f80eef7c</td>\n",
              "      <td>2016-06-16 05:50:16</td>\n",
              "      <td>Spacious &amp; Renovated 2 Bed 1 Bath in Kew Garde...</td>\n",
              "      <td>Metropolitan Ave.</td>\n",
              "      <td>[Dining Room, Elevator, Pre-War, Laundry in Bu...</td>\n",
              "      <td>40.7060</td>\n",
              "      <td>7170240</td>\n",
              "      <td>-73.8324</td>\n",
              "      <td>...</td>\n",
              "      <td>[https://photos.renthop.com/2/7170240_d9461063...</td>\n",
              "      <td>2525</td>\n",
              "      <td>118-80 Metropolitan Ave.</td>\n",
              "      <td>low</td>\n",
              "      <td>0</td>\n",
              "      <td>9</td>\n",
              "      <td>12</td>\n",
              "      <td>16</td>\n",
              "      <td>5</td>\n",
              "      <td>86</td>\n",
              "    </tr>\n",
              "    <tr>\n",
              "      <th>13493</th>\n",
              "      <td>1.0</td>\n",
              "      <td>0</td>\n",
              "      <td>508baf62cd9cc74dd4be6bb722d020f9</td>\n",
              "      <td>2016-05-19 01:52:37</td>\n",
              "      <td>NaN</td>\n",
              "      <td>West 38th Street</td>\n",
              "      <td>[Doorman, Fitness Center, Pool, Elevator, Gara...</td>\n",
              "      <td>40.7551</td>\n",
              "      <td>7035556</td>\n",
              "      <td>-73.9928</td>\n",
              "      <td>...</td>\n",
              "      <td>[]</td>\n",
              "      <td>3395</td>\n",
              "      <td>320 West 38th Street</td>\n",
              "      <td>low</td>\n",
              "      <td>1</td>\n",
              "      <td>10</td>\n",
              "      <td>1</td>\n",
              "      <td>19</td>\n",
              "      <td>1</td>\n",
              "      <td>1</td>\n",
              "    </tr>\n",
              "    <tr>\n",
              "      <th>25642</th>\n",
              "      <td>2.0</td>\n",
              "      <td>2</td>\n",
              "      <td>0</td>\n",
              "      <td>2016-04-28 01:35:23</td>\n",
              "      <td>Two bedroom in SOHO W/ private balcony,Feature...</td>\n",
              "      <td>Thompson Street</td>\n",
              "      <td>[Doorman]</td>\n",
              "      <td>40.7240</td>\n",
              "      <td>6934860</td>\n",
              "      <td>-74.0035</td>\n",
              "      <td>...</td>\n",
              "      <td>[https://photos.renthop.com/2/6934860_b1f45559...</td>\n",
              "      <td>14500</td>\n",
              "      <td>55 Thompson Street</td>\n",
              "      <td>low</td>\n",
              "      <td>2</td>\n",
              "      <td>1</td>\n",
              "      <td>7</td>\n",
              "      <td>28</td>\n",
              "      <td>1</td>\n",
              "      <td>39</td>\n",
              "    </tr>\n",
              "    <tr>\n",
              "      <th>37226</th>\n",
              "      <td>1.0</td>\n",
              "      <td>1</td>\n",
              "      <td>a97e3b0b02e9d7044157d53740755880</td>\n",
              "      <td>2016-04-13 04:55:13</td>\n",
              "      <td>I have an access to show several thousand avai...</td>\n",
              "      <td>E 9 Street</td>\n",
              "      <td>[]</td>\n",
              "      <td>40.7283</td>\n",
              "      <td>6866354</td>\n",
              "      <td>-73.9857</td>\n",
              "      <td>...</td>\n",
              "      <td>[https://photos.renthop.com/2/6866354_8e241403...</td>\n",
              "      <td>2300</td>\n",
              "      <td>344 E 9 Street</td>\n",
              "      <td>low</td>\n",
              "      <td>0</td>\n",
              "      <td>1</td>\n",
              "      <td>6</td>\n",
              "      <td>13</td>\n",
              "      <td>4</td>\n",
              "      <td>54</td>\n",
              "    </tr>\n",
              "    <tr>\n",
              "      <th>33484</th>\n",
              "      <td>1.0</td>\n",
              "      <td>1</td>\n",
              "      <td>7a9ae106c9bf463c73963c4d40f332b9</td>\n",
              "      <td>2016-06-21 03:38:44</td>\n",
              "      <td>&gt; 1 Bedroom, 1 Bathroom apartment with a south...</td>\n",
              "      <td>E 86th St.</td>\n",
              "      <td>[Swimming Pool, Dining Room, Doorman, Elevator...</td>\n",
              "      <td>40.7779</td>\n",
              "      <td>7189556</td>\n",
              "      <td>-73.9525</td>\n",
              "      <td>...</td>\n",
              "      <td>[https://photos.renthop.com/2/7189556_1e726b87...</td>\n",
              "      <td>4000</td>\n",
              "      <td>240 E 86th St.</td>\n",
              "      <td>low</td>\n",
              "      <td>1</td>\n",
              "      <td>14</td>\n",
              "      <td>7</td>\n",
              "      <td>21</td>\n",
              "      <td>3</td>\n",
              "      <td>113</td>\n",
              "    </tr>\n",
              "  </tbody>\n",
              "</table>\n",
              "<p>5 rows × 21 columns</p>\n",
              "</div>\n",
              "      <button class=\"colab-df-convert\" onclick=\"convertToInteractive('df-07d6ddca-7c28-4a96-ad52-eee94ac38cd8')\"\n",
              "              title=\"Convert this dataframe to an interactive table.\"\n",
              "              style=\"display:none;\">\n",
              "        \n",
              "  <svg xmlns=\"http://www.w3.org/2000/svg\" height=\"24px\"viewBox=\"0 0 24 24\"\n",
              "       width=\"24px\">\n",
              "    <path d=\"M0 0h24v24H0V0z\" fill=\"none\"/>\n",
              "    <path d=\"M18.56 5.44l.94 2.06.94-2.06 2.06-.94-2.06-.94-.94-2.06-.94 2.06-2.06.94zm-11 1L8.5 8.5l.94-2.06 2.06-.94-2.06-.94L8.5 2.5l-.94 2.06-2.06.94zm10 10l.94 2.06.94-2.06 2.06-.94-2.06-.94-.94-2.06-.94 2.06-2.06.94z\"/><path d=\"M17.41 7.96l-1.37-1.37c-.4-.4-.92-.59-1.43-.59-.52 0-1.04.2-1.43.59L10.3 9.45l-7.72 7.72c-.78.78-.78 2.05 0 2.83L4 21.41c.39.39.9.59 1.41.59.51 0 1.02-.2 1.41-.59l7.78-7.78 2.81-2.81c.8-.78.8-2.07 0-2.86zM5.41 20L4 18.59l7.72-7.72 1.47 1.35L5.41 20z\"/>\n",
              "  </svg>\n",
              "      </button>\n",
              "      \n",
              "  <style>\n",
              "    .colab-df-container {\n",
              "      display:flex;\n",
              "      flex-wrap:wrap;\n",
              "      gap: 12px;\n",
              "    }\n",
              "\n",
              "    .colab-df-convert {\n",
              "      background-color: #E8F0FE;\n",
              "      border: none;\n",
              "      border-radius: 50%;\n",
              "      cursor: pointer;\n",
              "      display: none;\n",
              "      fill: #1967D2;\n",
              "      height: 32px;\n",
              "      padding: 0 0 0 0;\n",
              "      width: 32px;\n",
              "    }\n",
              "\n",
              "    .colab-df-convert:hover {\n",
              "      background-color: #E2EBFA;\n",
              "      box-shadow: 0px 1px 2px rgba(60, 64, 67, 0.3), 0px 1px 3px 1px rgba(60, 64, 67, 0.15);\n",
              "      fill: #174EA6;\n",
              "    }\n",
              "\n",
              "    [theme=dark] .colab-df-convert {\n",
              "      background-color: #3B4455;\n",
              "      fill: #D2E3FC;\n",
              "    }\n",
              "\n",
              "    [theme=dark] .colab-df-convert:hover {\n",
              "      background-color: #434B5C;\n",
              "      box-shadow: 0px 1px 3px 1px rgba(0, 0, 0, 0.15);\n",
              "      filter: drop-shadow(0px 1px 2px rgba(0, 0, 0, 0.3));\n",
              "      fill: #FFFFFF;\n",
              "    }\n",
              "  </style>\n",
              "\n",
              "      <script>\n",
              "        const buttonEl =\n",
              "          document.querySelector('#df-07d6ddca-7c28-4a96-ad52-eee94ac38cd8 button.colab-df-convert');\n",
              "        buttonEl.style.display =\n",
              "          google.colab.kernel.accessAllowed ? 'block' : 'none';\n",
              "\n",
              "        async function convertToInteractive(key) {\n",
              "          const element = document.querySelector('#df-07d6ddca-7c28-4a96-ad52-eee94ac38cd8');\n",
              "          const dataTable =\n",
              "            await google.colab.kernel.invokeFunction('convertToInteractive',\n",
              "                                                     [key], {});\n",
              "          if (!dataTable) return;\n",
              "\n",
              "          const docLinkHtml = 'Like what you see? Visit the ' +\n",
              "            '<a target=\"_blank\" href=https://colab.research.google.com/notebooks/data_table.ipynb>data table notebook</a>'\n",
              "            + ' to learn more about interactive tables.';\n",
              "          element.innerHTML = '';\n",
              "          dataTable['output_type'] = 'display_data';\n",
              "          await google.colab.output.renderOutput(dataTable, element);\n",
              "          const docLink = document.createElement('div');\n",
              "          docLink.innerHTML = docLinkHtml;\n",
              "          element.appendChild(docLink);\n",
              "        }\n",
              "      </script>\n",
              "    </div>\n",
              "  </div>\n",
              "  "
            ]
          },
          "metadata": {},
          "execution_count": 108
        }
      ]
    },
    {
      "cell_type": "code",
      "source": [
        "train.interest_level.value_counts()"
      ],
      "metadata": {
        "execution": {
          "iopub.status.busy": "2022-12-13T18:22:19.665166Z",
          "iopub.execute_input": "2022-12-13T18:22:19.666443Z",
          "iopub.status.idle": "2022-12-13T18:22:19.678626Z",
          "shell.execute_reply.started": "2022-12-13T18:22:19.666389Z",
          "shell.execute_reply": "2022-12-13T18:22:19.677090Z"
        },
        "trusted": true,
        "colab": {
          "base_uri": "https://localhost:8080/"
        },
        "id": "1TEPkgiGy51Z",
        "outputId": "7f403c11-d6d3-40aa-f833-5a5276cbe82c"
      },
      "execution_count": 109,
      "outputs": [
        {
          "output_type": "execute_result",
          "data": {
            "text/plain": [
              "low       2900\n",
              "medium    2900\n",
              "high      2900\n",
              "Name: interest_level, dtype: int64"
            ]
          },
          "metadata": {},
          "execution_count": 109
        }
      ]
    },
    {
      "cell_type": "code",
      "source": [
        "train.interest_level.value_counts(normalize=True)"
      ],
      "metadata": {
        "execution": {
          "iopub.status.busy": "2022-12-13T18:22:19.680653Z",
          "iopub.execute_input": "2022-12-13T18:22:19.681565Z",
          "iopub.status.idle": "2022-12-13T18:22:19.694148Z",
          "shell.execute_reply.started": "2022-12-13T18:22:19.681521Z",
          "shell.execute_reply": "2022-12-13T18:22:19.692665Z"
        },
        "trusted": true,
        "colab": {
          "base_uri": "https://localhost:8080/"
        },
        "id": "Cmgj38XVy51Z",
        "outputId": "d366157d-9fa5-44b7-9aee-d2ac1b648df0"
      },
      "execution_count": 110,
      "outputs": [
        {
          "output_type": "execute_result",
          "data": {
            "text/plain": [
              "low       0.333333\n",
              "medium    0.333333\n",
              "high      0.333333\n",
              "Name: interest_level, dtype: float64"
            ]
          },
          "metadata": {},
          "execution_count": 110
        }
      ]
    },
    {
      "cell_type": "code",
      "source": [
        "train.describe()"
      ],
      "metadata": {
        "execution": {
          "iopub.status.busy": "2022-12-13T18:22:19.696228Z",
          "iopub.execute_input": "2022-12-13T18:22:19.697654Z",
          "iopub.status.idle": "2022-12-13T18:22:19.764803Z",
          "shell.execute_reply.started": "2022-12-13T18:22:19.697596Z",
          "shell.execute_reply": "2022-12-13T18:22:19.763363Z"
        },
        "trusted": true,
        "colab": {
          "base_uri": "https://localhost:8080/",
          "height": 300
        },
        "id": "FcHs20uqy51Z",
        "outputId": "5814f29c-dead-47e1-f7d7-30305b8cc939"
      },
      "execution_count": 111,
      "outputs": [
        {
          "output_type": "execute_result",
          "data": {
            "text/plain": [
              "         bathrooms     bedrooms     latitude    listing_id    longitude  \\\n",
              "count  8700.000000  8700.000000  8700.000000  8.700000e+03  8700.000000   \n",
              "mean      1.177011     1.557586    40.741207  7.022226e+06   -73.952340   \n",
              "std       0.436693     1.125127     0.619608  1.236805e+05     1.122418   \n",
              "min       0.000000     0.000000     0.000000  6.811965e+06   -74.243200   \n",
              "25%       1.000000     1.000000    40.726900  6.917060e+06   -73.991300   \n",
              "50%       1.000000     2.000000    40.749400  7.018256e+06   -73.977250   \n",
              "75%       1.000000     2.000000    40.774600  7.124196e+06   -73.952500   \n",
              "max       5.000000     6.000000    42.345900  7.724814e+06     0.000000   \n",
              "\n",
              "              price    price_lvl  features_cnt   photos_cnt  created_day  \\\n",
              "count  8.700000e+03  8700.000000   8700.000000  8700.000000  8700.000000   \n",
              "mean   3.399106e+03     0.590805      5.507241     5.710690    15.010115   \n",
              "std    1.164318e+04     0.793066      3.958349     3.051062     8.331663   \n",
              "min    6.950000e+02     0.000000      1.000000     1.000000     1.000000   \n",
              "25%    2.225000e+03     0.000000      2.000000     4.000000     8.000000   \n",
              "50%    2.856500e+03     0.000000      5.000000     5.000000    15.000000   \n",
              "75%    3.775000e+03     1.000000      8.000000     7.000000    22.000000   \n",
              "max    1.070000e+06     2.000000     39.000000    37.000000    31.000000   \n",
              "\n",
              "       created_hour  num_description_words  \n",
              "count   8700.000000            8700.000000  \n",
              "mean       5.448736              92.105747  \n",
              "std        4.601515              57.126271  \n",
              "min        0.000000               1.000000  \n",
              "25%        2.000000              53.000000  \n",
              "50%        4.000000              85.000000  \n",
              "75%        6.000000             121.000000  \n",
              "max       23.000000             563.000000  "
            ],
            "text/html": [
              "\n",
              "  <div id=\"df-2e48780e-6579-455a-a065-a6aeec2bdda1\">\n",
              "    <div class=\"colab-df-container\">\n",
              "      <div>\n",
              "<style scoped>\n",
              "    .dataframe tbody tr th:only-of-type {\n",
              "        vertical-align: middle;\n",
              "    }\n",
              "\n",
              "    .dataframe tbody tr th {\n",
              "        vertical-align: top;\n",
              "    }\n",
              "\n",
              "    .dataframe thead th {\n",
              "        text-align: right;\n",
              "    }\n",
              "</style>\n",
              "<table border=\"1\" class=\"dataframe\">\n",
              "  <thead>\n",
              "    <tr style=\"text-align: right;\">\n",
              "      <th></th>\n",
              "      <th>bathrooms</th>\n",
              "      <th>bedrooms</th>\n",
              "      <th>latitude</th>\n",
              "      <th>listing_id</th>\n",
              "      <th>longitude</th>\n",
              "      <th>price</th>\n",
              "      <th>price_lvl</th>\n",
              "      <th>features_cnt</th>\n",
              "      <th>photos_cnt</th>\n",
              "      <th>created_day</th>\n",
              "      <th>created_hour</th>\n",
              "      <th>num_description_words</th>\n",
              "    </tr>\n",
              "  </thead>\n",
              "  <tbody>\n",
              "    <tr>\n",
              "      <th>count</th>\n",
              "      <td>8700.000000</td>\n",
              "      <td>8700.000000</td>\n",
              "      <td>8700.000000</td>\n",
              "      <td>8.700000e+03</td>\n",
              "      <td>8700.000000</td>\n",
              "      <td>8.700000e+03</td>\n",
              "      <td>8700.000000</td>\n",
              "      <td>8700.000000</td>\n",
              "      <td>8700.000000</td>\n",
              "      <td>8700.000000</td>\n",
              "      <td>8700.000000</td>\n",
              "      <td>8700.000000</td>\n",
              "    </tr>\n",
              "    <tr>\n",
              "      <th>mean</th>\n",
              "      <td>1.177011</td>\n",
              "      <td>1.557586</td>\n",
              "      <td>40.741207</td>\n",
              "      <td>7.022226e+06</td>\n",
              "      <td>-73.952340</td>\n",
              "      <td>3.399106e+03</td>\n",
              "      <td>0.590805</td>\n",
              "      <td>5.507241</td>\n",
              "      <td>5.710690</td>\n",
              "      <td>15.010115</td>\n",
              "      <td>5.448736</td>\n",
              "      <td>92.105747</td>\n",
              "    </tr>\n",
              "    <tr>\n",
              "      <th>std</th>\n",
              "      <td>0.436693</td>\n",
              "      <td>1.125127</td>\n",
              "      <td>0.619608</td>\n",
              "      <td>1.236805e+05</td>\n",
              "      <td>1.122418</td>\n",
              "      <td>1.164318e+04</td>\n",
              "      <td>0.793066</td>\n",
              "      <td>3.958349</td>\n",
              "      <td>3.051062</td>\n",
              "      <td>8.331663</td>\n",
              "      <td>4.601515</td>\n",
              "      <td>57.126271</td>\n",
              "    </tr>\n",
              "    <tr>\n",
              "      <th>min</th>\n",
              "      <td>0.000000</td>\n",
              "      <td>0.000000</td>\n",
              "      <td>0.000000</td>\n",
              "      <td>6.811965e+06</td>\n",
              "      <td>-74.243200</td>\n",
              "      <td>6.950000e+02</td>\n",
              "      <td>0.000000</td>\n",
              "      <td>1.000000</td>\n",
              "      <td>1.000000</td>\n",
              "      <td>1.000000</td>\n",
              "      <td>0.000000</td>\n",
              "      <td>1.000000</td>\n",
              "    </tr>\n",
              "    <tr>\n",
              "      <th>25%</th>\n",
              "      <td>1.000000</td>\n",
              "      <td>1.000000</td>\n",
              "      <td>40.726900</td>\n",
              "      <td>6.917060e+06</td>\n",
              "      <td>-73.991300</td>\n",
              "      <td>2.225000e+03</td>\n",
              "      <td>0.000000</td>\n",
              "      <td>2.000000</td>\n",
              "      <td>4.000000</td>\n",
              "      <td>8.000000</td>\n",
              "      <td>2.000000</td>\n",
              "      <td>53.000000</td>\n",
              "    </tr>\n",
              "    <tr>\n",
              "      <th>50%</th>\n",
              "      <td>1.000000</td>\n",
              "      <td>2.000000</td>\n",
              "      <td>40.749400</td>\n",
              "      <td>7.018256e+06</td>\n",
              "      <td>-73.977250</td>\n",
              "      <td>2.856500e+03</td>\n",
              "      <td>0.000000</td>\n",
              "      <td>5.000000</td>\n",
              "      <td>5.000000</td>\n",
              "      <td>15.000000</td>\n",
              "      <td>4.000000</td>\n",
              "      <td>85.000000</td>\n",
              "    </tr>\n",
              "    <tr>\n",
              "      <th>75%</th>\n",
              "      <td>1.000000</td>\n",
              "      <td>2.000000</td>\n",
              "      <td>40.774600</td>\n",
              "      <td>7.124196e+06</td>\n",
              "      <td>-73.952500</td>\n",
              "      <td>3.775000e+03</td>\n",
              "      <td>1.000000</td>\n",
              "      <td>8.000000</td>\n",
              "      <td>7.000000</td>\n",
              "      <td>22.000000</td>\n",
              "      <td>6.000000</td>\n",
              "      <td>121.000000</td>\n",
              "    </tr>\n",
              "    <tr>\n",
              "      <th>max</th>\n",
              "      <td>5.000000</td>\n",
              "      <td>6.000000</td>\n",
              "      <td>42.345900</td>\n",
              "      <td>7.724814e+06</td>\n",
              "      <td>0.000000</td>\n",
              "      <td>1.070000e+06</td>\n",
              "      <td>2.000000</td>\n",
              "      <td>39.000000</td>\n",
              "      <td>37.000000</td>\n",
              "      <td>31.000000</td>\n",
              "      <td>23.000000</td>\n",
              "      <td>563.000000</td>\n",
              "    </tr>\n",
              "  </tbody>\n",
              "</table>\n",
              "</div>\n",
              "      <button class=\"colab-df-convert\" onclick=\"convertToInteractive('df-2e48780e-6579-455a-a065-a6aeec2bdda1')\"\n",
              "              title=\"Convert this dataframe to an interactive table.\"\n",
              "              style=\"display:none;\">\n",
              "        \n",
              "  <svg xmlns=\"http://www.w3.org/2000/svg\" height=\"24px\"viewBox=\"0 0 24 24\"\n",
              "       width=\"24px\">\n",
              "    <path d=\"M0 0h24v24H0V0z\" fill=\"none\"/>\n",
              "    <path d=\"M18.56 5.44l.94 2.06.94-2.06 2.06-.94-2.06-.94-.94-2.06-.94 2.06-2.06.94zm-11 1L8.5 8.5l.94-2.06 2.06-.94-2.06-.94L8.5 2.5l-.94 2.06-2.06.94zm10 10l.94 2.06.94-2.06 2.06-.94-2.06-.94-.94-2.06-.94 2.06-2.06.94z\"/><path d=\"M17.41 7.96l-1.37-1.37c-.4-.4-.92-.59-1.43-.59-.52 0-1.04.2-1.43.59L10.3 9.45l-7.72 7.72c-.78.78-.78 2.05 0 2.83L4 21.41c.39.39.9.59 1.41.59.51 0 1.02-.2 1.41-.59l7.78-7.78 2.81-2.81c.8-.78.8-2.07 0-2.86zM5.41 20L4 18.59l7.72-7.72 1.47 1.35L5.41 20z\"/>\n",
              "  </svg>\n",
              "      </button>\n",
              "      \n",
              "  <style>\n",
              "    .colab-df-container {\n",
              "      display:flex;\n",
              "      flex-wrap:wrap;\n",
              "      gap: 12px;\n",
              "    }\n",
              "\n",
              "    .colab-df-convert {\n",
              "      background-color: #E8F0FE;\n",
              "      border: none;\n",
              "      border-radius: 50%;\n",
              "      cursor: pointer;\n",
              "      display: none;\n",
              "      fill: #1967D2;\n",
              "      height: 32px;\n",
              "      padding: 0 0 0 0;\n",
              "      width: 32px;\n",
              "    }\n",
              "\n",
              "    .colab-df-convert:hover {\n",
              "      background-color: #E2EBFA;\n",
              "      box-shadow: 0px 1px 2px rgba(60, 64, 67, 0.3), 0px 1px 3px 1px rgba(60, 64, 67, 0.15);\n",
              "      fill: #174EA6;\n",
              "    }\n",
              "\n",
              "    [theme=dark] .colab-df-convert {\n",
              "      background-color: #3B4455;\n",
              "      fill: #D2E3FC;\n",
              "    }\n",
              "\n",
              "    [theme=dark] .colab-df-convert:hover {\n",
              "      background-color: #434B5C;\n",
              "      box-shadow: 0px 1px 3px 1px rgba(0, 0, 0, 0.15);\n",
              "      filter: drop-shadow(0px 1px 2px rgba(0, 0, 0, 0.3));\n",
              "      fill: #FFFFFF;\n",
              "    }\n",
              "  </style>\n",
              "\n",
              "      <script>\n",
              "        const buttonEl =\n",
              "          document.querySelector('#df-2e48780e-6579-455a-a065-a6aeec2bdda1 button.colab-df-convert');\n",
              "        buttonEl.style.display =\n",
              "          google.colab.kernel.accessAllowed ? 'block' : 'none';\n",
              "\n",
              "        async function convertToInteractive(key) {\n",
              "          const element = document.querySelector('#df-2e48780e-6579-455a-a065-a6aeec2bdda1');\n",
              "          const dataTable =\n",
              "            await google.colab.kernel.invokeFunction('convertToInteractive',\n",
              "                                                     [key], {});\n",
              "          if (!dataTable) return;\n",
              "\n",
              "          const docLinkHtml = 'Like what you see? Visit the ' +\n",
              "            '<a target=\"_blank\" href=https://colab.research.google.com/notebooks/data_table.ipynb>data table notebook</a>'\n",
              "            + ' to learn more about interactive tables.';\n",
              "          element.innerHTML = '';\n",
              "          dataTable['output_type'] = 'display_data';\n",
              "          await google.colab.output.renderOutput(dataTable, element);\n",
              "          const docLink = document.createElement('div');\n",
              "          docLink.innerHTML = docLinkHtml;\n",
              "          element.appendChild(docLink);\n",
              "        }\n",
              "      </script>\n",
              "    </div>\n",
              "  </div>\n",
              "  "
            ]
          },
          "metadata": {},
          "execution_count": 111
        }
      ]
    },
    {
      "cell_type": "code",
      "source": [
        "test.describe()"
      ],
      "metadata": {
        "execution": {
          "iopub.status.busy": "2022-12-13T18:22:19.766898Z",
          "iopub.execute_input": "2022-12-13T18:22:19.767630Z",
          "iopub.status.idle": "2022-12-13T18:22:19.805591Z",
          "shell.execute_reply.started": "2022-12-13T18:22:19.767583Z",
          "shell.execute_reply": "2022-12-13T18:22:19.804197Z"
        },
        "trusted": true,
        "colab": {
          "base_uri": "https://localhost:8080/",
          "height": 300
        },
        "id": "t8DwTKm-y51a",
        "outputId": "fa7798c8-402d-407c-b3ec-02080cf73a9d"
      },
      "execution_count": 112,
      "outputs": [
        {
          "output_type": "execute_result",
          "data": {
            "text/plain": [
              "         bathrooms     bedrooms     latitude    listing_id    longitude  \\\n",
              "count  9871.000000  9871.000000  9871.000000  9.871000e+03  9871.000000   \n",
              "mean      1.209807     1.554351    40.751866  7.022246e+06   -73.974056   \n",
              "std       0.497154     1.099811     0.068352  1.255009e+05     0.137458   \n",
              "min       0.000000     0.000000    39.839500  6.811957e+06   -86.152700   \n",
              "25%       1.000000     1.000000    40.728300  6.915255e+06   -73.991700   \n",
              "50%       1.000000     1.000000    40.751800  7.019807e+06   -73.978100   \n",
              "75%       1.000000     2.000000    40.773600  7.124604e+06   -73.955500   \n",
              "max       5.500000     6.000000    44.603800  7.731327e+06   -70.984600   \n",
              "\n",
              "              price  \n",
              "count  9.871000e+03  \n",
              "mean   4.142879e+03  \n",
              "std    4.522860e+04  \n",
              "min    9.990000e+02  \n",
              "25%    2.500000e+03  \n",
              "50%    3.150000e+03  \n",
              "75%    4.100000e+03  \n",
              "max    4.490000e+06  "
            ],
            "text/html": [
              "\n",
              "  <div id=\"df-25669463-d01d-4a91-b69f-00aa1d65fcf0\">\n",
              "    <div class=\"colab-df-container\">\n",
              "      <div>\n",
              "<style scoped>\n",
              "    .dataframe tbody tr th:only-of-type {\n",
              "        vertical-align: middle;\n",
              "    }\n",
              "\n",
              "    .dataframe tbody tr th {\n",
              "        vertical-align: top;\n",
              "    }\n",
              "\n",
              "    .dataframe thead th {\n",
              "        text-align: right;\n",
              "    }\n",
              "</style>\n",
              "<table border=\"1\" class=\"dataframe\">\n",
              "  <thead>\n",
              "    <tr style=\"text-align: right;\">\n",
              "      <th></th>\n",
              "      <th>bathrooms</th>\n",
              "      <th>bedrooms</th>\n",
              "      <th>latitude</th>\n",
              "      <th>listing_id</th>\n",
              "      <th>longitude</th>\n",
              "      <th>price</th>\n",
              "    </tr>\n",
              "  </thead>\n",
              "  <tbody>\n",
              "    <tr>\n",
              "      <th>count</th>\n",
              "      <td>9871.000000</td>\n",
              "      <td>9871.000000</td>\n",
              "      <td>9871.000000</td>\n",
              "      <td>9.871000e+03</td>\n",
              "      <td>9871.000000</td>\n",
              "      <td>9.871000e+03</td>\n",
              "    </tr>\n",
              "    <tr>\n",
              "      <th>mean</th>\n",
              "      <td>1.209807</td>\n",
              "      <td>1.554351</td>\n",
              "      <td>40.751866</td>\n",
              "      <td>7.022246e+06</td>\n",
              "      <td>-73.974056</td>\n",
              "      <td>4.142879e+03</td>\n",
              "    </tr>\n",
              "    <tr>\n",
              "      <th>std</th>\n",
              "      <td>0.497154</td>\n",
              "      <td>1.099811</td>\n",
              "      <td>0.068352</td>\n",
              "      <td>1.255009e+05</td>\n",
              "      <td>0.137458</td>\n",
              "      <td>4.522860e+04</td>\n",
              "    </tr>\n",
              "    <tr>\n",
              "      <th>min</th>\n",
              "      <td>0.000000</td>\n",
              "      <td>0.000000</td>\n",
              "      <td>39.839500</td>\n",
              "      <td>6.811957e+06</td>\n",
              "      <td>-86.152700</td>\n",
              "      <td>9.990000e+02</td>\n",
              "    </tr>\n",
              "    <tr>\n",
              "      <th>25%</th>\n",
              "      <td>1.000000</td>\n",
              "      <td>1.000000</td>\n",
              "      <td>40.728300</td>\n",
              "      <td>6.915255e+06</td>\n",
              "      <td>-73.991700</td>\n",
              "      <td>2.500000e+03</td>\n",
              "    </tr>\n",
              "    <tr>\n",
              "      <th>50%</th>\n",
              "      <td>1.000000</td>\n",
              "      <td>1.000000</td>\n",
              "      <td>40.751800</td>\n",
              "      <td>7.019807e+06</td>\n",
              "      <td>-73.978100</td>\n",
              "      <td>3.150000e+03</td>\n",
              "    </tr>\n",
              "    <tr>\n",
              "      <th>75%</th>\n",
              "      <td>1.000000</td>\n",
              "      <td>2.000000</td>\n",
              "      <td>40.773600</td>\n",
              "      <td>7.124604e+06</td>\n",
              "      <td>-73.955500</td>\n",
              "      <td>4.100000e+03</td>\n",
              "    </tr>\n",
              "    <tr>\n",
              "      <th>max</th>\n",
              "      <td>5.500000</td>\n",
              "      <td>6.000000</td>\n",
              "      <td>44.603800</td>\n",
              "      <td>7.731327e+06</td>\n",
              "      <td>-70.984600</td>\n",
              "      <td>4.490000e+06</td>\n",
              "    </tr>\n",
              "  </tbody>\n",
              "</table>\n",
              "</div>\n",
              "      <button class=\"colab-df-convert\" onclick=\"convertToInteractive('df-25669463-d01d-4a91-b69f-00aa1d65fcf0')\"\n",
              "              title=\"Convert this dataframe to an interactive table.\"\n",
              "              style=\"display:none;\">\n",
              "        \n",
              "  <svg xmlns=\"http://www.w3.org/2000/svg\" height=\"24px\"viewBox=\"0 0 24 24\"\n",
              "       width=\"24px\">\n",
              "    <path d=\"M0 0h24v24H0V0z\" fill=\"none\"/>\n",
              "    <path d=\"M18.56 5.44l.94 2.06.94-2.06 2.06-.94-2.06-.94-.94-2.06-.94 2.06-2.06.94zm-11 1L8.5 8.5l.94-2.06 2.06-.94-2.06-.94L8.5 2.5l-.94 2.06-2.06.94zm10 10l.94 2.06.94-2.06 2.06-.94-2.06-.94-.94-2.06-.94 2.06-2.06.94z\"/><path d=\"M17.41 7.96l-1.37-1.37c-.4-.4-.92-.59-1.43-.59-.52 0-1.04.2-1.43.59L10.3 9.45l-7.72 7.72c-.78.78-.78 2.05 0 2.83L4 21.41c.39.39.9.59 1.41.59.51 0 1.02-.2 1.41-.59l7.78-7.78 2.81-2.81c.8-.78.8-2.07 0-2.86zM5.41 20L4 18.59l7.72-7.72 1.47 1.35L5.41 20z\"/>\n",
              "  </svg>\n",
              "      </button>\n",
              "      \n",
              "  <style>\n",
              "    .colab-df-container {\n",
              "      display:flex;\n",
              "      flex-wrap:wrap;\n",
              "      gap: 12px;\n",
              "    }\n",
              "\n",
              "    .colab-df-convert {\n",
              "      background-color: #E8F0FE;\n",
              "      border: none;\n",
              "      border-radius: 50%;\n",
              "      cursor: pointer;\n",
              "      display: none;\n",
              "      fill: #1967D2;\n",
              "      height: 32px;\n",
              "      padding: 0 0 0 0;\n",
              "      width: 32px;\n",
              "    }\n",
              "\n",
              "    .colab-df-convert:hover {\n",
              "      background-color: #E2EBFA;\n",
              "      box-shadow: 0px 1px 2px rgba(60, 64, 67, 0.3), 0px 1px 3px 1px rgba(60, 64, 67, 0.15);\n",
              "      fill: #174EA6;\n",
              "    }\n",
              "\n",
              "    [theme=dark] .colab-df-convert {\n",
              "      background-color: #3B4455;\n",
              "      fill: #D2E3FC;\n",
              "    }\n",
              "\n",
              "    [theme=dark] .colab-df-convert:hover {\n",
              "      background-color: #434B5C;\n",
              "      box-shadow: 0px 1px 3px 1px rgba(0, 0, 0, 0.15);\n",
              "      filter: drop-shadow(0px 1px 2px rgba(0, 0, 0, 0.3));\n",
              "      fill: #FFFFFF;\n",
              "    }\n",
              "  </style>\n",
              "\n",
              "      <script>\n",
              "        const buttonEl =\n",
              "          document.querySelector('#df-25669463-d01d-4a91-b69f-00aa1d65fcf0 button.colab-df-convert');\n",
              "        buttonEl.style.display =\n",
              "          google.colab.kernel.accessAllowed ? 'block' : 'none';\n",
              "\n",
              "        async function convertToInteractive(key) {\n",
              "          const element = document.querySelector('#df-25669463-d01d-4a91-b69f-00aa1d65fcf0');\n",
              "          const dataTable =\n",
              "            await google.colab.kernel.invokeFunction('convertToInteractive',\n",
              "                                                     [key], {});\n",
              "          if (!dataTable) return;\n",
              "\n",
              "          const docLinkHtml = 'Like what you see? Visit the ' +\n",
              "            '<a target=\"_blank\" href=https://colab.research.google.com/notebooks/data_table.ipynb>data table notebook</a>'\n",
              "            + ' to learn more about interactive tables.';\n",
              "          element.innerHTML = '';\n",
              "          dataTable['output_type'] = 'display_data';\n",
              "          await google.colab.output.renderOutput(dataTable, element);\n",
              "          const docLink = document.createElement('div');\n",
              "          docLink.innerHTML = docLinkHtml;\n",
              "          element.appendChild(docLink);\n",
              "        }\n",
              "      </script>\n",
              "    </div>\n",
              "  </div>\n",
              "  "
            ]
          },
          "metadata": {},
          "execution_count": 112
        }
      ]
    },
    {
      "cell_type": "code",
      "source": [
        "import seaborn"
      ],
      "metadata": {
        "execution": {
          "iopub.status.busy": "2022-12-13T18:22:19.814764Z",
          "iopub.execute_input": "2022-12-13T18:22:19.815194Z",
          "iopub.status.idle": "2022-12-13T18:22:19.820826Z",
          "shell.execute_reply.started": "2022-12-13T18:22:19.815157Z",
          "shell.execute_reply": "2022-12-13T18:22:19.819579Z"
        },
        "trusted": true,
        "id": "Mk5mAT2Py51a"
      },
      "execution_count": 113,
      "outputs": []
    },
    {
      "cell_type": "markdown",
      "source": [
        "### Удаляем выбросы"
      ],
      "metadata": {
        "id": "fBStvQeIy51a"
      }
    },
    {
      "cell_type": "code",
      "source": [
        "train = train.drop(['created'], axis=1)\n",
        "train.columns"
      ],
      "metadata": {
        "execution": {
          "iopub.status.busy": "2022-12-13T18:22:19.822626Z",
          "iopub.execute_input": "2022-12-13T18:22:19.823753Z",
          "iopub.status.idle": "2022-12-13T18:22:19.838901Z",
          "shell.execute_reply.started": "2022-12-13T18:22:19.823703Z",
          "shell.execute_reply": "2022-12-13T18:22:19.837470Z"
        },
        "trusted": true,
        "colab": {
          "base_uri": "https://localhost:8080/"
        },
        "id": "eI-h9RiNy51a",
        "outputId": "39220e45-2c3a-4a73-ed45-fe32841fd00e"
      },
      "execution_count": 114,
      "outputs": [
        {
          "output_type": "execute_result",
          "data": {
            "text/plain": [
              "Index(['bathrooms', 'bedrooms', 'building_id', 'description',\n",
              "       'display_address', 'features', 'latitude', 'listing_id', 'longitude',\n",
              "       'manager_id', 'photos', 'price', 'street_address', 'interest_level',\n",
              "       'price_lvl', 'features_cnt', 'photos_cnt', 'created_day',\n",
              "       'created_hour', 'num_description_words'],\n",
              "      dtype='object')"
            ]
          },
          "metadata": {},
          "execution_count": 114
        }
      ]
    },
    {
      "cell_type": "code",
      "source": [
        "#Вычисляем строки со значениями-выбросами \n",
        "first_quartile = train.quantile(q=0.25)\n",
        "third_quartile = train.quantile(q=0.75)\n",
        "IQR = third_quartile - first_quartile\n",
        "outliers = train[(train > (third_quartile + 1.5 * IQR)) | (train < (first_quartile - 1.5 * IQR))].count(axis=1)\n",
        "outliers.sort_values(axis=0, ascending=False, inplace=True)\n",
        "\n",
        "#Удаляем из датафрейма 1500 строк, подходящих под критерии выбросов\n",
        "outliers = outliers.head(1500)\n",
        "train.drop(outliers.index, inplace=True)\n",
        "train.shape"
      ],
      "metadata": {
        "execution": {
          "iopub.status.busy": "2022-12-13T18:22:19.840904Z",
          "iopub.execute_input": "2022-12-13T18:22:19.842219Z",
          "iopub.status.idle": "2022-12-13T18:22:19.902943Z",
          "shell.execute_reply.started": "2022-12-13T18:22:19.842171Z",
          "shell.execute_reply": "2022-12-13T18:22:19.901818Z"
        },
        "trusted": true,
        "colab": {
          "base_uri": "https://localhost:8080/"
        },
        "id": "llDmehSNy51b",
        "outputId": "31d4c7a5-9111-4b38-aa6a-632b902c1be9"
      },
      "execution_count": 115,
      "outputs": [
        {
          "output_type": "stream",
          "name": "stderr",
          "text": [
            "<ipython-input-115-7269cc0cc2e1>:5: FutureWarning: Automatic reindexing on DataFrame vs Series comparisons is deprecated and will raise ValueError in a future version.  Do `left, right = left.align(right, axis=1, copy=False)` before e.g. `left == right`\n",
            "  outliers = train[(train > (third_quartile + 1.5 * IQR)) | (train < (first_quartile - 1.5 * IQR))].count(axis=1)\n"
          ]
        },
        {
          "output_type": "execute_result",
          "data": {
            "text/plain": [
              "(7200, 20)"
            ]
          },
          "metadata": {},
          "execution_count": 115
        }
      ]
    },
    {
      "cell_type": "markdown",
      "source": [
        "## 2. Тестирование различных алгоритмов\n",
        "\n",
        "Для выполнения этой части задания разбейте размеченные данные на train и test и напишите автоматическое тестирование разных алгоритмов классификации в цикле с вычислением метрики f1_score('macro')\n",
        "\n",
        "Метрику на тесте по разным алгоритмам сохраняйте в датафрейм или выводите"
      ],
      "metadata": {
        "id": "rWCxr7nfy51b"
      }
    },
    {
      "cell_type": "code",
      "source": [
        "from sklearn.model_selection import train_test_split, StratifiedKFold, RandomizedSearchCV\n",
        "from sklearn.preprocessing import StandardScaler, Normalizer\n",
        "from sklearn.neural_network import MLPClassifier\n",
        "from sklearn.neighbors import KNeighborsClassifier\n",
        "from sklearn.svm import SVC\n",
        "from sklearn.gaussian_process import GaussianProcessClassifier\n",
        "from sklearn.tree import DecisionTreeClassifier\n",
        "from sklearn.ensemble import RandomForestClassifier, AdaBoostClassifier\n",
        "from sklearn.naive_bayes import GaussianNB\n",
        "from sklearn.discriminant_analysis import QuadraticDiscriminantAnalysis\n",
        "from xgboost import XGBClassifier\n",
        "from sklearn.metrics import accuracy_score, f1_score, average_precision_score, roc_auc_score, classification_report, precision_score, recall_score\n",
        "import joblib"
      ],
      "metadata": {
        "execution": {
          "iopub.status.busy": "2022-12-13T18:22:19.904901Z",
          "iopub.execute_input": "2022-12-13T18:22:19.905640Z",
          "iopub.status.idle": "2022-12-13T18:22:19.914622Z",
          "shell.execute_reply.started": "2022-12-13T18:22:19.905598Z",
          "shell.execute_reply": "2022-12-13T18:22:19.913418Z"
        },
        "trusted": true,
        "id": "uUwzaBbwy51b"
      },
      "execution_count": 116,
      "outputs": []
    },
    {
      "cell_type": "code",
      "source": [
        "train[features].head()"
      ],
      "metadata": {
        "execution": {
          "iopub.status.busy": "2022-12-13T18:22:19.915895Z",
          "iopub.execute_input": "2022-12-13T18:22:19.916304Z",
          "iopub.status.idle": "2022-12-13T18:22:19.942648Z",
          "shell.execute_reply.started": "2022-12-13T18:22:19.916271Z",
          "shell.execute_reply": "2022-12-13T18:22:19.941425Z"
        },
        "trusted": true,
        "colab": {
          "base_uri": "https://localhost:8080/",
          "height": 206
        },
        "id": "_a2qgk_zy51c",
        "outputId": "a89c5e57-f9cd-42f6-ce24-ce42febaf035"
      },
      "execution_count": 117,
      "outputs": [
        {
          "output_type": "execute_result",
          "data": {
            "text/plain": [
              "       bathrooms  bedrooms  latitude  longitude  price  features_cnt  \\\n",
              "13493        1.0         0   40.7551   -73.9928   3395            10   \n",
              "37226        1.0         1   40.7283   -73.9857   2300             1   \n",
              "33484        1.0         1   40.7779   -73.9525   4000            14   \n",
              "17747        1.0         2   40.6223   -73.9633   2300             3   \n",
              "16984        0.0         2   40.7216   -73.9808   3250             1   \n",
              "\n",
              "       photos_cnt  created_day  created_hour  num_description_words  \n",
              "13493           1           19             1                      1  \n",
              "37226           6           13             4                     54  \n",
              "33484           7           21             3                    113  \n",
              "17747           5            1             1                     62  \n",
              "16984           1           18             3                      9  "
            ],
            "text/html": [
              "\n",
              "  <div id=\"df-6830bd98-cac2-4dc5-82c0-76f62d1adb86\">\n",
              "    <div class=\"colab-df-container\">\n",
              "      <div>\n",
              "<style scoped>\n",
              "    .dataframe tbody tr th:only-of-type {\n",
              "        vertical-align: middle;\n",
              "    }\n",
              "\n",
              "    .dataframe tbody tr th {\n",
              "        vertical-align: top;\n",
              "    }\n",
              "\n",
              "    .dataframe thead th {\n",
              "        text-align: right;\n",
              "    }\n",
              "</style>\n",
              "<table border=\"1\" class=\"dataframe\">\n",
              "  <thead>\n",
              "    <tr style=\"text-align: right;\">\n",
              "      <th></th>\n",
              "      <th>bathrooms</th>\n",
              "      <th>bedrooms</th>\n",
              "      <th>latitude</th>\n",
              "      <th>longitude</th>\n",
              "      <th>price</th>\n",
              "      <th>features_cnt</th>\n",
              "      <th>photos_cnt</th>\n",
              "      <th>created_day</th>\n",
              "      <th>created_hour</th>\n",
              "      <th>num_description_words</th>\n",
              "    </tr>\n",
              "  </thead>\n",
              "  <tbody>\n",
              "    <tr>\n",
              "      <th>13493</th>\n",
              "      <td>1.0</td>\n",
              "      <td>0</td>\n",
              "      <td>40.7551</td>\n",
              "      <td>-73.9928</td>\n",
              "      <td>3395</td>\n",
              "      <td>10</td>\n",
              "      <td>1</td>\n",
              "      <td>19</td>\n",
              "      <td>1</td>\n",
              "      <td>1</td>\n",
              "    </tr>\n",
              "    <tr>\n",
              "      <th>37226</th>\n",
              "      <td>1.0</td>\n",
              "      <td>1</td>\n",
              "      <td>40.7283</td>\n",
              "      <td>-73.9857</td>\n",
              "      <td>2300</td>\n",
              "      <td>1</td>\n",
              "      <td>6</td>\n",
              "      <td>13</td>\n",
              "      <td>4</td>\n",
              "      <td>54</td>\n",
              "    </tr>\n",
              "    <tr>\n",
              "      <th>33484</th>\n",
              "      <td>1.0</td>\n",
              "      <td>1</td>\n",
              "      <td>40.7779</td>\n",
              "      <td>-73.9525</td>\n",
              "      <td>4000</td>\n",
              "      <td>14</td>\n",
              "      <td>7</td>\n",
              "      <td>21</td>\n",
              "      <td>3</td>\n",
              "      <td>113</td>\n",
              "    </tr>\n",
              "    <tr>\n",
              "      <th>17747</th>\n",
              "      <td>1.0</td>\n",
              "      <td>2</td>\n",
              "      <td>40.6223</td>\n",
              "      <td>-73.9633</td>\n",
              "      <td>2300</td>\n",
              "      <td>3</td>\n",
              "      <td>5</td>\n",
              "      <td>1</td>\n",
              "      <td>1</td>\n",
              "      <td>62</td>\n",
              "    </tr>\n",
              "    <tr>\n",
              "      <th>16984</th>\n",
              "      <td>0.0</td>\n",
              "      <td>2</td>\n",
              "      <td>40.7216</td>\n",
              "      <td>-73.9808</td>\n",
              "      <td>3250</td>\n",
              "      <td>1</td>\n",
              "      <td>1</td>\n",
              "      <td>18</td>\n",
              "      <td>3</td>\n",
              "      <td>9</td>\n",
              "    </tr>\n",
              "  </tbody>\n",
              "</table>\n",
              "</div>\n",
              "      <button class=\"colab-df-convert\" onclick=\"convertToInteractive('df-6830bd98-cac2-4dc5-82c0-76f62d1adb86')\"\n",
              "              title=\"Convert this dataframe to an interactive table.\"\n",
              "              style=\"display:none;\">\n",
              "        \n",
              "  <svg xmlns=\"http://www.w3.org/2000/svg\" height=\"24px\"viewBox=\"0 0 24 24\"\n",
              "       width=\"24px\">\n",
              "    <path d=\"M0 0h24v24H0V0z\" fill=\"none\"/>\n",
              "    <path d=\"M18.56 5.44l.94 2.06.94-2.06 2.06-.94-2.06-.94-.94-2.06-.94 2.06-2.06.94zm-11 1L8.5 8.5l.94-2.06 2.06-.94-2.06-.94L8.5 2.5l-.94 2.06-2.06.94zm10 10l.94 2.06.94-2.06 2.06-.94-2.06-.94-.94-2.06-.94 2.06-2.06.94z\"/><path d=\"M17.41 7.96l-1.37-1.37c-.4-.4-.92-.59-1.43-.59-.52 0-1.04.2-1.43.59L10.3 9.45l-7.72 7.72c-.78.78-.78 2.05 0 2.83L4 21.41c.39.39.9.59 1.41.59.51 0 1.02-.2 1.41-.59l7.78-7.78 2.81-2.81c.8-.78.8-2.07 0-2.86zM5.41 20L4 18.59l7.72-7.72 1.47 1.35L5.41 20z\"/>\n",
              "  </svg>\n",
              "      </button>\n",
              "      \n",
              "  <style>\n",
              "    .colab-df-container {\n",
              "      display:flex;\n",
              "      flex-wrap:wrap;\n",
              "      gap: 12px;\n",
              "    }\n",
              "\n",
              "    .colab-df-convert {\n",
              "      background-color: #E8F0FE;\n",
              "      border: none;\n",
              "      border-radius: 50%;\n",
              "      cursor: pointer;\n",
              "      display: none;\n",
              "      fill: #1967D2;\n",
              "      height: 32px;\n",
              "      padding: 0 0 0 0;\n",
              "      width: 32px;\n",
              "    }\n",
              "\n",
              "    .colab-df-convert:hover {\n",
              "      background-color: #E2EBFA;\n",
              "      box-shadow: 0px 1px 2px rgba(60, 64, 67, 0.3), 0px 1px 3px 1px rgba(60, 64, 67, 0.15);\n",
              "      fill: #174EA6;\n",
              "    }\n",
              "\n",
              "    [theme=dark] .colab-df-convert {\n",
              "      background-color: #3B4455;\n",
              "      fill: #D2E3FC;\n",
              "    }\n",
              "\n",
              "    [theme=dark] .colab-df-convert:hover {\n",
              "      background-color: #434B5C;\n",
              "      box-shadow: 0px 1px 3px 1px rgba(0, 0, 0, 0.15);\n",
              "      filter: drop-shadow(0px 1px 2px rgba(0, 0, 0, 0.3));\n",
              "      fill: #FFFFFF;\n",
              "    }\n",
              "  </style>\n",
              "\n",
              "      <script>\n",
              "        const buttonEl =\n",
              "          document.querySelector('#df-6830bd98-cac2-4dc5-82c0-76f62d1adb86 button.colab-df-convert');\n",
              "        buttonEl.style.display =\n",
              "          google.colab.kernel.accessAllowed ? 'block' : 'none';\n",
              "\n",
              "        async function convertToInteractive(key) {\n",
              "          const element = document.querySelector('#df-6830bd98-cac2-4dc5-82c0-76f62d1adb86');\n",
              "          const dataTable =\n",
              "            await google.colab.kernel.invokeFunction('convertToInteractive',\n",
              "                                                     [key], {});\n",
              "          if (!dataTable) return;\n",
              "\n",
              "          const docLinkHtml = 'Like what you see? Visit the ' +\n",
              "            '<a target=\"_blank\" href=https://colab.research.google.com/notebooks/data_table.ipynb>data table notebook</a>'\n",
              "            + ' to learn more about interactive tables.';\n",
              "          element.innerHTML = '';\n",
              "          dataTable['output_type'] = 'display_data';\n",
              "          await google.colab.output.renderOutput(dataTable, element);\n",
              "          const docLink = document.createElement('div');\n",
              "          docLink.innerHTML = docLinkHtml;\n",
              "          element.appendChild(docLink);\n",
              "        }\n",
              "      </script>\n",
              "    </div>\n",
              "  </div>\n",
              "  "
            ]
          },
          "metadata": {},
          "execution_count": 117
        }
      ]
    },
    {
      "cell_type": "code",
      "source": [
        "mapper={\n",
        "        'low':0,\n",
        "        'medium':1,\n",
        "        'high':2\n",
        "       }"
      ],
      "metadata": {
        "execution": {
          "iopub.status.busy": "2022-12-13T18:22:19.944417Z",
          "iopub.execute_input": "2022-12-13T18:22:19.945681Z",
          "iopub.status.idle": "2022-12-13T18:22:19.951614Z",
          "shell.execute_reply.started": "2022-12-13T18:22:19.945621Z",
          "shell.execute_reply": "2022-12-13T18:22:19.950100Z"
        },
        "trusted": true,
        "id": "5L_wZAQ6y51c"
      },
      "execution_count": 118,
      "outputs": []
    },
    {
      "cell_type": "code",
      "source": [
        "train['interest_level'] = train['interest_level'].apply(lambda x: mapper[x])"
      ],
      "metadata": {
        "execution": {
          "iopub.status.busy": "2022-12-13T18:22:19.953301Z",
          "iopub.execute_input": "2022-12-13T18:22:19.954598Z",
          "iopub.status.idle": "2022-12-13T18:22:19.969103Z",
          "shell.execute_reply.started": "2022-12-13T18:22:19.954547Z",
          "shell.execute_reply": "2022-12-13T18:22:19.967754Z"
        },
        "trusted": true,
        "id": "cQv2w6qhy51c"
      },
      "execution_count": 119,
      "outputs": []
    },
    {
      "cell_type": "code",
      "source": [
        "train['interest_level'].value_counts(normalize=True)"
      ],
      "metadata": {
        "execution": {
          "iopub.status.busy": "2022-12-13T18:22:19.971025Z",
          "iopub.execute_input": "2022-12-13T18:22:19.972228Z",
          "iopub.status.idle": "2022-12-13T18:22:19.985505Z",
          "shell.execute_reply.started": "2022-12-13T18:22:19.972177Z",
          "shell.execute_reply": "2022-12-13T18:22:19.984315Z"
        },
        "trusted": true,
        "colab": {
          "base_uri": "https://localhost:8080/"
        },
        "id": "E7VPPkJSy51c",
        "outputId": "5af255f6-f3ce-4cc3-b75b-99ec15c988d9"
      },
      "execution_count": 120,
      "outputs": [
        {
          "output_type": "execute_result",
          "data": {
            "text/plain": [
              "1    0.341944\n",
              "2    0.333194\n",
              "0    0.324861\n",
              "Name: interest_level, dtype: float64"
            ]
          },
          "metadata": {},
          "execution_count": 120
        }
      ]
    },
    {
      "cell_type": "code",
      "source": [
        "features"
      ],
      "metadata": {
        "execution": {
          "iopub.status.busy": "2022-12-13T18:22:19.988436Z",
          "iopub.execute_input": "2022-12-13T18:22:19.988936Z",
          "iopub.status.idle": "2022-12-13T18:22:19.999235Z",
          "shell.execute_reply.started": "2022-12-13T18:22:19.988892Z",
          "shell.execute_reply": "2022-12-13T18:22:19.997453Z"
        },
        "trusted": true,
        "colab": {
          "base_uri": "https://localhost:8080/"
        },
        "id": "baL76y_Cy51c",
        "outputId": "822be468-638c-4c1e-c545-406be1a086d8"
      },
      "execution_count": 121,
      "outputs": [
        {
          "output_type": "execute_result",
          "data": {
            "text/plain": [
              "['bathrooms',\n",
              " 'bedrooms',\n",
              " 'latitude',\n",
              " 'longitude',\n",
              " 'price',\n",
              " 'features_cnt',\n",
              " 'photos_cnt',\n",
              " 'created_day',\n",
              " 'created_hour',\n",
              " 'num_description_words']"
            ]
          },
          "metadata": {},
          "execution_count": 121
        }
      ]
    },
    {
      "cell_type": "code",
      "source": [
        "scaler = StandardScaler()\n",
        "scaled_train = scaler.fit_transform(train[features])"
      ],
      "metadata": {
        "execution": {
          "iopub.status.busy": "2022-12-13T18:22:20.001385Z",
          "iopub.execute_input": "2022-12-13T18:22:20.002352Z",
          "iopub.status.idle": "2022-12-13T18:22:20.018935Z",
          "shell.execute_reply.started": "2022-12-13T18:22:20.002307Z",
          "shell.execute_reply": "2022-12-13T18:22:20.017853Z"
        },
        "trusted": true,
        "id": "WLuzskPoy51d"
      },
      "execution_count": 122,
      "outputs": []
    },
    {
      "cell_type": "code",
      "source": [
        "len(features)"
      ],
      "metadata": {
        "execution": {
          "iopub.status.busy": "2022-12-13T18:22:20.020801Z",
          "iopub.execute_input": "2022-12-13T18:22:20.021243Z",
          "iopub.status.idle": "2022-12-13T18:22:20.029694Z",
          "shell.execute_reply.started": "2022-12-13T18:22:20.021185Z",
          "shell.execute_reply": "2022-12-13T18:22:20.028447Z"
        },
        "trusted": true,
        "colab": {
          "base_uri": "https://localhost:8080/"
        },
        "id": "21zGTzI2y51d",
        "outputId": "8bd30b10-0141-446d-8eba-368944b4e326"
      },
      "execution_count": 123,
      "outputs": [
        {
          "output_type": "execute_result",
          "data": {
            "text/plain": [
              "10"
            ]
          },
          "metadata": {},
          "execution_count": 123
        }
      ]
    },
    {
      "cell_type": "code",
      "source": [
        "pd.DataFrame(scaled_train).describe()"
      ],
      "metadata": {
        "execution": {
          "iopub.status.busy": "2022-12-13T18:22:20.031245Z",
          "iopub.execute_input": "2022-12-13T18:22:20.032258Z",
          "iopub.status.idle": "2022-12-13T18:22:20.097326Z",
          "shell.execute_reply.started": "2022-12-13T18:22:20.032219Z",
          "shell.execute_reply": "2022-12-13T18:22:20.096085Z"
        },
        "trusted": true,
        "colab": {
          "base_uri": "https://localhost:8080/",
          "height": 300
        },
        "id": "rNqa6t5hy51d",
        "outputId": "17cec604-5158-43a2-e83e-23f9ddeb260d"
      },
      "execution_count": 124,
      "outputs": [
        {
          "output_type": "execute_result",
          "data": {
            "text/plain": [
              "                  0             1             2             3             4  \\\n",
              "count  7.200000e+03  7.200000e+03  7.200000e+03  7.200000e+03  7.200000e+03   \n",
              "mean  -2.171103e-16  2.368476e-17 -9.349163e-14  2.513348e-13  6.315935e-17   \n",
              "std    1.000069e+00  1.000069e+00  1.000069e+00  1.000069e+00  1.000069e+00   \n",
              "min   -4.003514e+00 -1.375377e+00 -4.361907e+00 -8.405899e+00 -2.230992e+00   \n",
              "25%   -2.718420e-01 -3.813282e-01 -5.663653e-01 -6.616396e-01 -7.463233e-01   \n",
              "50%   -2.718420e-01 -3.813282e-01  4.953152e-03 -2.008713e-01 -1.593612e-01   \n",
              "75%   -2.718420e-01  6.127207e-01  5.713036e-01  6.184586e-01  5.311825e-01   \n",
              "max    7.191503e+00  2.600819e+00  3.596807e+00  7.457936e+00  1.077096e+01   \n",
              "\n",
              "                  5             6             7             8             9  \n",
              "count  7.200000e+03  7.200000e+03  7.200000e+03  7.200000e+03  7.200000e+03  \n",
              "mean  -3.157968e-17 -9.079157e-17 -9.868649e-17  3.157968e-17  3.947460e-17  \n",
              "std    1.000069e+00  1.000069e+00  1.000069e+00  1.000069e+00  1.000069e+00  \n",
              "min   -1.150702e+00 -1.701829e+00 -1.664405e+00 -1.207655e+00 -1.669034e+00  \n",
              "25%   -8.861477e-01 -5.306966e-01 -8.314917e-01 -7.307007e-01 -7.005208e-01  \n",
              "50%   -3.570385e-01 -1.403190e-01  1.421240e-03 -2.537464e-01 -9.282637e-02  \n",
              "75%    7.011800e-01  6.404361e-01  8.343342e-01  2.232080e-01  5.338585e-01  \n",
              "max    4.934054e+00  1.039987e+01  1.905222e+00  4.277320e+00  9.003599e+00  "
            ],
            "text/html": [
              "\n",
              "  <div id=\"df-c0e41d24-403c-4bb1-9917-4b9baff31e63\">\n",
              "    <div class=\"colab-df-container\">\n",
              "      <div>\n",
              "<style scoped>\n",
              "    .dataframe tbody tr th:only-of-type {\n",
              "        vertical-align: middle;\n",
              "    }\n",
              "\n",
              "    .dataframe tbody tr th {\n",
              "        vertical-align: top;\n",
              "    }\n",
              "\n",
              "    .dataframe thead th {\n",
              "        text-align: right;\n",
              "    }\n",
              "</style>\n",
              "<table border=\"1\" class=\"dataframe\">\n",
              "  <thead>\n",
              "    <tr style=\"text-align: right;\">\n",
              "      <th></th>\n",
              "      <th>0</th>\n",
              "      <th>1</th>\n",
              "      <th>2</th>\n",
              "      <th>3</th>\n",
              "      <th>4</th>\n",
              "      <th>5</th>\n",
              "      <th>6</th>\n",
              "      <th>7</th>\n",
              "      <th>8</th>\n",
              "      <th>9</th>\n",
              "    </tr>\n",
              "  </thead>\n",
              "  <tbody>\n",
              "    <tr>\n",
              "      <th>count</th>\n",
              "      <td>7.200000e+03</td>\n",
              "      <td>7.200000e+03</td>\n",
              "      <td>7.200000e+03</td>\n",
              "      <td>7.200000e+03</td>\n",
              "      <td>7.200000e+03</td>\n",
              "      <td>7.200000e+03</td>\n",
              "      <td>7.200000e+03</td>\n",
              "      <td>7.200000e+03</td>\n",
              "      <td>7.200000e+03</td>\n",
              "      <td>7.200000e+03</td>\n",
              "    </tr>\n",
              "    <tr>\n",
              "      <th>mean</th>\n",
              "      <td>-2.171103e-16</td>\n",
              "      <td>2.368476e-17</td>\n",
              "      <td>-9.349163e-14</td>\n",
              "      <td>2.513348e-13</td>\n",
              "      <td>6.315935e-17</td>\n",
              "      <td>-3.157968e-17</td>\n",
              "      <td>-9.079157e-17</td>\n",
              "      <td>-9.868649e-17</td>\n",
              "      <td>3.157968e-17</td>\n",
              "      <td>3.947460e-17</td>\n",
              "    </tr>\n",
              "    <tr>\n",
              "      <th>std</th>\n",
              "      <td>1.000069e+00</td>\n",
              "      <td>1.000069e+00</td>\n",
              "      <td>1.000069e+00</td>\n",
              "      <td>1.000069e+00</td>\n",
              "      <td>1.000069e+00</td>\n",
              "      <td>1.000069e+00</td>\n",
              "      <td>1.000069e+00</td>\n",
              "      <td>1.000069e+00</td>\n",
              "      <td>1.000069e+00</td>\n",
              "      <td>1.000069e+00</td>\n",
              "    </tr>\n",
              "    <tr>\n",
              "      <th>min</th>\n",
              "      <td>-4.003514e+00</td>\n",
              "      <td>-1.375377e+00</td>\n",
              "      <td>-4.361907e+00</td>\n",
              "      <td>-8.405899e+00</td>\n",
              "      <td>-2.230992e+00</td>\n",
              "      <td>-1.150702e+00</td>\n",
              "      <td>-1.701829e+00</td>\n",
              "      <td>-1.664405e+00</td>\n",
              "      <td>-1.207655e+00</td>\n",
              "      <td>-1.669034e+00</td>\n",
              "    </tr>\n",
              "    <tr>\n",
              "      <th>25%</th>\n",
              "      <td>-2.718420e-01</td>\n",
              "      <td>-3.813282e-01</td>\n",
              "      <td>-5.663653e-01</td>\n",
              "      <td>-6.616396e-01</td>\n",
              "      <td>-7.463233e-01</td>\n",
              "      <td>-8.861477e-01</td>\n",
              "      <td>-5.306966e-01</td>\n",
              "      <td>-8.314917e-01</td>\n",
              "      <td>-7.307007e-01</td>\n",
              "      <td>-7.005208e-01</td>\n",
              "    </tr>\n",
              "    <tr>\n",
              "      <th>50%</th>\n",
              "      <td>-2.718420e-01</td>\n",
              "      <td>-3.813282e-01</td>\n",
              "      <td>4.953152e-03</td>\n",
              "      <td>-2.008713e-01</td>\n",
              "      <td>-1.593612e-01</td>\n",
              "      <td>-3.570385e-01</td>\n",
              "      <td>-1.403190e-01</td>\n",
              "      <td>1.421240e-03</td>\n",
              "      <td>-2.537464e-01</td>\n",
              "      <td>-9.282637e-02</td>\n",
              "    </tr>\n",
              "    <tr>\n",
              "      <th>75%</th>\n",
              "      <td>-2.718420e-01</td>\n",
              "      <td>6.127207e-01</td>\n",
              "      <td>5.713036e-01</td>\n",
              "      <td>6.184586e-01</td>\n",
              "      <td>5.311825e-01</td>\n",
              "      <td>7.011800e-01</td>\n",
              "      <td>6.404361e-01</td>\n",
              "      <td>8.343342e-01</td>\n",
              "      <td>2.232080e-01</td>\n",
              "      <td>5.338585e-01</td>\n",
              "    </tr>\n",
              "    <tr>\n",
              "      <th>max</th>\n",
              "      <td>7.191503e+00</td>\n",
              "      <td>2.600819e+00</td>\n",
              "      <td>3.596807e+00</td>\n",
              "      <td>7.457936e+00</td>\n",
              "      <td>1.077096e+01</td>\n",
              "      <td>4.934054e+00</td>\n",
              "      <td>1.039987e+01</td>\n",
              "      <td>1.905222e+00</td>\n",
              "      <td>4.277320e+00</td>\n",
              "      <td>9.003599e+00</td>\n",
              "    </tr>\n",
              "  </tbody>\n",
              "</table>\n",
              "</div>\n",
              "      <button class=\"colab-df-convert\" onclick=\"convertToInteractive('df-c0e41d24-403c-4bb1-9917-4b9baff31e63')\"\n",
              "              title=\"Convert this dataframe to an interactive table.\"\n",
              "              style=\"display:none;\">\n",
              "        \n",
              "  <svg xmlns=\"http://www.w3.org/2000/svg\" height=\"24px\"viewBox=\"0 0 24 24\"\n",
              "       width=\"24px\">\n",
              "    <path d=\"M0 0h24v24H0V0z\" fill=\"none\"/>\n",
              "    <path d=\"M18.56 5.44l.94 2.06.94-2.06 2.06-.94-2.06-.94-.94-2.06-.94 2.06-2.06.94zm-11 1L8.5 8.5l.94-2.06 2.06-.94-2.06-.94L8.5 2.5l-.94 2.06-2.06.94zm10 10l.94 2.06.94-2.06 2.06-.94-2.06-.94-.94-2.06-.94 2.06-2.06.94z\"/><path d=\"M17.41 7.96l-1.37-1.37c-.4-.4-.92-.59-1.43-.59-.52 0-1.04.2-1.43.59L10.3 9.45l-7.72 7.72c-.78.78-.78 2.05 0 2.83L4 21.41c.39.39.9.59 1.41.59.51 0 1.02-.2 1.41-.59l7.78-7.78 2.81-2.81c.8-.78.8-2.07 0-2.86zM5.41 20L4 18.59l7.72-7.72 1.47 1.35L5.41 20z\"/>\n",
              "  </svg>\n",
              "      </button>\n",
              "      \n",
              "  <style>\n",
              "    .colab-df-container {\n",
              "      display:flex;\n",
              "      flex-wrap:wrap;\n",
              "      gap: 12px;\n",
              "    }\n",
              "\n",
              "    .colab-df-convert {\n",
              "      background-color: #E8F0FE;\n",
              "      border: none;\n",
              "      border-radius: 50%;\n",
              "      cursor: pointer;\n",
              "      display: none;\n",
              "      fill: #1967D2;\n",
              "      height: 32px;\n",
              "      padding: 0 0 0 0;\n",
              "      width: 32px;\n",
              "    }\n",
              "\n",
              "    .colab-df-convert:hover {\n",
              "      background-color: #E2EBFA;\n",
              "      box-shadow: 0px 1px 2px rgba(60, 64, 67, 0.3), 0px 1px 3px 1px rgba(60, 64, 67, 0.15);\n",
              "      fill: #174EA6;\n",
              "    }\n",
              "\n",
              "    [theme=dark] .colab-df-convert {\n",
              "      background-color: #3B4455;\n",
              "      fill: #D2E3FC;\n",
              "    }\n",
              "\n",
              "    [theme=dark] .colab-df-convert:hover {\n",
              "      background-color: #434B5C;\n",
              "      box-shadow: 0px 1px 3px 1px rgba(0, 0, 0, 0.15);\n",
              "      filter: drop-shadow(0px 1px 2px rgba(0, 0, 0, 0.3));\n",
              "      fill: #FFFFFF;\n",
              "    }\n",
              "  </style>\n",
              "\n",
              "      <script>\n",
              "        const buttonEl =\n",
              "          document.querySelector('#df-c0e41d24-403c-4bb1-9917-4b9baff31e63 button.colab-df-convert');\n",
              "        buttonEl.style.display =\n",
              "          google.colab.kernel.accessAllowed ? 'block' : 'none';\n",
              "\n",
              "        async function convertToInteractive(key) {\n",
              "          const element = document.querySelector('#df-c0e41d24-403c-4bb1-9917-4b9baff31e63');\n",
              "          const dataTable =\n",
              "            await google.colab.kernel.invokeFunction('convertToInteractive',\n",
              "                                                     [key], {});\n",
              "          if (!dataTable) return;\n",
              "\n",
              "          const docLinkHtml = 'Like what you see? Visit the ' +\n",
              "            '<a target=\"_blank\" href=https://colab.research.google.com/notebooks/data_table.ipynb>data table notebook</a>'\n",
              "            + ' to learn more about interactive tables.';\n",
              "          element.innerHTML = '';\n",
              "          dataTable['output_type'] = 'display_data';\n",
              "          await google.colab.output.renderOutput(dataTable, element);\n",
              "          const docLink = document.createElement('div');\n",
              "          docLink.innerHTML = docLinkHtml;\n",
              "          element.appendChild(docLink);\n",
              "        }\n",
              "      </script>\n",
              "    </div>\n",
              "  </div>\n",
              "  "
            ]
          },
          "metadata": {},
          "execution_count": 124
        }
      ]
    },
    {
      "cell_type": "code",
      "source": [
        "X_train, X_test, y_train, y_test = train_test_split(scaled_train, train[target],\n",
        "                                                    test_size=0.3, random_state=42)"
      ],
      "metadata": {
        "execution": {
          "iopub.status.busy": "2022-12-13T18:22:20.099232Z",
          "iopub.execute_input": "2022-12-13T18:22:20.100037Z",
          "iopub.status.idle": "2022-12-13T18:22:20.111609Z",
          "shell.execute_reply.started": "2022-12-13T18:22:20.099968Z",
          "shell.execute_reply": "2022-12-13T18:22:20.110146Z"
        },
        "trusted": true,
        "id": "joo5dSpJy51d"
      },
      "execution_count": 125,
      "outputs": []
    },
    {
      "cell_type": "code",
      "source": [
        "X_train.shape, X_test.shape, y_train.shape, y_test.shape"
      ],
      "metadata": {
        "execution": {
          "iopub.status.busy": "2022-12-13T18:22:20.114784Z",
          "iopub.execute_input": "2022-12-13T18:22:20.115742Z",
          "iopub.status.idle": "2022-12-13T18:22:20.127171Z",
          "shell.execute_reply.started": "2022-12-13T18:22:20.115663Z",
          "shell.execute_reply": "2022-12-13T18:22:20.125962Z"
        },
        "trusted": true,
        "colab": {
          "base_uri": "https://localhost:8080/"
        },
        "id": "CjcH_h0Ay51d",
        "outputId": "f96aa715-fb3d-4af4-a4f4-1a0b0e17905f"
      },
      "execution_count": 126,
      "outputs": [
        {
          "output_type": "execute_result",
          "data": {
            "text/plain": [
              "((5040, 10), (2160, 10), (5040,), (2160,))"
            ]
          },
          "metadata": {},
          "execution_count": 126
        }
      ]
    },
    {
      "cell_type": "markdown",
      "source": [
        "# LogisticRegression"
      ],
      "metadata": {
        "id": "mRSg4-7zy51e"
      }
    },
    {
      "cell_type": "code",
      "source": [
        "lg = LogisticRegression(random_state = 42)\n",
        "lg.fit(X_train, y_train)\n",
        "predicts = lg.predict(X_test)\n",
        "predicts_proba = lg.predict_proba(X_test)"
      ],
      "metadata": {
        "execution": {
          "iopub.status.busy": "2022-12-13T18:22:20.129213Z",
          "iopub.execute_input": "2022-12-13T18:22:20.130303Z",
          "iopub.status.idle": "2022-12-13T18:22:20.249503Z",
          "shell.execute_reply.started": "2022-12-13T18:22:20.130255Z",
          "shell.execute_reply": "2022-12-13T18:22:20.248456Z"
        },
        "trusted": true,
        "id": "8qspdrV3y51e"
      },
      "execution_count": 127,
      "outputs": []
    },
    {
      "cell_type": "code",
      "source": [
        "accuracy_score(y_test, predicts)"
      ],
      "metadata": {
        "execution": {
          "iopub.status.busy": "2022-12-13T18:22:20.251352Z",
          "iopub.execute_input": "2022-12-13T18:22:20.251796Z",
          "iopub.status.idle": "2022-12-13T18:22:20.261684Z",
          "shell.execute_reply.started": "2022-12-13T18:22:20.251754Z",
          "shell.execute_reply": "2022-12-13T18:22:20.260270Z"
        },
        "trusted": true,
        "colab": {
          "base_uri": "https://localhost:8080/"
        },
        "id": "0y8MVr4Gy51e",
        "outputId": "a570a384-b025-4172-f1e6-b42bfd1dde75"
      },
      "execution_count": 128,
      "outputs": [
        {
          "output_type": "execute_result",
          "data": {
            "text/plain": [
              "0.5370370370370371"
            ]
          },
          "metadata": {},
          "execution_count": 128
        }
      ]
    },
    {
      "cell_type": "code",
      "source": [
        "f1_score(y_test, predicts, average='macro')"
      ],
      "metadata": {
        "execution": {
          "iopub.status.busy": "2022-12-13T18:22:20.264062Z",
          "iopub.execute_input": "2022-12-13T18:22:20.264726Z",
          "iopub.status.idle": "2022-12-13T18:22:20.278904Z",
          "shell.execute_reply.started": "2022-12-13T18:22:20.264683Z",
          "shell.execute_reply": "2022-12-13T18:22:20.277550Z"
        },
        "trusted": true,
        "colab": {
          "base_uri": "https://localhost:8080/"
        },
        "id": "WHzVEaABy51e",
        "outputId": "7fa14a62-20ed-4c99-a687-ca1dff4c281b"
      },
      "execution_count": 129,
      "outputs": [
        {
          "output_type": "execute_result",
          "data": {
            "text/plain": [
              "0.5321710274088832"
            ]
          },
          "metadata": {},
          "execution_count": 129
        }
      ]
    },
    {
      "cell_type": "code",
      "source": [
        "print(classification_report(y_test, predicts))"
      ],
      "metadata": {
        "execution": {
          "iopub.status.busy": "2022-12-13T18:22:20.280691Z",
          "iopub.execute_input": "2022-12-13T18:22:20.281490Z",
          "iopub.status.idle": "2022-12-13T18:22:20.300586Z",
          "shell.execute_reply.started": "2022-12-13T18:22:20.281442Z",
          "shell.execute_reply": "2022-12-13T18:22:20.299219Z"
        },
        "trusted": true,
        "colab": {
          "base_uri": "https://localhost:8080/"
        },
        "id": "H52_7h7ny51e",
        "outputId": "f77d7ba8-3496-4701-b395-4ff73b50d9e1"
      },
      "execution_count": 130,
      "outputs": [
        {
          "output_type": "stream",
          "name": "stdout",
          "text": [
            "              precision    recall  f1-score   support\n",
            "\n",
            "           0       0.60      0.64      0.62       724\n",
            "           1       0.43      0.37      0.40       721\n",
            "           2       0.56      0.60      0.58       715\n",
            "\n",
            "    accuracy                           0.54      2160\n",
            "   macro avg       0.53      0.54      0.53      2160\n",
            "weighted avg       0.53      0.54      0.53      2160\n",
            "\n"
          ]
        }
      ]
    },
    {
      "cell_type": "markdown",
      "source": [
        "# Linear SVC"
      ],
      "metadata": {
        "id": "rf5ofpfUy51f"
      }
    },
    {
      "cell_type": "code",
      "source": [
        "scv = LinearSVC(random_state = 42)\n",
        "scv.fit(X_train, y_train)\n",
        "predicts = scv.predict(X_test)"
      ],
      "metadata": {
        "execution": {
          "iopub.status.busy": "2022-12-13T18:22:20.302403Z",
          "iopub.execute_input": "2022-12-13T18:22:20.303142Z",
          "iopub.status.idle": "2022-12-13T18:22:21.307679Z",
          "shell.execute_reply.started": "2022-12-13T18:22:20.303085Z",
          "shell.execute_reply": "2022-12-13T18:22:21.306386Z"
        },
        "trusted": true,
        "colab": {
          "base_uri": "https://localhost:8080/"
        },
        "id": "ni0wmIUEy51f",
        "outputId": "c58210fb-a643-4c2c-9fed-3a0a3fa31ffd"
      },
      "execution_count": 131,
      "outputs": [
        {
          "output_type": "stream",
          "name": "stderr",
          "text": [
            "/usr/local/lib/python3.8/dist-packages/sklearn/svm/_base.py:1206: ConvergenceWarning: Liblinear failed to converge, increase the number of iterations.\n",
            "  warnings.warn(\n"
          ]
        }
      ]
    },
    {
      "cell_type": "code",
      "source": [
        "print(classification_report(y_test, predicts))"
      ],
      "metadata": {
        "execution": {
          "iopub.status.busy": "2022-12-13T18:22:21.309737Z",
          "iopub.execute_input": "2022-12-13T18:22:21.310956Z",
          "iopub.status.idle": "2022-12-13T18:22:21.328076Z",
          "shell.execute_reply.started": "2022-12-13T18:22:21.310823Z",
          "shell.execute_reply": "2022-12-13T18:22:21.326739Z"
        },
        "trusted": true,
        "colab": {
          "base_uri": "https://localhost:8080/"
        },
        "id": "cae6Lab8y51f",
        "outputId": "0d75310a-2845-4278-8e20-1ea0ead417f1"
      },
      "execution_count": 132,
      "outputs": [
        {
          "output_type": "stream",
          "name": "stdout",
          "text": [
            "              precision    recall  f1-score   support\n",
            "\n",
            "           0       0.56      0.69      0.62       724\n",
            "           1       0.42      0.24      0.30       721\n",
            "           2       0.54      0.65      0.59       715\n",
            "\n",
            "    accuracy                           0.52      2160\n",
            "   macro avg       0.51      0.52      0.50      2160\n",
            "weighted avg       0.51      0.52      0.50      2160\n",
            "\n"
          ]
        }
      ]
    },
    {
      "cell_type": "markdown",
      "source": [
        "# KNeighborsClassifier"
      ],
      "metadata": {
        "id": "lvh2dYSQy51f"
      }
    },
    {
      "cell_type": "code",
      "source": [
        "knn = KNeighborsClassifier(n_neighbors=3)\n",
        "knn.fit(X_train, y_train)\n",
        "predicts = knn.predict(X_test)"
      ],
      "metadata": {
        "execution": {
          "iopub.status.busy": "2022-12-13T18:22:21.329673Z",
          "iopub.execute_input": "2022-12-13T18:22:21.330674Z",
          "iopub.status.idle": "2022-12-13T18:22:21.501524Z",
          "shell.execute_reply.started": "2022-12-13T18:22:21.330614Z",
          "shell.execute_reply": "2022-12-13T18:22:21.500394Z"
        },
        "trusted": true,
        "id": "KMH2yyjXy51g"
      },
      "execution_count": 133,
      "outputs": []
    },
    {
      "cell_type": "code",
      "source": [
        "print(classification_report(y_test, predicts))"
      ],
      "metadata": {
        "execution": {
          "iopub.status.busy": "2022-12-13T18:22:21.503434Z",
          "iopub.execute_input": "2022-12-13T18:22:21.504136Z",
          "iopub.status.idle": "2022-12-13T18:22:21.520973Z",
          "shell.execute_reply.started": "2022-12-13T18:22:21.504089Z",
          "shell.execute_reply": "2022-12-13T18:22:21.519735Z"
        },
        "trusted": true,
        "colab": {
          "base_uri": "https://localhost:8080/"
        },
        "id": "QVnvE_lyy51g",
        "outputId": "6f7250af-3c19-4f2b-97a0-7aa13aa10792"
      },
      "execution_count": 134,
      "outputs": [
        {
          "output_type": "stream",
          "name": "stdout",
          "text": [
            "              precision    recall  f1-score   support\n",
            "\n",
            "           0       0.49      0.58      0.53       724\n",
            "           1       0.36      0.33      0.34       721\n",
            "           2       0.48      0.43      0.45       715\n",
            "\n",
            "    accuracy                           0.45      2160\n",
            "   macro avg       0.44      0.45      0.44      2160\n",
            "weighted avg       0.44      0.45      0.44      2160\n",
            "\n"
          ]
        }
      ]
    },
    {
      "cell_type": "markdown",
      "source": [
        "# DecisionTreeClassifier"
      ],
      "metadata": {
        "id": "Mhusuz3qy51g"
      }
    },
    {
      "cell_type": "code",
      "source": [
        "dt = DecisionTreeClassifier(random_state=42, class_weight='balanced')\n",
        "dt.fit(X_train, y_train)\n",
        "predicts = dt.predict(X_test)"
      ],
      "metadata": {
        "execution": {
          "iopub.status.busy": "2022-12-13T18:22:21.522873Z",
          "iopub.execute_input": "2022-12-13T18:22:21.523336Z",
          "iopub.status.idle": "2022-12-13T18:22:21.573881Z",
          "shell.execute_reply.started": "2022-12-13T18:22:21.523291Z",
          "shell.execute_reply": "2022-12-13T18:22:21.572600Z"
        },
        "trusted": true,
        "id": "ayQNaj22y51g"
      },
      "execution_count": 135,
      "outputs": []
    },
    {
      "cell_type": "code",
      "source": [
        "print(classification_report(y_test, predicts))"
      ],
      "metadata": {
        "execution": {
          "iopub.status.busy": "2022-12-13T18:22:21.575981Z",
          "iopub.execute_input": "2022-12-13T18:22:21.576481Z",
          "iopub.status.idle": "2022-12-13T18:22:21.596089Z",
          "shell.execute_reply.started": "2022-12-13T18:22:21.576433Z",
          "shell.execute_reply": "2022-12-13T18:22:21.594738Z"
        },
        "trusted": true,
        "colab": {
          "base_uri": "https://localhost:8080/"
        },
        "id": "jQwGJ_sYy51g",
        "outputId": "cacdb67a-3bb3-4d0a-d5dd-d235be01f97a"
      },
      "execution_count": 136,
      "outputs": [
        {
          "output_type": "stream",
          "name": "stdout",
          "text": [
            "              precision    recall  f1-score   support\n",
            "\n",
            "           0       0.54      0.52      0.53       724\n",
            "           1       0.37      0.37      0.37       721\n",
            "           2       0.49      0.51      0.50       715\n",
            "\n",
            "    accuracy                           0.47      2160\n",
            "   macro avg       0.47      0.47      0.47      2160\n",
            "weighted avg       0.47      0.47      0.47      2160\n",
            "\n"
          ]
        }
      ]
    },
    {
      "cell_type": "code",
      "source": [
        "X_train, X_test, y_train, y_test = train_test_split(train[features], train[target],\n",
        "                                                    test_size=0.3, random_state=42)"
      ],
      "metadata": {
        "execution": {
          "iopub.status.busy": "2022-12-13T18:22:21.598081Z",
          "iopub.execute_input": "2022-12-13T18:22:21.598804Z",
          "iopub.status.idle": "2022-12-13T18:22:21.613726Z",
          "shell.execute_reply.started": "2022-12-13T18:22:21.598754Z",
          "shell.execute_reply": "2022-12-13T18:22:21.612268Z"
        },
        "trusted": true,
        "id": "tMBKLATKy51h"
      },
      "execution_count": 137,
      "outputs": []
    },
    {
      "cell_type": "code",
      "source": [
        "dt = DecisionTreeClassifier(max_depth=3, random_state=42)\n",
        "dt.fit(X_train, y_train)\n",
        "predicts = dt.predict(X_test)"
      ],
      "metadata": {
        "execution": {
          "iopub.status.busy": "2022-12-13T18:22:21.616033Z",
          "iopub.execute_input": "2022-12-13T18:22:21.617483Z",
          "iopub.status.idle": "2022-12-13T18:22:21.640223Z",
          "shell.execute_reply.started": "2022-12-13T18:22:21.617431Z",
          "shell.execute_reply": "2022-12-13T18:22:21.638958Z"
        },
        "trusted": true,
        "id": "FoxXOVCry51h"
      },
      "execution_count": 138,
      "outputs": []
    },
    {
      "cell_type": "code",
      "source": [
        "print(classification_report(y_test, predicts))"
      ],
      "metadata": {
        "execution": {
          "iopub.status.busy": "2022-12-13T18:22:21.642290Z",
          "iopub.execute_input": "2022-12-13T18:22:21.642793Z",
          "iopub.status.idle": "2022-12-13T18:22:21.660627Z",
          "shell.execute_reply.started": "2022-12-13T18:22:21.642745Z",
          "shell.execute_reply": "2022-12-13T18:22:21.659267Z"
        },
        "trusted": true,
        "colab": {
          "base_uri": "https://localhost:8080/"
        },
        "id": "-xY66lT8y51h",
        "outputId": "738bc0a0-4b08-446d-b6f4-9795515f9309"
      },
      "execution_count": 139,
      "outputs": [
        {
          "output_type": "stream",
          "name": "stdout",
          "text": [
            "              precision    recall  f1-score   support\n",
            "\n",
            "           0       0.50      0.67      0.57       724\n",
            "           1       0.37      0.41      0.39       721\n",
            "           2       0.57      0.30      0.39       715\n",
            "\n",
            "    accuracy                           0.46      2160\n",
            "   macro avg       0.48      0.46      0.45      2160\n",
            "weighted avg       0.48      0.46      0.45      2160\n",
            "\n"
          ]
        }
      ]
    },
    {
      "cell_type": "code",
      "source": [
        "from ipywidgets import Image\n",
        "from io import StringIO\n",
        "import pydotplus\n",
        "from sklearn.tree import export_graphviz\n",
        "\n",
        "dot_data = StringIO()\n",
        "export_graphviz(dt, feature_names=features, \n",
        "                out_file=dot_data, filled=True)\n",
        "\n",
        "graph = pydotplus.graph_from_dot_data(dot_data.getvalue())  \n",
        "Image(value=graph.create_png())"
      ],
      "metadata": {
        "execution": {
          "iopub.status.busy": "2022-12-13T18:22:21.662787Z",
          "iopub.execute_input": "2022-12-13T18:22:21.663698Z",
          "iopub.status.idle": "2022-12-13T18:22:21.939319Z",
          "shell.execute_reply.started": "2022-12-13T18:22:21.663647Z",
          "shell.execute_reply": "2022-12-13T18:22:21.937930Z"
        },
        "trusted": true,
        "colab": {
          "base_uri": "https://localhost:8080/",
          "height": 458,
          "referenced_widgets": [
            "85acc32fcbc54990a23c9c0e4f84aa04",
            "8c9429542e3241dd88d60f8dc80c8b68"
          ]
        },
        "id": "Xnl1MqoGy51h",
        "outputId": "8847bd47-000a-4574-cec4-8368cc8d3041"
      },
      "execution_count": 140,
      "outputs": [
        {
          "output_type": "display_data",
          "data": {
            "text/plain": [
              "Image(value=b'\\x89PNG\\r\\n\\x1a\\n\\x00\\x00\\x00\\rIHDR\\x00\\x00\\x06\\xd2\\x00\\x00\\x01\\xf1\\x08\\x02\\x00\\x00\\x00\\x7f\\x01\\…"
            ],
            "application/vnd.jupyter.widget-view+json": {
              "version_major": 2,
              "version_minor": 0,
              "model_id": "85acc32fcbc54990a23c9c0e4f84aa04"
            }
          },
          "metadata": {}
        }
      ]
    },
    {
      "cell_type": "markdown",
      "source": [
        "При такой визуализации чем больше объектов одного класса, тем цвет вершины ближе к темно-оранжевому и, наоборот, чем больше объектов второго класса, тем ближе цвет к темно-фиолетовому(при бинарной темно-синему). Если объектов одного касса поровну, то корневая вершина дерева – белого цвета. Зеленая - больше объектов 3 класса."
      ],
      "metadata": {
        "id": "SS3c4a91y51h"
      }
    },
    {
      "cell_type": "code",
      "source": [
        "from ipywidgets import Image\n",
        "from io import StringIO\n",
        "import pydotplus\n",
        "from sklearn.tree import export_graphviz\n",
        "\n",
        "dot_data = StringIO()\n",
        "export_graphviz(dt, feature_names=features, \n",
        "                out_file=dot_data, filled=True)\n",
        "\n",
        "graph = pydotplus.graph_from_dot_data(dot_data.getvalue())  \n",
        "Image(value=graph.create_png())"
      ],
      "metadata": {
        "execution": {
          "iopub.status.busy": "2022-12-13T18:22:21.941711Z",
          "iopub.execute_input": "2022-12-13T18:22:21.942467Z",
          "iopub.status.idle": "2022-12-13T18:22:22.764395Z",
          "shell.execute_reply.started": "2022-12-13T18:22:21.942421Z",
          "shell.execute_reply": "2022-12-13T18:22:22.762962Z"
        },
        "trusted": true,
        "colab": {
          "base_uri": "https://localhost:8080/",
          "height": 458,
          "referenced_widgets": [
            "d7bcb76b56ae4f83aa4840b20327fed9",
            "3a503f23ce69470ca63e72ed4d38d1f0"
          ]
        },
        "id": "umgiY-i2y51i",
        "outputId": "48546a72-ffd4-4163-b382-384a5ca30bab"
      },
      "execution_count": 141,
      "outputs": [
        {
          "output_type": "display_data",
          "data": {
            "text/plain": [
              "Image(value=b'\\x89PNG\\r\\n\\x1a\\n\\x00\\x00\\x00\\rIHDR\\x00\\x00\\x06\\xd2\\x00\\x00\\x01\\xf1\\x08\\x02\\x00\\x00\\x00\\x7f\\x01\\…"
            ],
            "application/vnd.jupyter.widget-view+json": {
              "version_major": 2,
              "version_minor": 0,
              "model_id": "d7bcb76b56ae4f83aa4840b20327fed9"
            }
          },
          "metadata": {}
        }
      ]
    },
    {
      "cell_type": "markdown",
      "source": [
        "Видим что 2(high) класс вообще не определяется."
      ],
      "metadata": {
        "id": "izhrb-AGy51i"
      }
    },
    {
      "cell_type": "markdown",
      "source": [
        "# RandomForestClassifier"
      ],
      "metadata": {
        "id": "H5fYeD1yy51i"
      }
    },
    {
      "cell_type": "code",
      "source": [
        "rf = RandomForestClassifier(n_estimators = 100, random_state=42)\n",
        "rf.fit(X_train, y_train)\n",
        "predicts = rf.predict(X_test)"
      ],
      "metadata": {
        "execution": {
          "iopub.status.busy": "2022-12-13T18:22:22.766614Z",
          "iopub.execute_input": "2022-12-13T18:22:22.768037Z",
          "iopub.status.idle": "2022-12-13T18:22:23.804409Z",
          "shell.execute_reply.started": "2022-12-13T18:22:22.767955Z",
          "shell.execute_reply": "2022-12-13T18:22:23.803272Z"
        },
        "trusted": true,
        "id": "NtbhxCbJy51i"
      },
      "execution_count": 142,
      "outputs": []
    },
    {
      "cell_type": "code",
      "source": [
        "print(classification_report(y_test, predicts))"
      ],
      "metadata": {
        "execution": {
          "iopub.status.busy": "2022-12-13T18:22:23.806303Z",
          "iopub.execute_input": "2022-12-13T18:22:23.807067Z",
          "iopub.status.idle": "2022-12-13T18:22:23.825907Z",
          "shell.execute_reply.started": "2022-12-13T18:22:23.807024Z",
          "shell.execute_reply": "2022-12-13T18:22:23.824644Z"
        },
        "trusted": true,
        "colab": {
          "base_uri": "https://localhost:8080/"
        },
        "id": "_3J-oZoJy51i",
        "outputId": "a439d0bd-d830-41ee-e0fb-5a817b359b23"
      },
      "execution_count": 143,
      "outputs": [
        {
          "output_type": "stream",
          "name": "stdout",
          "text": [
            "              precision    recall  f1-score   support\n",
            "\n",
            "           0       0.64      0.62      0.63       724\n",
            "           1       0.43      0.44      0.44       721\n",
            "           2       0.59      0.60      0.59       715\n",
            "\n",
            "    accuracy                           0.55      2160\n",
            "   macro avg       0.55      0.55      0.55      2160\n",
            "weighted avg       0.55      0.55      0.55      2160\n",
            "\n"
          ]
        }
      ]
    },
    {
      "cell_type": "markdown",
      "source": [
        "# XGBClassifier"
      ],
      "metadata": {
        "id": "1zbjoQQxy51j"
      }
    },
    {
      "cell_type": "code",
      "source": [
        "xgb = XGBClassifier(seed=42)\n",
        "xgb.fit(X_train, y_train)\n",
        "predicts = xgb.predict(X_test)"
      ],
      "metadata": {
        "execution": {
          "iopub.status.busy": "2022-12-13T18:22:23.827895Z",
          "iopub.execute_input": "2022-12-13T18:22:23.828729Z",
          "iopub.status.idle": "2022-12-13T18:22:25.391942Z",
          "shell.execute_reply.started": "2022-12-13T18:22:23.828657Z",
          "shell.execute_reply": "2022-12-13T18:22:25.391060Z"
        },
        "trusted": true,
        "id": "9kLO1hBDy51j"
      },
      "execution_count": 144,
      "outputs": []
    },
    {
      "cell_type": "code",
      "source": [
        "print(classification_report(y_test, predicts))"
      ],
      "metadata": {
        "execution": {
          "iopub.status.busy": "2022-12-13T18:22:25.393481Z",
          "iopub.execute_input": "2022-12-13T18:22:25.394308Z",
          "iopub.status.idle": "2022-12-13T18:22:25.411461Z",
          "shell.execute_reply.started": "2022-12-13T18:22:25.394264Z",
          "shell.execute_reply": "2022-12-13T18:22:25.410209Z"
        },
        "trusted": true,
        "colab": {
          "base_uri": "https://localhost:8080/"
        },
        "id": "jMRPz9djy51j",
        "outputId": "c40e0f64-9e46-4ba5-b4c4-8dc046d2aecb"
      },
      "execution_count": 145,
      "outputs": [
        {
          "output_type": "stream",
          "name": "stdout",
          "text": [
            "              precision    recall  f1-score   support\n",
            "\n",
            "           0       0.68      0.61      0.64       724\n",
            "           1       0.43      0.45      0.44       721\n",
            "           2       0.56      0.61      0.59       715\n",
            "\n",
            "    accuracy                           0.55      2160\n",
            "   macro avg       0.56      0.55      0.56      2160\n",
            "weighted avg       0.56      0.55      0.56      2160\n",
            "\n"
          ]
        }
      ]
    },
    {
      "cell_type": "markdown",
      "source": [
        "## 3. Подбор гиперпараметров\n",
        "\n",
        "Для этого задания подберите гиперпараметры как минимум для 3 алгоритмов из протестированных выше. Используйте Grid Search или Random Search, в качестве метрики передавайте f1_score\n",
        "\n",
        "Не забывайте разбивать выборку на фолды, например с помощью StratifiedShuffleSplit."
      ],
      "metadata": {
        "id": "56cfFapdy51j"
      }
    },
    {
      "cell_type": "code",
      "source": [
        "skf = StratifiedKFold(n_splits=3, shuffle=True, random_state=42)\n",
        "params = {\n",
        "    'max_depth': [3, 4, None, 5],\n",
        "    \"min_samples_leaf\": list(range(1, 5))\n",
        "}\n",
        "\n",
        "rf = RandomForestClassifier(n_estimators=100, random_state=42, \n",
        "                             n_jobs=-1, oob_score=True)\n",
        "\n",
        "\n",
        "\n",
        "dt_random_search1 = RandomizedSearchCV(rf, params, n_jobs=-1, cv=skf, verbose=1)\n",
        "dt_random_search1.fit(X_train, y_train)\n",
        "\n",
        "print(dt_random_search1.best_estimator_)\n",
        "print(dt_random_search1.best_params_)"
      ],
      "metadata": {
        "execution": {
          "iopub.status.busy": "2022-12-13T18:22:25.413226Z",
          "iopub.execute_input": "2022-12-13T18:22:25.414055Z",
          "iopub.status.idle": "2022-12-13T18:22:40.838293Z",
          "shell.execute_reply.started": "2022-12-13T18:22:25.413983Z",
          "shell.execute_reply": "2022-12-13T18:22:40.836912Z"
        },
        "trusted": true,
        "colab": {
          "base_uri": "https://localhost:8080/"
        },
        "id": "t15IYfCsy51j",
        "outputId": "a7c332dc-883b-4f80-f8cf-2391f394c349"
      },
      "execution_count": 146,
      "outputs": [
        {
          "output_type": "stream",
          "name": "stdout",
          "text": [
            "Fitting 3 folds for each of 10 candidates, totalling 30 fits\n",
            "RandomForestClassifier(min_samples_leaf=3, n_jobs=-1, oob_score=True,\n",
            "                       random_state=42)\n",
            "{'min_samples_leaf': 3, 'max_depth': None}\n"
          ]
        }
      ]
    },
    {
      "cell_type": "code",
      "source": [
        "dt = DecisionTreeClassifier(random_state=42)\n",
        "\n",
        "dt_random_search2 = RandomizedSearchCV(dt, params, n_jobs=-1, cv=skf, verbose=1)\n",
        "dt_random_search2.fit(X_train, y_train)\n",
        "\n",
        "print(dt_random_search2.best_estimator_)\n",
        "print(dt_random_search2.best_params_)"
      ],
      "metadata": {
        "execution": {
          "iopub.status.busy": "2022-12-13T18:22:40.840477Z",
          "iopub.execute_input": "2022-12-13T18:22:40.841225Z",
          "iopub.status.idle": "2022-12-13T18:22:41.314528Z",
          "shell.execute_reply.started": "2022-12-13T18:22:40.841176Z",
          "shell.execute_reply": "2022-12-13T18:22:41.313446Z"
        },
        "trusted": true,
        "colab": {
          "base_uri": "https://localhost:8080/"
        },
        "id": "rVYDVBYJy51k",
        "outputId": "3b71e661-39e1-40ce-a2d1-7752a6fc0141"
      },
      "execution_count": 147,
      "outputs": [
        {
          "output_type": "stream",
          "name": "stdout",
          "text": [
            "Fitting 3 folds for each of 10 candidates, totalling 30 fits\n",
            "DecisionTreeClassifier(min_samples_leaf=3, random_state=42)\n",
            "{'min_samples_leaf': 3, 'max_depth': None}\n"
          ]
        }
      ]
    },
    {
      "cell_type": "code",
      "source": [
        "xgb = XGBClassifier(n_estimators=100, random_state=42)\n",
        "\n",
        "dt_random_search = RandomizedSearchCV(xgb, params, n_jobs=-1, cv=skf, verbose=1)\n",
        "dt_random_search.fit(X_train, y_train)\n",
        "\n",
        "print(dt_random_search.best_estimator_)\n",
        "print(dt_random_search.best_params_)"
      ],
      "metadata": {
        "execution": {
          "iopub.status.busy": "2022-12-13T18:22:41.316079Z",
          "iopub.execute_input": "2022-12-13T18:22:41.316946Z",
          "iopub.status.idle": "2022-12-13T18:23:07.386039Z",
          "shell.execute_reply.started": "2022-12-13T18:22:41.316904Z",
          "shell.execute_reply": "2022-12-13T18:23:07.385186Z"
        },
        "trusted": true,
        "colab": {
          "base_uri": "https://localhost:8080/"
        },
        "id": "NuC8v7nRy51k",
        "outputId": "cfd762a8-e8f2-4ce2-a508-ceb6633f7110"
      },
      "execution_count": 148,
      "outputs": [
        {
          "output_type": "stream",
          "name": "stdout",
          "text": [
            "Fitting 3 folds for each of 10 candidates, totalling 30 fits\n"
          ]
        },
        {
          "output_type": "stream",
          "name": "stderr",
          "text": [
            "/usr/local/lib/python3.8/dist-packages/sklearn/model_selection/_validation.py:372: FitFailedWarning: \n",
            "6 fits failed out of a total of 30.\n",
            "The score on these train-test partitions for these parameters will be set to nan.\n",
            "If these failures are not expected, you can try to debug them by setting error_score='raise'.\n",
            "\n",
            "Below are more details about the failures:\n",
            "--------------------------------------------------------------------------------\n",
            "6 fits failed with the following error:\n",
            "Traceback (most recent call last):\n",
            "  File \"/usr/local/lib/python3.8/dist-packages/sklearn/model_selection/_validation.py\", line 680, in _fit_and_score\n",
            "    estimator.fit(X_train, y_train, **fit_params)\n",
            "  File \"/usr/local/lib/python3.8/dist-packages/xgboost/sklearn.py\", line 728, in fit\n",
            "    self._Booster = train(xgb_options, train_dmatrix, self.get_num_boosting_rounds(),\n",
            "  File \"/usr/local/lib/python3.8/dist-packages/xgboost/training.py\", line 212, in train\n",
            "    return _train_internal(params, dtrain,\n",
            "  File \"/usr/local/lib/python3.8/dist-packages/xgboost/training.py\", line 74, in _train_internal\n",
            "    bst.update(dtrain, i, obj)\n",
            "  File \"/usr/local/lib/python3.8/dist-packages/xgboost/core.py\", line 1108, in update\n",
            "    _check_call(_LIB.XGBoosterUpdateOneIter(self.handle, ctypes.c_int(iteration),\n",
            "  File \"/usr/local/lib/python3.8/dist-packages/xgboost/core.py\", line 176, in _check_call\n",
            "    raise XGBoostError(py_str(_LIB.XGBGetLastError()))\n",
            "xgboost.core.XGBoostError: Invalid Parameter format for max_depth expect int but value='None'\n",
            "\n",
            "  warnings.warn(some_fits_failed_message, FitFailedWarning)\n",
            "/usr/local/lib/python3.8/dist-packages/sklearn/model_selection/_search.py:969: UserWarning: One or more of the test scores are non-finite: [0.5625     0.56071429        nan 0.56071429 0.56071429 0.5625\n",
            " 0.55793651        nan 0.55793651 0.5625    ]\n",
            "  warnings.warn(\n"
          ]
        },
        {
          "output_type": "stream",
          "name": "stdout",
          "text": [
            "XGBClassifier(max_depth=4, min_samples_leaf=1, objective='multi:softprob',\n",
            "              random_state=42)\n",
            "{'min_samples_leaf': 1, 'max_depth': 4}\n"
          ]
        }
      ]
    },
    {
      "cell_type": "markdown",
      "source": [
        "## Итоговое решение и сабмит \n",
        "\n",
        "Далее должно приводиться ваше итоговое решение, с лучшей метрикой на лидерборде, которой вам удалось добится. Можете сделать два ноутбука если так удобнее.\n",
        "\n",
        "Выше произведенные действия не гарантируют хороший результат на лидерборде, для него нужно поэксперементировать самостоятельно ;) \n",
        "\n",
        "**! ВАЖНО: ваш итоговый результат должен быть как минимум выше baseline.**"
      ],
      "metadata": {
        "id": "MQCGpt_Uy51k"
      }
    },
    {
      "cell_type": "markdown",
      "source": [
        "## Baseline"
      ],
      "metadata": {
        "id": "UriFyCK9y51k"
      }
    },
    {
      "cell_type": "code",
      "source": [
        "xgb = dt_random_search.best_estimator_\n",
        "xgb.fit(train[features], train[target])"
      ],
      "metadata": {
        "execution": {
          "iopub.status.busy": "2022-12-13T18:23:07.390369Z",
          "iopub.execute_input": "2022-12-13T18:23:07.390672Z",
          "iopub.status.idle": "2022-12-13T18:23:08.292901Z",
          "shell.execute_reply.started": "2022-12-13T18:23:07.390644Z",
          "shell.execute_reply": "2022-12-13T18:23:08.291951Z"
        },
        "trusted": true,
        "colab": {
          "base_uri": "https://localhost:8080/"
        },
        "id": "4UiCYZ-Yy51k",
        "outputId": "b98136ff-f8b3-4bc7-f2fe-8d39d55c890c"
      },
      "execution_count": 149,
      "outputs": [
        {
          "output_type": "execute_result",
          "data": {
            "text/plain": [
              "XGBClassifier(max_depth=4, min_samples_leaf=1, objective='multi:softprob',\n",
              "              random_state=42)"
            ]
          },
          "metadata": {},
          "execution_count": 149
        }
      ]
    },
    {
      "cell_type": "markdown",
      "source": [
        "## Подготовка submission"
      ],
      "metadata": {
        "id": "KgU166pSy51l"
      }
    },
    {
      "cell_type": "markdown",
      "source": [
        "В плане предобработки\\генерации признаков делаем все тоже самое. Потом предсказываем моделью значения."
      ],
      "metadata": {
        "id": "qIrzytWuy51l"
      }
    },
    {
      "cell_type": "code",
      "source": [
        "test.columns"
      ],
      "metadata": {
        "execution": {
          "iopub.status.busy": "2022-12-13T18:23:08.297059Z",
          "iopub.execute_input": "2022-12-13T18:23:08.299431Z",
          "iopub.status.idle": "2022-12-13T18:23:08.307147Z",
          "shell.execute_reply.started": "2022-12-13T18:23:08.299395Z",
          "shell.execute_reply": "2022-12-13T18:23:08.305894Z"
        },
        "trusted": true,
        "colab": {
          "base_uri": "https://localhost:8080/"
        },
        "id": "CFDsvcdKy51l",
        "outputId": "3f009db4-3e45-4813-cbe9-cc336e9146a9"
      },
      "execution_count": 150,
      "outputs": [
        {
          "output_type": "execute_result",
          "data": {
            "text/plain": [
              "Index(['bathrooms', 'bedrooms', 'building_id', 'created', 'description',\n",
              "       'display_address', 'features', 'latitude', 'listing_id', 'longitude',\n",
              "       'manager_id', 'photos', 'price', 'street_address'],\n",
              "      dtype='object')"
            ]
          },
          "metadata": {},
          "execution_count": 150
        }
      ]
    },
    {
      "cell_type": "code",
      "source": [
        "test['features']=test['features'].str.replace('[\\[\\]\\']', '').str.split(', ')\n",
        "test['features_cnt']=test['features'].apply(len)\n",
        "test['photos']=test['photos'].str.replace('[\\[\\]\\']', '').str.split(', ')\n",
        "test['photos_cnt']=test['photos'].apply(len)\n",
        "\n",
        "test[\"price_lvl\"] = test.price.apply(price_lvl)\n",
        "test[\"created\"] = pd.to_datetime(test[\"created\"])\n",
        "test[\"created_day\"] = test[\"created\"].dt.day\n",
        "test[\"created_hour\"] = test[\"created\"].dt.hour\n",
        "\n",
        "test[\"num_description_words\"]=test[\"description\"].fillna('').apply(lambda x: len(x.split(\" \")))\n"
      ],
      "metadata": {
        "execution": {
          "iopub.status.busy": "2022-12-13T18:23:08.308890Z",
          "iopub.execute_input": "2022-12-13T18:23:08.309423Z",
          "iopub.status.idle": "2022-12-13T18:23:08.545182Z",
          "shell.execute_reply.started": "2022-12-13T18:23:08.309383Z",
          "shell.execute_reply": "2022-12-13T18:23:08.544015Z"
        },
        "trusted": true,
        "colab": {
          "base_uri": "https://localhost:8080/"
        },
        "id": "9AcAbcToy51l",
        "outputId": "90567c30-e39d-4e34-84d1-3f5d75f121bc"
      },
      "execution_count": 151,
      "outputs": [
        {
          "output_type": "stream",
          "name": "stderr",
          "text": [
            "<ipython-input-151-6becb7cf8cfa>:1: FutureWarning: The default value of regex will change from True to False in a future version.\n",
            "  test['features']=test['features'].str.replace('[\\[\\]\\']', '').str.split(', ')\n",
            "<ipython-input-151-6becb7cf8cfa>:3: FutureWarning: The default value of regex will change from True to False in a future version.\n",
            "  test['photos']=test['photos'].str.replace('[\\[\\]\\']', '').str.split(', ')\n"
          ]
        }
      ]
    },
    {
      "cell_type": "code",
      "source": [
        "test[target]=xgb.predict(test[features])"
      ],
      "metadata": {
        "execution": {
          "iopub.status.busy": "2022-12-13T18:23:11.209545Z",
          "iopub.execute_input": "2022-12-13T18:23:11.210195Z",
          "iopub.status.idle": "2022-12-13T18:23:11.251572Z",
          "shell.execute_reply.started": "2022-12-13T18:23:11.210152Z",
          "shell.execute_reply": "2022-12-13T18:23:11.250707Z"
        },
        "trusted": true,
        "id": "9BlwZAYDy51m"
      },
      "execution_count": 153,
      "outputs": []
    },
    {
      "cell_type": "code",
      "source": [
        "test[target].value_counts()"
      ],
      "metadata": {
        "execution": {
          "iopub.status.busy": "2022-12-13T18:23:11.255924Z",
          "iopub.execute_input": "2022-12-13T18:23:11.258058Z",
          "iopub.status.idle": "2022-12-13T18:23:11.270411Z",
          "shell.execute_reply.started": "2022-12-13T18:23:11.258019Z",
          "shell.execute_reply": "2022-12-13T18:23:11.269167Z"
        },
        "trusted": true,
        "colab": {
          "base_uri": "https://localhost:8080/"
        },
        "id": "qvQuhJ5Hy51m",
        "outputId": "73cceaa3-38d5-4892-b7f6-933a08d742b4"
      },
      "execution_count": 154,
      "outputs": [
        {
          "output_type": "execute_result",
          "data": {
            "text/plain": [
              "0    4928\n",
              "1    3107\n",
              "2    1836\n",
              "Name: interest_level, dtype: int64"
            ]
          },
          "metadata": {},
          "execution_count": 154
        }
      ]
    },
    {
      "cell_type": "code",
      "source": [
        "test[['listing_id', target]].to_csv('submission.csv', index=None)"
      ],
      "metadata": {
        "execution": {
          "iopub.status.busy": "2022-12-13T18:23:11.272248Z",
          "iopub.execute_input": "2022-12-13T18:23:11.272821Z",
          "iopub.status.idle": "2022-12-13T18:23:11.293851Z",
          "shell.execute_reply.started": "2022-12-13T18:23:11.272784Z",
          "shell.execute_reply": "2022-12-13T18:23:11.292807Z"
        },
        "trusted": true,
        "id": "4pxunB-dy51m"
      },
      "execution_count": 155,
      "outputs": []
    },
    {
      "cell_type": "markdown",
      "source": [
        " <img src='https://i.gifer.com/Xbb1.gif'><br>"
      ],
      "metadata": {
        "id": "fI6BalUKy51m"
      }
    }
  ]
}