{
  "cells": [
    {
      "cell_type": "markdown",
      "metadata": {
        "id": "oE83eZ7L7-5q"
      },
      "source": [
        "# План:\n",
        "1. Python\n",
        "2. Numpy\n",
        "3. Pandas\n",
        "4. Regexp + regexp with dataframes\n",
        "5. Texts\n",
        "6. Matplotlib, Seaborn\n",
        "7. Classification, clustering, binary, multiclass, multilabel\n",
        "8. Metrics\n",
        "9. Feature extraction\n",
        "10. Pyspark/sql"
      ]
    },
    {
      "cell_type": "markdown",
      "metadata": {
        "id": "f5XKaq5x7-5u"
      },
      "source": [
        "<img src=\"gifs/start.gif\" width=\"400\">"
      ]
    },
    {
      "cell_type": "markdown",
      "metadata": {
        "id": "5W1f3O2r7-5u"
      },
      "source": [
        "# Python - Ибрагимов Даниил\n",
        "\n",
        "* Целая куча упражнений на типы данных\\операторы и функции\n",
        "\n",
        "https://www.w3resource.com/python-exercises/"
      ]
    },
    {
      "cell_type": "markdown",
      "metadata": {
        "id": "ZHddAJ4I7-5v"
      },
      "source": [
        "Типы данных:\n",
        "    * Числа (7382, 3.14, 3+4j, Decimal, Fraction)\n",
        "    * Строки ('net', \"your's\", u'радость')\n",
        "    * Списки ([1, [2, 'three'], 4])\n",
        "    * Словари ({'Alex': 2, 'Brian': 4})\n",
        "    * Кортежи ('Leo', 21.7, 'single')\n",
        "    * Множества (set(1,2,3), {'a', 'b', 'c'})\n",
        "    * Файлы (open('myfile', 'r'))"
      ]
    },
    {
      "cell_type": "markdown",
      "metadata": {
        "id": "UKn_wHVK7-5v"
      },
      "source": [
        "1. Склеить 3 подстроки \"ada\", \"lovelace\", \"was considered the world's first computer programmer.\". Первые две строки сделать с большой буквы.  (★☆☆)"
      ]
    },
    {
      "cell_type": "code",
      "execution_count": 5,
      "metadata": {
        "id": "jRBB73ve7-5w",
        "outputId": "80fc64d3-a151-4bc6-8ce6-2542b31bf1d9"
      },
      "outputs": [
        {
          "data": {
            "text/plain": [
              "\"AdaLovelacewas considered the world's first computer programmer.\""
            ]
          },
          "execution_count": 5,
          "metadata": {},
          "output_type": "execute_result"
        }
      ],
      "source": [
        "\"ada\".capitalize() + \"lovelace\".capitalize() + \"was considered the world's first computer programmer.\""
      ]
    },
    {
      "cell_type": "markdown",
      "metadata": {
        "id": "SLC83wKC7-5x"
      },
      "source": [
        "2. Удаление лишних пробельных символов справа, слева, с обоих сторон  (☆☆☆)"
      ]
    },
    {
      "cell_type": "code",
      "execution_count": 6,
      "metadata": {
        "id": "TzYAeuH87-5y",
        "outputId": "889f09bd-980b-48f4-8084-fbbeb786f0cb"
      },
      "outputs": [
        {
          "name": "stdout",
          "output_type": "stream",
          "text": [
            "|   right side|\n",
            "|left side   |\n",
            "|both sides|\n"
          ]
        }
      ],
      "source": [
        "print('|' + '   right side   '.rstrip() + '|')\n",
        "print('|' + '   left side   '.lstrip() + '|')\n",
        "print('|' + '   both sides   '.strip() + '|')"
      ]
    },
    {
      "cell_type": "markdown",
      "metadata": {
        "id": "CDNdDtgf7-5y"
      },
      "source": [
        "3. Найти первое вхождение в строку подстроки (☆☆☆)"
      ]
    },
    {
      "cell_type": "code",
      "execution_count": 7,
      "metadata": {
        "colab": {
          "base_uri": "https://localhost:8080/"
        },
        "id": "UUcgKgMU7-5z",
        "outputId": "931ecac1-cdc8-44f7-b160-f1c851833e2d"
      },
      "outputs": [
        {
          "data": {
            "text/plain": [
              "7"
            ]
          },
          "execution_count": 7,
          "metadata": {},
          "output_type": "execute_result"
        }
      ],
      "source": [
        "s1=\"But if you stick with me, I’m gonna accomplish great things, Morty, and you’re gonna be part of ’em.\"\n",
        "s2=\"you\"\n",
        "\n",
        "##your code\n",
        "s1.find(s2)"
      ]
    },
    {
      "cell_type": "markdown",
      "metadata": {
        "id": "ucfkW-My7-53"
      },
      "source": [
        "* isdigit - состоит ли строка из цифр;\n",
        "* isalpha - состоит ли строка из букв;\n",
        "* isalnum - состоит ли строка из цифр или букв;\n",
        "* islower - состоит ли строка из символов в нижнем регистре;\n",
        "* isupper - состоит ли строка из символов в верхнем регистре;\n",
        "* istitle - начинаются ли слова в строке с заглавной буквы."
      ]
    },
    {
      "cell_type": "markdown",
      "metadata": {
        "id": "glYpHxe17-53"
      },
      "source": [
        "4. Разбить строку по разделителю (☆☆☆)"
      ]
    },
    {
      "cell_type": "code",
      "execution_count": 18,
      "metadata": {
        "id": "eQdWkDj87-54",
        "outputId": "859221d5-8016-4b9c-bd28-edf1280960a6"
      },
      "outputs": [],
      "source": [
        "s1=\"Holy#cow,#Rick!#I#didn’t#know#hanging#out#with#you#was#making#me#smarter!\"\n",
        "\n",
        "##your code\n",
        "l = s1.split('#')"
      ]
    },
    {
      "cell_type": "markdown",
      "metadata": {
        "id": "ZYvWj__67-54"
      },
      "source": [
        "5. Полученный массив строк склеить через пробел (★☆☆)"
      ]
    },
    {
      "cell_type": "code",
      "execution_count": 9,
      "metadata": {
        "id": "FYahPQbj7-54",
        "outputId": "9b25a932-18e0-454e-ade8-e45409b4293b"
      },
      "outputs": [
        {
          "data": {
            "text/plain": [
              "'Holy cow, Rick! I didn’t know hanging out with you was making me smarter!'"
            ]
          },
          "execution_count": 9,
          "metadata": {},
          "output_type": "execute_result"
        }
      ],
      "source": [
        "' '.join(list)"
      ]
    },
    {
      "cell_type": "markdown",
      "metadata": {
        "id": "gBWcMRgA7-54"
      },
      "source": [
        "6. Вывести данные из словаря в три строки в виде \"NAME (age AGE) is a JOB\" (★☆☆)\n",
        "\n",
        "(hint: .format())"
      ]
    },
    {
      "cell_type": "code",
      "execution_count": 10,
      "metadata": {
        "id": "DYRA4y_b7-55",
        "outputId": "05b5ed1f-f086-4bc3-e418-3f41702546d1"
      },
      "outputs": [
        {
          "name": "stdout",
          "output_type": "stream",
          "text": [
            "Ann(age 29) is a Artist\n",
            "Leo(age 54) is a Programmer\n",
            "Tiffany(age 43) is a Shop Assistant\n"
          ]
        }
      ],
      "source": [
        "personal_data = {1: (\"Ann\", 29, \"Artist\"), \n",
        "               2: (\"Leo\", 54, \"Programmer\"), \n",
        "               3: (\"Tiffany\", 43, \"Shop Assistant\")}\n",
        "\n",
        "##your code\n",
        "for num, person in personal_data.items():\n",
        "    print('{}(age {}) is a {}'.format(person[0], person[1], person[2]))\n"
      ]
    },
    {
      "cell_type": "markdown",
      "metadata": {
        "id": "i9B4DWOZ7-55"
      },
      "source": [
        "7. Требуется определить, является ли данный год високосным. (год является високосным, если его номер кратен 4, но не кратен 100, а также если он кратен 400.)  (★★☆)\n",
        "\n",
        "Входные данные: Вводится единственное число - номер года (целое, положительное, не превышает 30000).\n",
        "\n",
        "Выходные данные: Требуется вывести слово YES, если год является високосным и NO - в противном случае."
      ]
    },
    {
      "cell_type": "code",
      "execution_count": 12,
      "metadata": {
        "id": "tnB75I627-55",
        "outputId": "7d84f538-9c5b-48d3-da4a-d5d0d46d5ddb"
      },
      "outputs": [
        {
          "name": "stdout",
          "output_type": "stream",
          "text": [
            "YES\n"
          ]
        }
      ],
      "source": [
        "def is_leap_year(year : int):\n",
        "    if(((year % 4 == 0) & (year % 100 != 0)) | (year % 400 == 0)):\n",
        "        print('YES')\n",
        "    else:\n",
        "        print('NO')\n",
        "\n",
        "year = int(input('Введите номер'))\n",
        "is_leap_year(year=year)"
      ]
    },
    {
      "cell_type": "markdown",
      "metadata": {
        "id": "K_PZ2DEf7-55"
      },
      "source": [
        "8. Закодируйте каждый элемент списка слов числом, результат сопоставления (слово-число) поместите в словарь.  (★☆☆)"
      ]
    },
    {
      "cell_type": "code",
      "execution_count": 14,
      "metadata": {
        "id": "SPs9JyRF7-56",
        "outputId": "4b3db0d7-a7fa-4321-cd1e-ec2263fd4eb8"
      },
      "outputs": [
        {
          "data": {
            "text/plain": [
              "{0: 'Not', 1: 'my', 2: 'cup', 3: 'of', 4: 'tea'}"
            ]
          },
          "execution_count": 14,
          "metadata": {},
          "output_type": "execute_result"
        }
      ],
      "source": [
        "words = ['Not', 'my', 'cup', 'of', 'tea']\n",
        "\n",
        "##your code\n",
        "dict([(i, words[i]) for i in range(len(words))])"
      ]
    },
    {
      "cell_type": "markdown",
      "metadata": {
        "id": "VpAE38WK7-56"
      },
      "source": [
        "9. Удалить второй элемент из списка по индексу\\по значению  (★☆☆)"
      ]
    },
    {
      "cell_type": "code",
      "execution_count": 15,
      "metadata": {
        "id": "1R9l4Ftu7-56",
        "outputId": "e7ab7a5d-4d2d-4bdd-f5d4-ba8badd315d8"
      },
      "outputs": [
        {
          "name": "stdout",
          "output_type": "stream",
          "text": [
            "['border collie', 'australian cattle dog', 'labrador retriever']\n",
            "['border collie', 'labrador retriever']\n",
            "['border collie', 'labrador retriever']\n"
          ]
        }
      ],
      "source": [
        "dogs = ['border collie', 'australian cattle dog', 'labrador retriever']\n",
        "\n",
        "##your code\n",
        "dogs_value = dogs.copy()\n",
        "dogs_index = dogs.copy()\n",
        "dogs_value.remove('australian cattle dog')\n",
        "dogs_index.pop(1)\n",
        "\n",
        "print(dogs)\n",
        "print(dogs_value)\n",
        "print(dogs_index)\n"
      ]
    },
    {
      "cell_type": "markdown",
      "metadata": {
        "id": "OSHCsLjY7-56"
      },
      "source": [
        "10. Вывести срез списка с 3 по 5 элемент включительно и все слова перевести в верхний регистр (★☆☆)"
      ]
    },
    {
      "cell_type": "code",
      "execution_count": 21,
      "metadata": {
        "colab": {
          "base_uri": "https://localhost:8080/"
        },
        "id": "JGma4FNP7-56",
        "outputId": "526ec16c-9e13-441a-9d9e-fe4dd6052170"
      },
      "outputs": [
        {
          "data": {
            "text/plain": [
              "['AUSTRALIAN', 'CATTLE', 'DOG']"
            ]
          },
          "execution_count": 21,
          "metadata": {},
          "output_type": "execute_result"
        }
      ],
      "source": [
        "dogs = ['border', 'collie', 'australian', 'cattle', 'dog', 'labrador', 'retriever']\n",
        "\n",
        "##your code\n",
        "[x.upper() for x in dogs[2:5]]"
      ]
    },
    {
      "cell_type": "markdown",
      "metadata": {
        "id": "xvQNspgc7-57"
      },
      "source": [
        "11. Словарь словарей. Вывести из словаря для каждого питомца его имя, породу, имя владельца, и наличие прививки. Строку вывода формировать через .format() (★☆☆)"
      ]
    },
    {
      "cell_type": "code",
      "execution_count": 22,
      "metadata": {
        "colab": {
          "base_uri": "https://localhost:8080/"
        },
        "id": "9T8ZTmf87-57",
        "outputId": "46f94b2b-c93a-44be-9468-87e7024f2ead"
      },
      "outputs": [
        {
          "name": "stdout",
          "output_type": "stream",
          "text": [
            "Name: willie, kind: dog, owner: eric, vaccinated: True\n",
            "Name: walter, kind: cockroach, owner: eric, vaccinated: False\n",
            "Name: peso, kind: dog, owner: chloe, vaccinated: True\n"
          ]
        }
      ],
      "source": [
        "pets = {'willie': {'kind': 'dog', 'owner': 'eric', 'vaccinated': True},\n",
        "        'walter': {'kind': 'cockroach', 'owner': 'eric', 'vaccinated': False},\n",
        "        'peso': {'kind': 'dog', 'owner': 'chloe', 'vaccinated': True},\n",
        "        }\n",
        "\n",
        "##your code\n",
        "for key, value in pets.items():\n",
        "  print(\"Name: {}, kind: {}, owner: {}, vaccinated: {}\".format(key, value['kind'], value['owner'], value['vaccinated']))"
      ]
    },
    {
      "cell_type": "markdown",
      "metadata": {
        "id": "Bah9sBea7-57"
      },
      "source": [
        "12. Проверить является ли множество подмножеством другого множества  (★☆☆)"
      ]
    },
    {
      "cell_type": "code",
      "execution_count": 23,
      "metadata": {
        "colab": {
          "base_uri": "https://localhost:8080/"
        },
        "id": "LvJCOUVy7-57",
        "outputId": "43e45ad2-af26-4348-ec9d-1342c205bbbe"
      },
      "outputs": [
        {
          "name": "stdout",
          "output_type": "stream",
          "text": [
            "True\n"
          ]
        }
      ],
      "source": [
        "a=set([2, 5, 6])\n",
        "b=set([2, 4, 8, 3, 5, 6])\n",
        "\n",
        "##your code\n",
        "intersection = b.intersection(a)\n",
        "if a == intersection:\n",
        "  print(True)\n",
        "else:\n",
        "  print(False)"
      ]
    },
    {
      "cell_type": "markdown",
      "metadata": {
        "id": "sfVwYMPL7-57"
      },
      "source": [
        "13. Объединить несколько множеств (★☆☆)"
      ]
    },
    {
      "cell_type": "code",
      "execution_count": 24,
      "metadata": {
        "colab": {
          "base_uri": "https://localhost:8080/"
        },
        "id": "hrKKF3kp7-58",
        "outputId": "3672fec4-ba86-472c-e3bb-e89c431363b1"
      },
      "outputs": [
        {
          "name": "stdout",
          "output_type": "stream",
          "text": [
            "{2, 35, 3, 5, 6, 4, 8, 10}\n"
          ]
        }
      ],
      "source": [
        "a=set([10, 35, 6, 5])\n",
        "b=set([2, 4, 8, 3, 5, 6, 35])\n",
        "c=set([4, 5, 35])\n",
        "\n",
        "##your code\n",
        "union = a.union(b, c)\n",
        "print(union)"
      ]
    },
    {
      "cell_type": "markdown",
      "metadata": {
        "id": "bI5lcYGM7-58"
      },
      "source": [
        "14. Посчитать пересечение множества b с остальными из предыдущего задания  (★★☆)\n",
        "\n",
        "(hint: set.intersection(other, ...) (или set & other &) )"
      ]
    },
    {
      "cell_type": "code",
      "execution_count": 25,
      "metadata": {
        "id": "ZpsU-iaT7-58"
      },
      "outputs": [
        {
          "name": "stdout",
          "output_type": "stream",
          "text": [
            "{35, 5, 6}\n",
            "{35, 4, 5}\n"
          ]
        }
      ],
      "source": [
        "print(b.intersection(a))\n",
        "print(b.intersection(c))"
      ]
    },
    {
      "cell_type": "markdown",
      "metadata": {
        "id": "uVuXAMxR7-58"
      },
      "source": [
        "15. Вывести множество из элементов, встречающихся в одном множестве, но не встречающиеся в обоих. (★★☆)\n",
        "\n",
        "(hint: .symmetric_difference())"
      ]
    },
    {
      "cell_type": "code",
      "execution_count": 26,
      "metadata": {
        "colab": {
          "base_uri": "https://localhost:8080/"
        },
        "id": "EmdVX2Vn7-58",
        "outputId": "8e959202-8143-4593-ef07-654d69254ac4"
      },
      "outputs": [
        {
          "name": "stdout",
          "output_type": "stream",
          "text": [
            "{1, 2, 6, 7}\n"
          ]
        }
      ],
      "source": [
        "a=set([1, 2, 3, 4, 5])\n",
        "b=set([3, 4, 5, 6, 7])\n",
        "\n",
        "##your code\n",
        "print(a ^ b)"
      ]
    },
    {
      "cell_type": "markdown",
      "metadata": {
        "id": "IzGjqSPG7-58"
      },
      "source": [
        "16. Предположим, есть файл с данными клиентов. В качестве простого примера воьзьмем txt-файл(нужно создать файл с предложенным/другим содержанием самостоятельно) следующего содержания:\n",
        "\n",
        "    lastname,age,debt,occupation\n",
        "    \n",
        "    Adrianov,25,30000,artist\n",
        "    \n",
        "    Нужно считать файл data/credit_sample.txt.\n",
        "    Сделать словарь вида:\n",
        "        {lastname: (age,debt,occupation)}\n",
        "    \n",
        "    Посчитать сколько уникальных профессий получилось в словаре.\n",
        "    \n",
        "    Результат записать в json (★★★)"
      ]
    },
    {
      "cell_type": "code",
      "execution_count": null,
      "metadata": {
        "id": "-Tmno7Y27-59"
      },
      "outputs": [],
      "source": [
        "\n"
      ]
    },
    {
      "cell_type": "markdown",
      "metadata": {
        "id": "L-rqo8bV7-59"
      },
      "source": [
        "### os, sys, datetime"
      ]
    },
    {
      "cell_type": "code",
      "execution_count": 70,
      "metadata": {},
      "outputs": [],
      "source": [
        "import os,sys"
      ]
    },
    {
      "cell_type": "markdown",
      "metadata": {
        "id": "d_Xl0_Sn7-5-"
      },
      "source": [
        "17. Получить список файлов в папке gifs/ и оставить только файлы с расширением .gif (★★☆)"
      ]
    },
    {
      "cell_type": "code",
      "execution_count": 63,
      "metadata": {
        "id": "BbX1vHg27-5-"
      },
      "outputs": [],
      "source": [
        "!mkdir gifs\n",
        "!touch gifs/gif1.gif\n",
        "!touch gifs/gif2.gif\n",
        "!touch gifs/gif3.gif"
      ]
    },
    {
      "cell_type": "code",
      "execution_count": 65,
      "metadata": {},
      "outputs": [],
      "source": [
        "!find . -type f -name «*.gif» -path ./gifs"
      ]
    },
    {
      "cell_type": "markdown",
      "metadata": {
        "id": "ri_VgtjM7-5-"
      },
      "source": [
        "18. Создать папку с названием temp и удалить её (★☆☆)"
      ]
    },
    {
      "cell_type": "code",
      "execution_count": 68,
      "metadata": {
        "id": "om3C97ME7-5-"
      },
      "outputs": [],
      "source": [
        "!mkdir temp"
      ]
    },
    {
      "cell_type": "code",
      "execution_count": 69,
      "metadata": {},
      "outputs": [],
      "source": [
        "!rm -r temp"
      ]
    },
    {
      "cell_type": "markdown",
      "metadata": {
        "id": "6N333x6h7-5-"
      },
      "source": [
        "19. Вывести переменные среды (★☆☆)\n",
        "\n",
        "(hint: environ)"
      ]
    },
    {
      "cell_type": "code",
      "execution_count": 71,
      "metadata": {
        "id": "8zt8jasf7-5-"
      },
      "outputs": [
        {
          "data": {
            "text/plain": [
              "environ{'ELECTRON_RUN_AS_NODE': '1',\n",
              "        'SHELL': '/bin/bash',\n",
              "        'SESSION_MANAGER': 'local/daniil-lolypop:@/tmp/.ICE-unix/616,unix/daniil-lolypop:/tmp/.ICE-unix/616',\n",
              "        'WINDOWID': '79691786',\n",
              "        'SNAP_REVISION': '111',\n",
              "        'COLORTERM': 'truecolor',\n",
              "        'XDG_CONFIG_DIRS': '/home/daniil/.config/kdedefaults:/etc/xdg',\n",
              "        'LESS': '-R',\n",
              "        'XDG_SESSION_PATH': '/org/freedesktop/DisplayManager/Session0',\n",
              "        'SNAP_REAL_HOME': '/home/daniil',\n",
              "        'SNAP_USER_COMMON': '/home/daniil/snap/code/common',\n",
              "        'LANGUAGE': '',\n",
              "        '_P9K_TTY': '/dev/pts/1',\n",
              "        'LESS_TERMCAP_se': '\\x1b[0m',\n",
              "        'LESS_TERMCAP_so': '\\x1b[01;47;34m',\n",
              "        'LC_ADDRESS': 'ru_RU.UTF-8',\n",
              "        'LC_NAME': 'ru_RU.UTF-8',\n",
              "        'P9K_TTY': 'old',\n",
              "        'SHELL_SESSION_ID': 'e191459cb82f4010bd7de7c6593bc42a',\n",
              "        'SNAP_INSTANCE_KEY': '',\n",
              "        'DESKTOP_SESSION': 'plasma',\n",
              "        'LC_MONETARY': 'ru_RU.UTF-8',\n",
              "        'GDK_PIXBUF_MODULE_FILE': '/home/daniil/snap/code/common/.cache/gdk-pixbuf-loaders.cache',\n",
              "        'GTK_RC_FILES': '/etc/gtk/gtkrc:/home/daniil/.gtkrc:/home/daniil/.config/gtkrc',\n",
              "        'XCURSOR_SIZE': '24',\n",
              "        'GTK_MODULES': 'canberra-gtk-module',\n",
              "        'XDG_SEAT': 'seat0',\n",
              "        'PWD': '/home/daniil/projects/ibragimov_hw_2022/ML',\n",
              "        'GSETTINGS_SCHEMA_DIR': '/snap/code/111/usr/share/glib-2.0/schemas',\n",
              "        'XDG_SESSION_DESKTOP': 'KDE',\n",
              "        'LOGNAME': 'daniil',\n",
              "        'XDG_SESSION_TYPE': 'x11',\n",
              "        'PKGFILE_PROMPT_INSTALL_MISSING': '1',\n",
              "        'SYSTEMD_EXEC_PID': '2641',\n",
              "        'XAUTHORITY': '/home/daniil/.Xauthority',\n",
              "        'LS_OPTIONS': '--color=auto',\n",
              "        'SNAP_CONTEXT': 'DjquW7FNeEzolwZUzTxZREXnv7UMk08fMTpUmkicCzZrdhmLLCRL',\n",
              "        'MOTD_SHOWN': 'pam',\n",
              "        'GTK2_RC_FILES': '/etc/gtk-2.0/gtkrc:/home/daniil/.gtkrc-2.0:/home/daniil/.config/gtkrc-2.0',\n",
              "        'HOME': '/home/daniil',\n",
              "        'LC_PAPER': 'ru_RU.UTF-8',\n",
              "        'LANG': 'ru_RU.UTF-8',\n",
              "        'LS_COLORS': 'rs=0:di=01;34:ln=01;36:mh=00:pi=40;33:so=01;35:do=01;35:bd=40;33;01:cd=40;33;01:or=40;31;01:mi=00:su=37;41:sg=30;43:ca=00:tw=30;42:ow=34;42:st=37;44:ex=01;32:*.tar=01;31:*.tgz=01;31:*.arc=01;31:*.arj=01;31:*.taz=01;31:*.lha=01;31:*.lz4=01;31:*.lzh=01;31:*.lzma=01;31:*.tlz=01;31:*.txz=01;31:*.tzo=01;31:*.t7z=01;31:*.zip=01;31:*.z=01;31:*.dz=01;31:*.gz=01;31:*.lrz=01;31:*.lz=01;31:*.lzo=01;31:*.xz=01;31:*.zst=01;31:*.tzst=01;31:*.bz2=01;31:*.bz=01;31:*.tbz=01;31:*.tbz2=01;31:*.tz=01;31:*.deb=01;31:*.rpm=01;31:*.jar=01;31:*.war=01;31:*.ear=01;31:*.sar=01;31:*.rar=01;31:*.alz=01;31:*.ace=01;31:*.zoo=01;31:*.cpio=01;31:*.7z=01;31:*.rz=01;31:*.cab=01;31:*.wim=01;31:*.swm=01;31:*.dwm=01;31:*.esd=01;31:*.avif=01;35:*.jpg=01;35:*.jpeg=01;35:*.mjpg=01;35:*.mjpeg=01;35:*.gif=01;35:*.bmp=01;35:*.pbm=01;35:*.pgm=01;35:*.ppm=01;35:*.tga=01;35:*.xbm=01;35:*.xpm=01;35:*.tif=01;35:*.tiff=01;35:*.png=01;35:*.svg=01;35:*.svgz=01;35:*.mng=01;35:*.pcx=01;35:*.mov=01;35:*.mpg=01;35:*.mpeg=01;35:*.m2v=01;35:*.mkv=01;35:*.webm=01;35:*.webp=01;35:*.ogm=01;35:*.mp4=01;35:*.m4v=01;35:*.mp4v=01;35:*.vob=01;35:*.qt=01;35:*.nuv=01;35:*.wmv=01;35:*.asf=01;35:*.rm=01;35:*.rmvb=01;35:*.flc=01;35:*.avi=01;35:*.fli=01;35:*.flv=01;35:*.gl=01;35:*.dl=01;35:*.xcf=01;35:*.xwd=01;35:*.yuv=01;35:*.cgm=01;35:*.emf=01;35:*.ogv=01;35:*.ogx=01;35:*.aac=00;36:*.au=00;36:*.flac=00;36:*.m4a=00;36:*.mid=00;36:*.midi=00;36:*.mka=00;36:*.mp3=00;36:*.mpc=00;36:*.ogg=00;36:*.ra=00;36:*.wav=00;36:*.oga=00;36:*.opus=00;36:*.spx=00;36:*.xspf=00;36:*~=00;90:*#=00;90:*.bak=00;90:*.old=00;90:*.orig=00;90:*.part=00;90:*.rej=00;90:*.swp=00;90:*.tmp=00;90:*.dpkg-dist=00;90:*.dpkg-old=00;90:*.ucf-dist=00;90:*.ucf-new=00;90:*.ucf-old=00;90:*.rpmnew=00;90:*.rpmorig=00;90:*.rpmsave=00;90:',\n",
              "        'XDG_CURRENT_DESKTOP': 'KDE',\n",
              "        'KONSOLE_DBUS_SERVICE': ':1.108',\n",
              "        'KONSOLE_DBUS_SESSION': '/Sessions/1',\n",
              "        'PROFILEHOME': '',\n",
              "        'SNAP_ARCH': 'amd64',\n",
              "        'SNAP_INSTANCE_NAME': 'code',\n",
              "        'SNAP_USER_DATA': '/home/daniil/snap/code/111',\n",
              "        'XDG_SEAT_PATH': '/org/freedesktop/DisplayManager/Seat0',\n",
              "        'INVOCATION_ID': '46636c585f9e45298f5ecf9cc9eefd57',\n",
              "        'KONSOLE_VERSION': '220802',\n",
              "        'MANAGERPID': '527',\n",
              "        'SNAP_REEXEC': '',\n",
              "        'KDE_SESSION_UID': '1000',\n",
              "        'XDG_SESSION_CLASS': 'user',\n",
              "        'TERM': 'xterm-color',\n",
              "        'LC_IDENTIFICATION': 'ru_RU.UTF-8',\n",
              "        'LESS_TERMCAP_mb': '\\x1b[01;32m',\n",
              "        'LESS_TERMCAP_me': '\\x1b[0m',\n",
              "        'LESS_TERMCAP_md': '\\x1b[01;32m',\n",
              "        'USER': 'daniil',\n",
              "        'COLORFGBG': '15;0',\n",
              "        'SNAP': '/snap/code/111',\n",
              "        'KDE_SESSION_VERSION': '5',\n",
              "        'SNAP_COMMON': '/var/snap/code/common',\n",
              "        'PAM_KWALLET5_LOGIN': '/run/user/1000/kwallet5.socket',\n",
              "        'SNAP_VERSION': 'd045a5ed',\n",
              "        'DISPLAY': ':0',\n",
              "        'SHLVL': '2',\n",
              "        'LESS_TERMCAP_ue': '\\x1b[0m',\n",
              "        'GDK_PIXBUF_MODULEDIR': '/snap/code/111/usr/lib/x86_64-linux-gnu/gdk-pixbuf-2.0/2.10.0/loaders',\n",
              "        'LESS_TERMCAP_us': '\\x1b[01;36m',\n",
              "        'SNAP_LIBRARY_PATH': '/var/lib/snapd/lib/gl:/var/lib/snapd/lib/gl32:/var/lib/snapd/void',\n",
              "        'SNAP_COOKIE': 'DjquW7FNeEzolwZUzTxZREXnv7UMk08fMTpUmkicCzZrdhmLLCRL',\n",
              "        'LC_TELEPHONE': 'ru_RU.UTF-8',\n",
              "        'LC_MEASUREMENT': 'ru_RU.UTF-8',\n",
              "        'XDG_VTNR': '1',\n",
              "        'XDG_SESSION_ID': '1',\n",
              "        'QT_LINUX_ACCESSIBILITY_ALWAYS_ON': '1',\n",
              "        'SNAP_DATA': '/var/snap/code/111',\n",
              "        'XDG_RUNTIME_DIR': '/run/user/1000',\n",
              "        'LC_TIME': 'ru_RU.UTF-8',\n",
              "        'P9K_SSH': '0',\n",
              "        'SNAP_NAME': 'code',\n",
              "        'QT_AUTO_SCREEN_SCALE_FACTOR': '0',\n",
              "        'JOURNAL_STREAM': '8:32392',\n",
              "        'XCURSOR_THEME': 'breeze_cursors',\n",
              "        'GTK3_MODULES': 'xapp-gtk3-module',\n",
              "        'XDG_DATA_DIRS': '/home/daniil/.local/share/flatpak/exports/share:/var/lib/flatpak/exports/share:/usr/local/share:/usr/share:/var/lib/snapd/desktop',\n",
              "        'KDE_FULL_SESSION': 'true',\n",
              "        'PATH': '/bin:/home/daniil/.local/bin:/usr/local/sbin:/usr/local/bin:/usr/bin:/usr/bin/site_perl:/usr/bin/vendor_perl:/usr/bin/core_perl:/var/lib/snapd/snap/bin',\n",
              "        'DBUS_SESSION_BUS_ADDRESS': 'unix:path=/run/user/1000/bus',\n",
              "        'KDE_APPLICATIONS_AS_SCOPE': '1',\n",
              "        'MAIL': '/var/spool/mail/daniil',\n",
              "        'LC_NUMERIC': 'ru_RU.UTF-8',\n",
              "        'OLDPWD': '/home/daniil/projects/ibragimov_hw_2022/ML',\n",
              "        'KONSOLE_DBUS_WINDOW': '/Windows/1',\n",
              "        '_': '/snap/code/111/usr/share/code/bin/../code',\n",
              "        'VSCODE_CWD': '/home/daniil/projects/ibragimov_hw_2022/ML',\n",
              "        'VSCODE_CLI': '1',\n",
              "        'ELECTRON_NO_ATTACH_CONSOLE': '1',\n",
              "        'CHROME_DESKTOP': 'code-url-handler.desktop',\n",
              "        'ORIGINAL_XDG_CURRENT_DESKTOP': 'KDE',\n",
              "        'GDK_BACKEND': 'x11',\n",
              "        'NO_AT_BRIDGE': '1',\n",
              "        'VSCODE_NLS_CONFIG': '{\"locale\":\"ru\",\"availableLanguages\":{\"*\":\"ru\"},\"_languagePackId\":\"e2ffc705928756f894bc499ac5960409.ru\",\"_translationsConfigFile\":\"/home/daniil/.config/Code/clp/e2ffc705928756f894bc499ac5960409.ru/tcf.json\",\"_cacheRoot\":\"/home/daniil/.config/Code/clp/e2ffc705928756f894bc499ac5960409.ru\",\"_resolvedLanguagePackCoreLocation\":\"/home/daniil/.config/Code/clp/e2ffc705928756f894bc499ac5960409.ru/d045a5eda657f4d7b676dedbfa7aab8207f8a075\",\"_corruptedFile\":\"/home/daniil/.config/Code/clp/e2ffc705928756f894bc499ac5960409.ru/corrupted.info\",\"_languagePackSupport\":true}',\n",
              "        'VSCODE_CODE_CACHE_PATH': '/home/daniil/.config/Code/CachedData/d045a5eda657f4d7b676dedbfa7aab8207f8a075',\n",
              "        'VSCODE_IPC_HOOK': '/run/user/1000/vscode-d4c645db-1.72.2-main.sock',\n",
              "        'VSCODE_PID': '2787',\n",
              "        'VSCODE_AMD_ENTRYPOINT': 'vs/workbench/api/node/extensionHostProcess',\n",
              "        'VSCODE_HANDLES_UNCAUGHT_ERRORS': 'true',\n",
              "        'PYTHONPATH': '/home/daniil/.vscode/extensions/ms-toolsai.jupyter-2022.9.1202862440/pythonFiles:/home/daniil/.vscode/extensions/ms-toolsai.jupyter-2022.9.1202862440/pythonFiles/lib/python',\n",
              "        'PYTHONUNBUFFERED': '1',\n",
              "        'PYTHONIOENCODING': 'utf-8',\n",
              "        'JUPYTER_PATH': '/home/daniil/.vscode/extensions/ms-toolsai.jupyter-2022.9.1202862440/temp/jupyter',\n",
              "        'JPY_PARENT_PID': '4427',\n",
              "        'CLICOLOR': '1',\n",
              "        'PAGER': 'cat',\n",
              "        'GIT_PAGER': 'cat',\n",
              "        'MPLBACKEND': 'module://matplotlib_inline.backend_inline',\n",
              "        'PYDEVD_IPYTHON_COMPATIBLE_DEBUGGING': '1'}"
            ]
          },
          "execution_count": 71,
          "metadata": {},
          "output_type": "execute_result"
        }
      ],
      "source": [
        "os.environ"
      ]
    },
    {
      "cell_type": "markdown",
      "metadata": {
        "id": "s23izIbV7-5-"
      },
      "source": [
        "20. Как игнорировать warrnings?"
      ]
    },
    {
      "cell_type": "markdown",
      "metadata": {
        "id": "XE6k7cay7-5-"
      },
      "source": [
        "* Про datetime и timedelta \n",
        "\n",
        "https://www.guru99.com/date-time-and-datetime-classes-in-python.html"
      ]
    },
    {
      "cell_type": "code",
      "execution_count": 72,
      "metadata": {},
      "outputs": [],
      "source": [
        "from datetime import date\n",
        "from datetime import time\n",
        "from datetime import datetime\n",
        "from datetime import timedelta"
      ]
    },
    {
      "cell_type": "markdown",
      "metadata": {
        "id": "SzCH8oZO7-5-"
      },
      "source": [
        "21. Вывести сегодняшнюю, вчерашнюю и завтрашнюю дату (☆☆☆)"
      ]
    },
    {
      "cell_type": "code",
      "execution_count": 73,
      "metadata": {
        "id": "J4duLqPc7-5_"
      },
      "outputs": [
        {
          "name": "stdout",
          "output_type": "stream",
          "text": [
            "2022-11-07\n",
            "2022-11-06\n",
            "2022-11-08\n"
          ]
        }
      ],
      "source": [
        "print(date.today())\n",
        "print(date.today() - timedelta(days=1))\n",
        "print(date.today() - timedelta(days=-1))"
      ]
    },
    {
      "cell_type": "markdown",
      "metadata": {
        "id": "MLqVlaHK7-5_"
      },
      "source": [
        "22. Вывести день недели сегодняшней даты (★☆☆)"
      ]
    },
    {
      "cell_type": "code",
      "execution_count": 74,
      "metadata": {
        "id": "G8SGml7y7-5_"
      },
      "outputs": [
        {
          "name": "stdout",
          "output_type": "stream",
          "text": [
            "Today is monday\n"
          ]
        }
      ],
      "source": [
        "wd = date.today().weekday()\n",
        "\n",
        "days= [\"monday\",\"tuesday\",\"wednesday\",\"thursday\",\"friday\",\"saturday\",\"sunday\"]\n",
        "print(\"Today is \" + days[wd])"
      ]
    },
    {
      "cell_type": "markdown",
      "metadata": {
        "id": "REha1tAt7-5_"
      },
      "source": [
        "23. Получить список дат за предыдущую неделю (★★☆)"
      ]
    },
    {
      "cell_type": "code",
      "execution_count": 75,
      "metadata": {
        "id": "59rDsO2X7-5_"
      },
      "outputs": [
        {
          "name": "stdout",
          "output_type": "stream",
          "text": [
            "2022-11-06\n",
            "2022-11-05\n",
            "2022-11-04\n",
            "2022-11-03\n",
            "2022-11-02\n",
            "2022-11-01\n",
            "2022-10-31\n"
          ]
        }
      ],
      "source": [
        "for day in range(1,8):\n",
        "  print(date.today() - timedelta(days=day))"
      ]
    },
    {
      "cell_type": "markdown",
      "metadata": {
        "id": "eGzHWYoJ7-5_"
      },
      "source": [
        "24. Вывести дату с часами и минутами, отформатировать в формате: 01.12.2019 00:12:54 (★★☆)\n",
        "            \n",
        "(hint: now().strftime())"
      ]
    },
    {
      "cell_type": "code",
      "execution_count": 77,
      "metadata": {
        "id": "ERifWa0x7-5_"
      },
      "outputs": [
        {
          "name": "stdout",
          "output_type": "stream",
          "text": [
            "Mon Nov  7 00:10:35 2022\n"
          ]
        }
      ],
      "source": [
        "print(datetime.now().strftime(\"%c\"))"
      ]
    },
    {
      "cell_type": "markdown",
      "metadata": {
        "id": "xtw6syHf7-5_"
      },
      "source": [
        "25. Исходя из текущей даты вычислить дату предыдущего понедельника (★★★)"
      ]
    },
    {
      "cell_type": "code",
      "execution_count": 76,
      "metadata": {
        "id": "2j3IO3nm7-6A"
      },
      "outputs": [
        {
          "name": "stdout",
          "output_type": "stream",
          "text": [
            "2022-10-31\n"
          ]
        }
      ],
      "source": [
        "wd = date.today().weekday()\n",
        "\n",
        "if wd!=0:\n",
        "  print(date.today() - timedelta(days=wd))\n",
        "else:\n",
        "  print(date.today() - timedelta(days=7))"
      ]
    },
    {
      "cell_type": "markdown",
      "metadata": {
        "id": "erB0b_lQ7-6A"
      },
      "source": [
        "# Numpy"
      ]
    },
    {
      "cell_type": "markdown",
      "metadata": {
        "id": "PGAVDzpv7-6A"
      },
      "source": [
        "### numpy в картинках (реально лучший):\n",
        "\n",
        "https://jalammar.github.io/visual-numpy/"
      ]
    },
    {
      "cell_type": "code",
      "execution_count": 1,
      "metadata": {
        "id": "I2hMMh4J7-6A"
      },
      "outputs": [],
      "source": [
        "import numpy as np"
      ]
    },
    {
      "cell_type": "markdown",
      "metadata": {
        "id": "Zc2HN9ah7-6A"
      },
      "source": [
        "1. Задать нулевой вектор размером 10 (★☆☆)\n",
        "\n",
        "(hint: np.zeros)"
      ]
    },
    {
      "cell_type": "code",
      "execution_count": 28,
      "metadata": {
        "colab": {
          "base_uri": "https://localhost:8080/"
        },
        "id": "Mo3_ncPr7-6A",
        "outputId": "4012f10e-75e0-48a2-d8d0-a7c25aed41d9"
      },
      "outputs": [
        {
          "data": {
            "text/plain": [
              "array([0., 0., 0., 0., 0., 0., 0., 0., 0., 0.])"
            ]
          },
          "execution_count": 28,
          "metadata": {},
          "output_type": "execute_result"
        }
      ],
      "source": [
        "np.zeros(10)"
      ]
    },
    {
      "cell_type": "markdown",
      "metadata": {
        "id": "zo6g4t_O7-6A"
      },
      "source": [
        "2. Как найти размер занимаемой памяти любым массивом (★☆☆)\n",
        "\n",
        "(hint: size, itemsize)"
      ]
    },
    {
      "cell_type": "code",
      "execution_count": 29,
      "metadata": {
        "colab": {
          "base_uri": "https://localhost:8080/"
        },
        "id": "H4u2UL4R7-6A",
        "outputId": "36ce41de-e0d3-48d9-afd7-a839f9f1226e"
      },
      "outputs": [
        {
          "data": {
            "text/plain": [
              "10"
            ]
          },
          "execution_count": 29,
          "metadata": {},
          "output_type": "execute_result"
        }
      ],
      "source": [
        "np.size(np.zeros(10))"
      ]
    },
    {
      "cell_type": "markdown",
      "metadata": {
        "id": "RgMlxewK7-6A"
      },
      "source": [
        "3. Создать вектор из 10 нулей, кроме пятого элемента, который равен 1 (★☆☆)"
      ]
    },
    {
      "cell_type": "code",
      "execution_count": 30,
      "metadata": {
        "colab": {
          "base_uri": "https://localhost:8080/"
        },
        "id": "jiQkXc4O7-6A",
        "outputId": "f46beb33-76ec-4b44-8217-662931963c7e"
      },
      "outputs": [
        {
          "name": "stdout",
          "output_type": "stream",
          "text": [
            "[0. 0. 0. 0. 1. 0. 0. 0. 0. 0.]\n"
          ]
        }
      ],
      "source": [
        "array = np.zeros(10)\n",
        "array[4] = 1\n",
        "print(array)"
      ]
    },
    {
      "cell_type": "markdown",
      "metadata": {
        "id": "kPEle2qT7-6B"
      },
      "source": [
        "4. Создать вектор от 10 до 50 включительно (★☆☆)\n",
        "\n",
        "(hint:np.arange)"
      ]
    },
    {
      "cell_type": "code",
      "execution_count": 31,
      "metadata": {
        "colab": {
          "base_uri": "https://localhost:8080/"
        },
        "id": "fJnAkqW-7-6B",
        "outputId": "fb1e7202-0a9b-426d-e77c-f41d69ea14d4"
      },
      "outputs": [
        {
          "name": "stdout",
          "output_type": "stream",
          "text": [
            "[10 11 12 13 14 15 16 17 18 19 20 21 22 23 24 25 26 27 28 29 30 31 32 33\n",
            " 34 35 36 37 38 39 40 41 42 43 44 45 46 47 48 49 50]\n"
          ]
        }
      ],
      "source": [
        "array = np.arange(10,51)\n",
        "print(array)"
      ]
    },
    {
      "cell_type": "markdown",
      "metadata": {
        "id": "9P1_c7se7-6B"
      },
      "source": [
        "5. Перевернуть вектор (первый элемент будет последним) (★☆☆)"
      ]
    },
    {
      "cell_type": "code",
      "execution_count": 32,
      "metadata": {
        "colab": {
          "base_uri": "https://localhost:8080/"
        },
        "id": "nZ8mw8B67-6B",
        "outputId": "690f75b0-bb2c-4505-9d8f-165b077581ff"
      },
      "outputs": [
        {
          "name": "stdout",
          "output_type": "stream",
          "text": [
            "[3 2 1]\n"
          ]
        }
      ],
      "source": [
        "array = np.array([1, 2, 3])\n",
        "array = array[::-1]\n",
        "print(array)"
      ]
    },
    {
      "cell_type": "markdown",
      "metadata": {
        "id": "431qEvN87-6B"
      },
      "source": [
        "6. Создать матрицу 3х3 с элементами от 0 до 8 (★☆☆)\n",
        "\n",
        "(hint: reshape)"
      ]
    },
    {
      "cell_type": "code",
      "execution_count": 33,
      "metadata": {
        "colab": {
          "base_uri": "https://localhost:8080/"
        },
        "id": "b4A8JfF37-6B",
        "outputId": "be97123d-3b3b-43c3-a359-33303c2bd160"
      },
      "outputs": [
        {
          "name": "stdout",
          "output_type": "stream",
          "text": [
            "[[0 1 2]\n",
            " [3 4 5]\n",
            " [6 7 8]]\n"
          ]
        }
      ],
      "source": [
        "arr = np.arange(0,9)\n",
        "arr = arr.reshape(3, 3)\n",
        "print(arr)"
      ]
    },
    {
      "cell_type": "markdown",
      "metadata": {
        "id": "PMb49oNH7-6B"
      },
      "source": [
        "7. Найти индексы не нулевых эемелентов в numpy array [1,2,0,0,4,0] (★☆☆)\n",
        "\n",
        "(hint: np.nonzero)"
      ]
    },
    {
      "cell_type": "code",
      "execution_count": 34,
      "metadata": {
        "id": "K8dAIKrt7-6B"
      },
      "outputs": [
        {
          "name": "stdout",
          "output_type": "stream",
          "text": [
            "(array([0, 1, 4]),)\n"
          ]
        }
      ],
      "source": [
        "arr = np.nonzero([1,2,0,0,4,0])\n",
        "print(arr)"
      ]
    },
    {
      "cell_type": "markdown",
      "metadata": {
        "id": "jmOnmP6b7-6B"
      },
      "source": [
        "8. Создать матрицу 10x10 array с рандомными числами и найти минимум, максимум и среднее (★☆☆)"
      ]
    },
    {
      "cell_type": "code",
      "execution_count": 35,
      "metadata": {
        "colab": {
          "base_uri": "https://localhost:8080/"
        },
        "id": "PvbVEYkt7-6B",
        "outputId": "6414b0ff-58b9-4465-e2f4-e54f6aa4d821"
      },
      "outputs": [
        {
          "name": "stdout",
          "output_type": "stream",
          "text": [
            "0.003932552299904302\n",
            "0.9861361763578779\n",
            "0.5105776567226534\n"
          ]
        }
      ],
      "source": [
        "matrix = np.random.random((10, 10))\n",
        "print(matrix.min())\n",
        "print(matrix.max())\n",
        "print(matrix.mean())"
      ]
    },
    {
      "cell_type": "markdown",
      "metadata": {
        "id": "7Akk1awh7-6C"
      },
      "source": [
        "9. Создать матрицу 8x8 и заполнить 0 и 1 в стиле шахматной доски (★☆☆)\n",
        "\n",
        "(hint: array[::n])"
      ]
    },
    {
      "cell_type": "code",
      "execution_count": 36,
      "metadata": {
        "colab": {
          "base_uri": "https://localhost:8080/"
        },
        "id": "825TezXL7-6C",
        "outputId": "3a59b03a-6217-4884-d193-243f92d590a3"
      },
      "outputs": [
        {
          "name": "stdout",
          "output_type": "stream",
          "text": [
            "[[0 1 0 1 0 1 0 1]\n",
            " [1 0 1 0 1 0 1 0]\n",
            " [0 1 0 1 0 1 0 1]\n",
            " [1 0 1 0 1 0 1 0]\n",
            " [0 1 0 1 0 1 0 1]\n",
            " [1 0 1 0 1 0 1 0]\n",
            " [0 1 0 1 0 1 0 1]\n",
            " [1 0 1 0 1 0 1 0]]\n"
          ]
        }
      ],
      "source": [
        "mat = np.tile(np.array([[0,1],[1,0]]), (4,4))\n",
        "print(mat)"
      ]
    },
    {
      "cell_type": "markdown",
      "metadata": {
        "id": "tPItbLuk7-6C"
      },
      "source": [
        "10. Нормализовать рандомную матрицу 5x5 (★☆☆)\n",
        "\n",
        "(hint: (x - mean) / std)"
      ]
    },
    {
      "cell_type": "code",
      "execution_count": 37,
      "metadata": {
        "colab": {
          "base_uri": "https://localhost:8080/"
        },
        "id": "NxpOioEr7-6C",
        "outputId": "aee73999-7829-40c4-fb8c-e78eb0d063c2"
      },
      "outputs": [
        {
          "name": "stdout",
          "output_type": "stream",
          "text": [
            "[[ 1.15869266 -1.30849869  0.52905436 -1.11690815  0.46867644]\n",
            " [-0.86052016  0.02814376 -1.11700666  0.14573578 -0.55368015]\n",
            " [ 1.3720757   1.4441943   0.51211023  1.50371403  1.14353954]\n",
            " [-1.4891755   1.05289169  1.14284607 -1.77160692 -0.4839663 ]\n",
            " [-0.60241538  0.11300157  0.26539006 -0.34742731 -1.22886096]]\n"
          ]
        }
      ],
      "source": [
        "m = np.random.random((5, 5))\n",
        "m = (m - m.mean()) / m.std()\n",
        "print(m)"
      ]
    },
    {
      "cell_type": "markdown",
      "metadata": {
        "id": "rpnPFQiD7-6C"
      },
      "source": [
        "11. Найти общие элементы между двумя массивами\n",
        "\n",
        "(hint: np.intersect1d)"
      ]
    },
    {
      "cell_type": "code",
      "execution_count": 38,
      "metadata": {
        "colab": {
          "base_uri": "https://localhost:8080/"
        },
        "id": "Om2KNfr57-6C",
        "outputId": "a1dce8ae-e6a5-48fb-837c-2b9cfc0d17a3"
      },
      "outputs": [
        {
          "name": "stdout",
          "output_type": "stream",
          "text": [
            "[3]\n"
          ]
        }
      ],
      "source": [
        "a = np.array([1, 2, 3])\n",
        "b = np.array([3, 4, 5])\n",
        "i = np.intersect1d(a, b)\n",
        "print(i)"
      ]
    },
    {
      "cell_type": "markdown",
      "metadata": {
        "id": "aqQ7cw7Z7-6C"
      },
      "source": [
        "12. Извлечь целую часть рандомного массива чисел различными способами (максимум 5) (★★☆)"
      ]
    },
    {
      "cell_type": "code",
      "execution_count": 9,
      "metadata": {
        "id": "km63zOAL7-6C"
      },
      "outputs": [
        {
          "name": "stdout",
          "output_type": "stream",
          "text": [
            "[1, 1, 1, 1, 1, 1, 2, 2, 2, 2, 2, 3, 3, 3, 3, 3, 3, 4, 4, 4, 4, 4, 5, 5, 5, 5, 5, 5, 6, 6, 6, 6, 6, 7, 7, 7, 7, 7, 7, 8, 8, 8, 8, 8, 9, 9, 9, 9, 9, 10]\n",
            "[1, 1, 1, 1, 1, 1, 2, 2, 2, 2, 2, 3, 3, 3, 3, 3, 3, 4, 4, 4, 4, 4, 5, 5, 5, 5, 5, 5, 6, 6, 6, 6, 6, 7, 7, 7, 7, 7, 7, 8, 8, 8, 8, 8, 9, 9, 9, 9, 9, 10]\n",
            "[1, 1, 1, 1, 1, 1, 2, 2, 2, 2, 2, 3, 3, 3, 3, 3, 3, 4, 4, 4, 4, 4, 5, 5, 5, 5, 5, 5, 6, 6, 6, 6, 6, 7, 7, 7, 7, 7, 7, 8, 8, 8, 8, 8, 9, 9, 9, 9, 9, 10]\n"
          ]
        }
      ],
      "source": [
        "import math\n",
        "\n",
        "ls = np.linspace(1, 10)\n",
        "result1 = []\n",
        "for num in ls:\n",
        "    result1.append(int(num))\n",
        "print(result1)\n",
        "\n",
        "result2 = []\n",
        "for num in ls:\n",
        "    result2.append(math.trunc(num))\n",
        "print(result2)\n",
        "\n",
        "str_result3 = []\n",
        "for num in ls:\n",
        "    str_result3.append(str(num).split('.')[0])\n",
        "result3 = [int(i) for i in str_result3]\n",
        "print(result3)"
      ]
    },
    {
      "cell_type": "markdown",
      "metadata": {
        "id": "f_rFnjH37-6C"
      },
      "source": [
        "13. Создать рандомный вектор размера 10 и отсортировать его (★★☆)"
      ]
    },
    {
      "cell_type": "code",
      "execution_count": 39,
      "metadata": {
        "colab": {
          "base_uri": "https://localhost:8080/"
        },
        "id": "QfFtNYNg7-6C",
        "outputId": "649d1372-e414-46ef-89be-411503c2d17d"
      },
      "outputs": [
        {
          "name": "stdout",
          "output_type": "stream",
          "text": [
            "[0.02652069 0.03495585 0.14055604 0.36590099 0.47935175 0.55252428\n",
            " 0.69193726 0.74580132 0.90493092 0.9929126 ]\n"
          ]
        }
      ],
      "source": [
        "r = np.random.random(10)\n",
        "r.sort()\n",
        "print(r)"
      ]
    },
    {
      "cell_type": "markdown",
      "metadata": {
        "id": "bJzpgOl37-6D"
      },
      "source": [
        "14. Проверить одинаковы ли два рандомных массива А и B (★★☆)\n",
        "\n",
        "(hint: np.allclose, np.array_equal)"
      ]
    },
    {
      "cell_type": "code",
      "execution_count": 40,
      "metadata": {
        "colab": {
          "base_uri": "https://localhost:8080/"
        },
        "id": "6n303JJr7-6D",
        "outputId": "b712b8f8-1550-4a58-b4fc-b13205d64c14"
      },
      "outputs": [
        {
          "name": "stdout",
          "output_type": "stream",
          "text": [
            "False\n",
            "False\n"
          ]
        }
      ],
      "source": [
        "a = np.random.random(10)\n",
        "b = np.random.random(10)\n",
        "print(np.allclose(a, b))\n",
        "print(np.array_equal(a, b))"
      ]
    },
    {
      "cell_type": "markdown",
      "metadata": {
        "id": "JoJglzhz7-6D"
      },
      "source": [
        "15. Создать рандомный ветор размером 10 и максимальный элемент заменить на -1 (★★☆)\n",
        "\n",
        "(hint: argmax)"
      ]
    },
    {
      "cell_type": "code",
      "execution_count": 47,
      "metadata": {
        "id": "e5mGRtnL7-6D"
      },
      "outputs": [
        {
          "name": "stdout",
          "output_type": "stream",
          "text": [
            "[0.97325512 0.1690341  0.76622924 0.82398965 0.26181282 0.80340114\n",
            " 0.16179312 0.33753668 0.31107335 0.76603304]\n",
            "[-1.          0.1690341   0.76622924  0.82398965  0.26181282  0.80340114\n",
            "  0.16179312  0.33753668  0.31107335  0.76603304]\n"
          ]
        }
      ],
      "source": [
        "vec = np.random.random(10)\n",
        "print(vec)\n",
        "vec[vec.argmax()] = -1\n",
        "print(vec)"
      ]
    },
    {
      "cell_type": "markdown",
      "metadata": {
        "id": "mAGLVuFF7-6D"
      },
      "source": [
        "16. Найдите самый близкий элемент к данному рандомному числу в векторе? (★★☆)\n",
        "\n",
        "(hint: argmin)"
      ]
    },
    {
      "cell_type": "code",
      "execution_count": 36,
      "metadata": {
        "id": "89qRlKiw7-6D"
      },
      "outputs": [
        {
          "name": "stdout",
          "output_type": "stream",
          "text": [
            "49.70308481935108\n",
            "50\n"
          ]
        }
      ],
      "source": [
        "Z = np.arange(100)\n",
        "v = np.random.uniform(0,100)\n",
        "\n",
        "index = Z[round(v)]\n",
        "\n",
        "print(v)\n",
        "print(Z[index])"
      ]
    },
    {
      "cell_type": "markdown",
      "metadata": {
        "id": "36WBkhF-7-6D"
      },
      "source": [
        "17. Посчитать среднее для каждой строки матрицы (★★☆)"
      ]
    },
    {
      "cell_type": "code",
      "execution_count": 42,
      "metadata": {
        "id": "GnLZw8aJ7-6D"
      },
      "outputs": [
        {
          "name": "stdout",
          "output_type": "stream",
          "text": [
            "среднее для элементов строки 0 в матрице равно 61.2\n",
            "среднее для элементов строки 1 в матрице равно 37.2\n",
            "среднее для элементов строки 2 в матрице равно 67.4\n",
            "среднее для элементов строки 3 в матрице равно 32.8\n",
            "среднее для элементов строки 4 в матрице равно 58.4\n"
          ]
        }
      ],
      "source": [
        "matrix = np.reshape([round(np.random.random()*100) for i in range(25)],(5,5))\n",
        "m_xy = matrix.shape \n",
        "str_sum = 0\n",
        "for i in range(m_xy[0]):\n",
        "  for j in range(m_xy[1]):\n",
        "    str_sum = str_sum + matrix[i][j]\n",
        "  \n",
        "  str_sum = str_sum/m_xy[1]\n",
        "  print(f\"среднее для элементов строки {i} в матрице равно {str_sum}\")\n",
        "  str_sum = 0\n"
      ]
    },
    {
      "cell_type": "markdown",
      "metadata": {
        "id": "uh0PaELi7-6D"
      },
      "source": [
        "18. Посчитать среднее со скользящим окном над массивом (★★★)\n",
        "\n",
        "(hint: np.cumsum)"
      ]
    },
    {
      "cell_type": "code",
      "execution_count": null,
      "metadata": {
        "id": "G1FMXEzw7-6D"
      },
      "outputs": [],
      "source": []
    },
    {
      "cell_type": "markdown",
      "metadata": {
        "id": "39MrQOOQ7-6D"
      },
      "source": [
        "<img src=\"gifs/bender.gif\" width=\"400\">"
      ]
    },
    {
      "cell_type": "markdown",
      "metadata": {
        "id": "hjyrzC-K7-6E"
      },
      "source": [
        "# Regular expressions\n",
        "\n",
        "* Cупер статья на все времена. Особенно понятно все про такие сложные штуки как lookaround. \n",
        "\n",
        "https://habr.com/ru/post/349860/\n",
        "\n",
        "\n",
        "* Задания на регулярки\n",
        "\n",
        "https://regexone.com/\n",
        "\n",
        "* На этом сайте удобно тестировать регулярку, которую мучаешь, можно написать несколько примеров и тестировать на них. Важно не забывать выбирать Python:\n",
        "\n",
        "https://regex101.com/"
      ]
    },
    {
      "cell_type": "markdown",
      "metadata": {
        "id": "Qyr-_5kN7-6E"
      },
      "source": [
        "1. Из строки в файле data/rejson.txt вытащить хэш. Пример:\n",
        "\n",
        "'master_guid': '<b>233880bb4c50d247f84edc9cac9e6e29</b>_2308194320'"
      ]
    },
    {
      "cell_type": "code",
      "execution_count": null,
      "metadata": {
        "id": "snI9_pDw7-6E"
      },
      "outputs": [],
      "source": []
    },
    {
      "cell_type": "markdown",
      "metadata": {
        "id": "LvMyVVti7-6E"
      },
      "source": [
        "# Pandas"
      ]
    },
    {
      "cell_type": "markdown",
      "metadata": {
        "id": "1phjMjs87-6E"
      },
      "source": [
        "* Pandas в картинках\n",
        "\n",
        "https://jalammar.github.io/gentle-visual-intro-to-data-analysis-python-pandas/\n",
        "\n",
        "* 10 minutes to pandas\n",
        "\n",
        "https://pandas.pydata.org/pandas-docs/stable/getting_started/10min.html\n",
        "\n",
        "* 🐼реально классный твиттер чувака с крутыми pandas tricks:\n",
        "    \n",
        "https://mobile.twitter.com/i/moments/1158828895547854849"
      ]
    }
  ],
  "metadata": {
    "colab": {
      "collapsed_sections": [],
      "provenance": []
    },
    "kernelspec": {
      "display_name": "Python 3.10.7 64-bit",
      "language": "python",
      "name": "python3"
    },
    "language_info": {
      "codemirror_mode": {
        "name": "ipython",
        "version": 3
      },
      "file_extension": ".py",
      "mimetype": "text/x-python",
      "name": "python",
      "nbconvert_exporter": "python",
      "pygments_lexer": "ipython3",
      "version": "3.10.8"
    },
    "vscode": {
      "interpreter": {
        "hash": "e7370f93d1d0cde622a1f8e1c04877d8463912d04d973331ad4851f04de6915a"
      }
    }
  },
  "nbformat": 4,
  "nbformat_minor": 0
}
