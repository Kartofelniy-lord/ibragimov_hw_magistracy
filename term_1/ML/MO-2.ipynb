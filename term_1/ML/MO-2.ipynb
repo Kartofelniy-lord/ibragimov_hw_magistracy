{
  "cells": [
    {
      "cell_type": "code",
      "execution_count": null,
      "metadata": {
        "id": "kI9QYw3nQIjq"
      },
      "outputs": [],
      "source": [
        "import numpy as np\n",
        "import pandas as pd"
      ]
    },
    {
      "cell_type": "markdown",
      "metadata": {
        "id": "oE83eZ7L7-5q"
      },
      "source": [
        "# План:\n",
        "1. Python\n",
        "2. Numpy\n",
        "3. Pandas\n",
        "4. Regexp + regexp with dataframes\n",
        "5. Texts\n",
        "6. Matplotlib, Seaborn\n",
        "7. Classification, clustering, binary, multiclass, multilabel\n",
        "8. Metrics\n",
        "9. Feature extraction\n",
        "10. Pyspark/sql"
      ]
    },
    {
      "cell_type": "markdown",
      "metadata": {
        "id": "f5XKaq5x7-5u"
      },
      "source": [
        "<img src=\"gifs/start.gif\" width=\"400\">"
      ]
    },
    {
      "cell_type": "markdown",
      "metadata": {
        "id": "5W1f3O2r7-5u"
      },
      "source": [
        "# Python\n",
        "\n",
        "* Целая куча упражнений на типы данных\\операторы и функции\n",
        "\n",
        "https://www.w3resource.com/python-exercises/"
      ]
    },
    {
      "cell_type": "markdown",
      "metadata": {
        "id": "ZHddAJ4I7-5v"
      },
      "source": [
        "Типы данных:\n",
        "    * Числа (7382, 3.14, 3+4j, Decimal, Fraction)\n",
        "    * Строки ('net', \"your's\", u'радость')\n",
        "    * Списки ([1, [2, 'three'], 4])\n",
        "    * Словари ({'Alex': 2, 'Brian': 4})\n",
        "    * Кортежи ('Leo', 21.7, 'single')\n",
        "    * Множества (set(1,2,3), {'a', 'b', 'c'})\n",
        "    * Файлы (open('myfile', 'r'))"
      ]
    },
    {
      "cell_type": "markdown",
      "metadata": {
        "id": "UKn_wHVK7-5v"
      },
      "source": [
        "1. Склеить 3 подстроки \"ada\", \"lovelace\", \"was considered the world's first computer programmer.\". Первые две строки сделать с большой буквы.  (★☆☆)"
      ]
    },
    {
      "cell_type": "code",
      "execution_count": null,
      "metadata": {
        "colab": {
          "base_uri": "https://localhost:8080/"
        },
        "id": "jRBB73ve7-5w",
        "outputId": "4a3bee4c-d02c-4160-ee72-d5c26fb9e5aa"
      },
      "outputs": [
        {
          "name": "stdout",
          "output_type": "stream",
          "text": [
            "AdaLovelacewas considered the world's first computer programmer.\n"
          ]
        }
      ],
      "source": [
        "s1 = \"ada\"\n",
        "s2 = \"lovelace\"\n",
        "s3 = \"was considered the world's first computer programmer.\"\n",
        "s1=s1.capitalize()\n",
        "s2=s2.capitalize()\n",
        "result = s1+s2+s3\n",
        "print(result)"
      ]
    },
    {
      "cell_type": "markdown",
      "metadata": {
        "id": "SLC83wKC7-5x"
      },
      "source": [
        "2. Удаление лишних пробельных символов справа, слева, с обоих сторон  (☆☆☆)"
      ]
    },
    {
      "cell_type": "code",
      "execution_count": 2,
      "metadata": {
        "colab": {
          "base_uri": "https://localhost:8080/"
        },
        "id": "TzYAeuH87-5y",
        "outputId": "fe0923a2-43c9-4c17-8431-6c17c10a9a2a"
      },
      "outputs": [
        {
          "name": "stdout",
          "output_type": "stream",
          "text": [
            "banana\n"
          ]
        }
      ],
      "source": [
        "string = \",,,,,rrttgg..   ...banana....rrr\"\n",
        "print(string.strip(\" ,.grt\")) # удаление произвольных символов"
      ]
    },
    {
      "cell_type": "markdown",
      "metadata": {
        "id": "CDNdDtgf7-5y"
      },
      "source": [
        "3. Найти первое вхождение в строку подстроки (☆☆☆)"
      ]
    },
    {
      "cell_type": "code",
      "execution_count": null,
      "metadata": {
        "colab": {
          "base_uri": "https://localhost:8080/"
        },
        "id": "UUcgKgMU7-5z",
        "outputId": "ed936ad6-f20c-487a-ef86-627050c1d2ac"
      },
      "outputs": [
        {
          "data": {
            "text/plain": [
              "7"
            ]
          },
          "execution_count": 4,
          "metadata": {},
          "output_type": "execute_result"
        }
      ],
      "source": [
        "s1=\"But if you stick with me, I’m gonna accomplish great things, Morty, and you’re gonna be part of ’em.\"\n",
        "s2=\"you\"\n",
        "\n",
        "##your code\n",
        "s1.find(s2)"
      ]
    },
    {
      "cell_type": "markdown",
      "metadata": {
        "id": "ucfkW-My7-53"
      },
      "source": [
        "* isdigit - состоит ли строка из цифр;\n",
        "* isalpha - состоит ли строка из букв;\n",
        "* isalnum - состоит ли строка из цифр или букв;\n",
        "* islower - состоит ли строка из символов в нижнем регистре;\n",
        "* isupper - состоит ли строка из символов в верхнем регистре;\n",
        "* istitle - начинаются ли слова в строке с заглавной буквы."
      ]
    },
    {
      "cell_type": "markdown",
      "metadata": {
        "id": "glYpHxe17-53"
      },
      "source": [
        "4. Разбить строку по разделителю (☆☆☆)"
      ]
    },
    {
      "cell_type": "code",
      "execution_count": null,
      "metadata": {
        "colab": {
          "base_uri": "https://localhost:8080/"
        },
        "id": "eQdWkDj87-54",
        "outputId": "9d8af2b0-837d-40de-91b9-298c8975fa7a"
      },
      "outputs": [
        {
          "name": "stdout",
          "output_type": "stream",
          "text": [
            "['Holy', 'cow,', 'Rick!', 'I', 'didn’t', 'know', 'hanging', 'out', 'with', 'you', 'was', 'making', 'me', 'smarter!']\n"
          ]
        }
      ],
      "source": [
        "s1=\"Holy#cow,#Rick!#I#didn’t#know#hanging#out#with#you#was#making#me#smarter!\"\n",
        "s1 = s1.split(\"#\")\n",
        "##your code\n",
        "print(s1)\n"
      ]
    },
    {
      "cell_type": "markdown",
      "metadata": {
        "id": "ZYvWj__67-54"
      },
      "source": [
        "5. Полученный массив строк склеить через пробел (★☆☆)"
      ]
    },
    {
      "cell_type": "code",
      "execution_count": null,
      "metadata": {
        "colab": {
          "base_uri": "https://localhost:8080/"
        },
        "id": "FYahPQbj7-54",
        "outputId": "5642d7ae-8f4c-40be-a9fb-5b2c17b8478c"
      },
      "outputs": [
        {
          "name": "stdout",
          "output_type": "stream",
          "text": [
            "Holy cow, Rick! I didn’t know hanging out with you was making me smarter! \n"
          ]
        }
      ],
      "source": [
        "newstr = str()\n",
        "for i in s1:\n",
        "  newstr += i+' '\n",
        "print(newstr)"
      ]
    },
    {
      "cell_type": "markdown",
      "metadata": {
        "id": "gBWcMRgA7-54"
      },
      "source": [
        "6. Вывести данные из словаря в три строки в виде \"NAME (age AGE) is a JOB\" (★☆☆)\n",
        "\n",
        "(hint: .format())"
      ]
    },
    {
      "cell_type": "code",
      "execution_count": null,
      "metadata": {
        "colab": {
          "base_uri": "https://localhost:8080/"
        },
        "id": "DYRA4y_b7-55",
        "outputId": "5ee5fd12-631f-4d39-eb92-92529adfbb81"
      },
      "outputs": [
        {
          "name": "stdout",
          "output_type": "stream",
          "text": [
            "Name = Ann, Age = 29, is Job = Artist\n",
            "Name = Leo, Age = 54, is Job = Programmer\n",
            "Name = Tiffany, Age = 43, is Job = Shop Assistant\n"
          ]
        }
      ],
      "source": [
        "personal_data = {1: (\"Ann\", 29, \"Artist\"), \n",
        "               2: (\"Leo\", 54, \"Programmer\"), \n",
        "               3: (\"Tiffany\", 43, \"Shop Assistant\")}\n",
        "\n",
        "##your code\n",
        "for key,value in personal_data.items():\n",
        "  print(f\"Name = {value[0]}, Age = {value[1]}, is Job = {value[2]}\")"
      ]
    },
    {
      "cell_type": "markdown",
      "metadata": {
        "id": "i9B4DWOZ7-55"
      },
      "source": [
        "7. Требуется определить, является ли данный год високосным. (год является високосным, если его номер кратен 4, но не кратен 100, а также если он кратен 400.)  (★★☆)\n",
        "\n",
        "Входные данные: Вводится единственное число - номер года (целое, положительное, не превышает 30000).\n",
        "\n",
        "Выходные данные: Требуется вывести слово YES, если год является високосным и NO - в противном случае."
      ]
    },
    {
      "cell_type": "code",
      "execution_count": null,
      "metadata": {
        "colab": {
          "base_uri": "https://localhost:8080/"
        },
        "id": "tnB75I627-55",
        "outputId": "da6b06ae-0435-46d5-cead-53e7506a3bbc"
      },
      "outputs": [
        {
          "name": "stdout",
          "output_type": "stream",
          "text": [
            "14\n",
            "Обычный\n"
          ]
        }
      ],
      "source": [
        "year = int(input())\n",
        "if (year % 4 == 0 and year%100 != 0) or (year%400 == 0):\n",
        "    print(\"Высокосный\")\n",
        "else:\n",
        "    print(\"Обычный\")"
      ]
    },
    {
      "cell_type": "markdown",
      "metadata": {
        "id": "K_PZ2DEf7-55"
      },
      "source": [
        "8. Закодируйте каждый элемент списка слов числом, результат сопоставления (слово-число) поместите в словарь.  (★☆☆)"
      ]
    },
    {
      "cell_type": "code",
      "execution_count": 5,
      "metadata": {
        "colab": {
          "base_uri": "https://localhost:8080/"
        },
        "id": "SPs9JyRF7-56",
        "outputId": "79245acd-c986-467f-e91c-dac0696684cc"
      },
      "outputs": [
        {
          "data": {
            "text/plain": [
              "dict_items([('Not', 0), ('my', 1), ('cup', 2), ('of', 3), ('tea', 4)])"
            ]
          },
          "execution_count": 5,
          "metadata": {},
          "output_type": "execute_result"
        }
      ],
      "source": [
        "words = ['Not', 'my', 'cup', 'of', 'tea']\n",
        "dct = dict()\n",
        "j=0\n",
        "##your code\n",
        "for i in words:\n",
        "  dct[f'{i}']=j\n",
        "  j=j+1\n",
        "\n",
        "dct.items()"
      ]
    },
    {
      "cell_type": "markdown",
      "metadata": {
        "id": "VpAE38WK7-56"
      },
      "source": [
        "9. Удалить второй элемент из списка по индексу\\по значению  (★☆☆)"
      ]
    },
    {
      "cell_type": "code",
      "execution_count": null,
      "metadata": {
        "colab": {
          "base_uri": "https://localhost:8080/",
          "height": 37
        },
        "id": "1R9l4Ftu7-56",
        "outputId": "9877151d-4b37-4d79-c0da-dc80b5c04c03"
      },
      "outputs": [
        {
          "data": {
            "application/vnd.google.colaboratory.intrinsic+json": {
              "type": "string"
            },
            "text/plain": [
              "'australian cattle dog'"
            ]
          },
          "execution_count": 10,
          "metadata": {},
          "output_type": "execute_result"
        }
      ],
      "source": [
        "dogs = ['border collie', 'australian cattle dog', 'labrador retriever']\n",
        "\n",
        "##your code\n",
        "dogs.pop(1)"
      ]
    },
    {
      "cell_type": "code",
      "execution_count": null,
      "metadata": {
        "colab": {
          "base_uri": "https://localhost:8080/"
        },
        "id": "zQItqxq_73Yz",
        "outputId": "7e97ad95-5ed9-42fb-9cf0-e24ab9ec5f63"
      },
      "outputs": [
        {
          "data": {
            "text/plain": [
              "['border collie', 'labrador retriever']"
            ]
          },
          "execution_count": 11,
          "metadata": {},
          "output_type": "execute_result"
        }
      ],
      "source": [
        "dogs"
      ]
    },
    {
      "cell_type": "markdown",
      "metadata": {
        "id": "OSHCsLjY7-56"
      },
      "source": [
        "10. Вывести срез списка с 3 по 5 элемент включительно и все слова перевести в верхний регистр (★☆☆)"
      ]
    },
    {
      "cell_type": "code",
      "execution_count": null,
      "metadata": {
        "colab": {
          "base_uri": "https://localhost:8080/"
        },
        "id": "JGma4FNP7-56",
        "outputId": "71ddd2ba-4d77-4965-8972-39c54d5b9e9e"
      },
      "outputs": [
        {
          "data": {
            "text/plain": [
              "['AUSTRALIAN', 'CATTLE', 'DOG']"
            ]
          },
          "execution_count": 12,
          "metadata": {},
          "output_type": "execute_result"
        }
      ],
      "source": [
        "dogs = ['border', 'collie', 'australian', 'cattle', 'dog', 'labrador', 'retriever']\n",
        "\n",
        "##your code\n",
        "[x.upper() for x in dogs[2:5]]"
      ]
    },
    {
      "cell_type": "markdown",
      "metadata": {
        "id": "xvQNspgc7-57"
      },
      "source": [
        "11. Словарь словарей. Вывести из словаря для каждого питомца его имя, породу, имя владельца, и наличие прививки. Строку вывода формировать через .format() (★☆☆)"
      ]
    },
    {
      "cell_type": "code",
      "execution_count": null,
      "metadata": {
        "colab": {
          "base_uri": "https://localhost:8080/"
        },
        "id": "9T8ZTmf87-57",
        "outputId": "b20aaec3-cf6b-410f-f38b-6c0e2231cb19"
      },
      "outputs": [
        {
          "name": "stdout",
          "output_type": "stream",
          "text": [
            "willie dog eric True\n",
            "walter cockroach eric False\n",
            "peso dog chloe True\n"
          ]
        }
      ],
      "source": [
        "pets = {'willie': {'kind': 'dog', 'owner': 'eric', 'vaccinated': True},\n",
        "        'walter': {'kind': 'cockroach', 'owner': 'eric', 'vaccinated': False},\n",
        "        'peso': {'kind': 'dog', 'owner': 'chloe', 'vaccinated': True},\n",
        "        }\n",
        "\n",
        "##your code\n",
        "for key,value in pets.items():\n",
        "  print(key,value['kind'],value['owner'], value['vaccinated'])"
      ]
    },
    {
      "cell_type": "markdown",
      "metadata": {
        "id": "Bah9sBea7-57"
      },
      "source": [
        "12. Проверить является ли множество подмножеством другого множества  (★☆☆)"
      ]
    },
    {
      "cell_type": "code",
      "execution_count": null,
      "metadata": {
        "colab": {
          "base_uri": "https://localhost:8080/"
        },
        "id": "LvJCOUVy7-57",
        "outputId": "bdfec0c3-31c7-4f52-b814-31c4472e6f71"
      },
      "outputs": [
        {
          "name": "stdout",
          "output_type": "stream",
          "text": [
            "True\n",
            "False\n"
          ]
        }
      ],
      "source": [
        "a=set([2, 5, 6])\n",
        "b=set([2, 4, 8, 3, 5, 6])\n",
        "\n",
        "##your code\n",
        "print(a.issubset(b))\n",
        "print(b.issubset(a))"
      ]
    },
    {
      "cell_type": "markdown",
      "metadata": {
        "id": "sfVwYMPL7-57"
      },
      "source": [
        "13. Объединить несколько множеств (★☆☆)"
      ]
    },
    {
      "cell_type": "code",
      "execution_count": null,
      "metadata": {
        "colab": {
          "base_uri": "https://localhost:8080/"
        },
        "id": "hrKKF3kp7-58",
        "outputId": "fdf3d9f3-a056-408e-ff5f-b18f4ae8e75e"
      },
      "outputs": [
        {
          "data": {
            "text/plain": [
              "{2, 3, 4, 5, 6, 8, 10, 35}"
            ]
          },
          "execution_count": 15,
          "metadata": {},
          "output_type": "execute_result"
        }
      ],
      "source": [
        "a=set([10, 35, 6, 5])\n",
        "b=set([2, 4, 8, 3, 5, 6, 35])\n",
        "c=set([4, 5, 35])\n",
        "\n",
        "\n",
        "total_set = set()\n",
        "##your code\n",
        "total_set = a.union(b)\n",
        "total_set = total_set.union(c)\n",
        "total_set"
      ]
    },
    {
      "cell_type": "markdown",
      "metadata": {
        "id": "bI5lcYGM7-58"
      },
      "source": [
        "14. Посчитать пересечение множества b с остальными из предыдущего задания  (★★☆)\n",
        "\n",
        "(hint: set.intersection(other, ...) (или set & other &) )"
      ]
    },
    {
      "cell_type": "code",
      "execution_count": null,
      "metadata": {
        "colab": {
          "base_uri": "https://localhost:8080/"
        },
        "id": "ZpsU-iaT7-58",
        "outputId": "1572effd-c242-4ba6-8c47-860e83016961"
      },
      "outputs": [
        {
          "name": "stdout",
          "output_type": "stream",
          "text": [
            "{35, 5, 6}\n",
            "{35, 4, 5}\n"
          ]
        }
      ],
      "source": [
        "print(b.intersection(a))\n",
        "print(b.intersection(c))"
      ]
    },
    {
      "cell_type": "markdown",
      "metadata": {
        "id": "uVuXAMxR7-58"
      },
      "source": [
        "15. Вывести множество из элементов, встречающихся в одном множестве, но не встречающиеся в обоих. (★★☆)\n",
        "\n",
        "(hint: .symmetric_difference())"
      ]
    },
    {
      "cell_type": "code",
      "execution_count": null,
      "metadata": {
        "colab": {
          "base_uri": "https://localhost:8080/"
        },
        "id": "EmdVX2Vn7-58",
        "outputId": "81be5e35-b5ed-4fb1-cdbb-115d40abad0c"
      },
      "outputs": [
        {
          "data": {
            "text/plain": [
              "{1, 2, 6, 7}"
            ]
          },
          "execution_count": 17,
          "metadata": {},
          "output_type": "execute_result"
        }
      ],
      "source": [
        "a=set([1, 2, 3, 4, 5])\n",
        "b=set([3, 4, 5, 6, 7])\n",
        "\n",
        "##your code\n",
        "a.symmetric_difference(b)"
      ]
    },
    {
      "cell_type": "markdown",
      "metadata": {
        "id": "IzGjqSPG7-58"
      },
      "source": [
        "16. Предположим, есть файл с данными клиентов. В качестве простого примера воьзьмем txt-файл(нужно создать файл с предложенным/другим содержанием самостоятельно) следующего содержания:\n",
        "\n",
        "    lastname,age,debt,occupation\n",
        "    \n",
        "    Adrianov,25,30000,artist\n",
        "    \n",
        "    Нужно считать файл data/credit_sample.txt.\n",
        "    Сделать словарь вида:\n",
        "        {lastname: (age,debt,occupation)}\n",
        "    \n",
        "    Посчитать сколько уникальных профессий получилось в словаре.\n",
        "    \n",
        "    Результат записать в json (★★★)"
      ]
    },
    {
      "cell_type": "code",
      "execution_count": null,
      "metadata": {
        "id": "-Tmno7Y27-59"
      },
      "outputs": [],
      "source": [
        "dct = {\n",
        "    \"Adrianov\": {\n",
        "        \"age\": 15,\n",
        "        \"debt\": 2000,\n",
        "        \"occupation\": \"artist\"\n",
        "        },\n",
        "    \"Karpushev\": {\n",
        "        \"age\": 25,\n",
        "        \"debt\": 23000,\n",
        "        \"occupation\": \"worker\"\n",
        "        },\n",
        "    \"Mishunin\": {\n",
        "        \"age\": 22,\n",
        "        \"debt\": 500,\n",
        "        \"occupation\": \"IT\"\n",
        "        }\n",
        "}"
      ]
    },
    {
      "cell_type": "code",
      "execution_count": null,
      "metadata": {
        "colab": {
          "base_uri": "https://localhost:8080/"
        },
        "id": "3-DsdsfT0Ae-",
        "outputId": "63cee862-c195-44b4-e341-ad16fe861cc4"
      },
      "outputs": [
        {
          "name": "stdout",
          "output_type": "stream",
          "text": [
            "Уникальных профессий = 3 штук\n"
          ]
        }
      ],
      "source": [
        "myset = set()\n",
        "\n",
        "for key,value in dct.items():\n",
        "  myset.add(value['occupation'])\n",
        "\n",
        "print(f'Уникальных профессий = {len(myset)} штук')\n",
        "\n",
        "myset.clear()"
      ]
    },
    {
      "cell_type": "code",
      "execution_count": null,
      "metadata": {
        "id": "gHt7glxN1TBz"
      },
      "outputs": [],
      "source": [
        "import json\n",
        "  \n",
        "with open(\"data.json\", \"w\") as myfile:\n",
        "    json.dump(dct, myfile)"
      ]
    },
    {
      "cell_type": "code",
      "execution_count": null,
      "metadata": {
        "id": "4q6NS7Dh1Hew"
      },
      "outputs": [],
      "source": []
    },
    {
      "cell_type": "markdown",
      "metadata": {
        "id": "L-rqo8bV7-59"
      },
      "source": [
        "### os, sys, datetime"
      ]
    },
    {
      "cell_type": "code",
      "execution_count": null,
      "metadata": {
        "id": "lXfcvxcb1nCG"
      },
      "outputs": [],
      "source": [
        "import os,sys"
      ]
    },
    {
      "cell_type": "markdown",
      "metadata": {
        "id": "d_Xl0_Sn7-5-"
      },
      "source": [
        "17. Получить список файлов в папке gifs/ и оставить только файлы с расширением .gif (★★☆)"
      ]
    },
    {
      "cell_type": "code",
      "execution_count": null,
      "metadata": {
        "id": "BbX1vHg27-5-"
      },
      "outputs": [],
      "source": [
        "!mkdir gifs"
      ]
    },
    {
      "cell_type": "code",
      "execution_count": null,
      "metadata": {
        "id": "gECZ2ssQ2pke"
      },
      "outputs": [],
      "source": [
        "!cd gifs/\n",
        "!touch gif1.gif\n",
        "!touch gif2.gif\n",
        "!touch gif3.gif\n",
        "!touch gif4.gif"
      ]
    },
    {
      "cell_type": "code",
      "execution_count": null,
      "metadata": {
        "id": "a-csdmd52BaP"
      },
      "outputs": [],
      "source": [
        "!find . -type f -name «*.gif»"
      ]
    },
    {
      "cell_type": "markdown",
      "metadata": {
        "id": "ri_VgtjM7-5-"
      },
      "source": [
        "18. Создать папку с названием temp и удалить её (★☆☆)"
      ]
    },
    {
      "cell_type": "code",
      "execution_count": null,
      "metadata": {
        "id": "om3C97ME7-5-"
      },
      "outputs": [],
      "source": [
        "!mkdir temp\n",
        "!rm -rf temp"
      ]
    },
    {
      "cell_type": "markdown",
      "metadata": {
        "id": "6N333x6h7-5-"
      },
      "source": [
        "19. Вывести переменные среды (★☆☆)\n",
        "\n",
        "(hint: environ)"
      ]
    },
    {
      "cell_type": "code",
      "execution_count": null,
      "metadata": {
        "colab": {
          "base_uri": "https://localhost:8080/"
        },
        "id": "8zt8jasf7-5-",
        "outputId": "03f41162-f826-4fa5-acc0-b330f52f3b33"
      },
      "outputs": [
        {
          "data": {
            "text/plain": [
              "environ{'NV_LIBCUBLAS_DEV_VERSION': '11.4.1.1043-1',\n",
              "        'NV_CUDA_COMPAT_PACKAGE': 'cuda-compat-11-2',\n",
              "        'NV_CUDNN_PACKAGE_DEV': 'libcudnn8-dev=8.1.1.33-1+cuda11.2',\n",
              "        'LD_LIBRARY_PATH': '/usr/local/nvidia/lib:/usr/local/nvidia/lib64',\n",
              "        'NV_LIBNCCL_DEV_PACKAGE': 'libnccl-dev=2.8.4-1+cuda11.2',\n",
              "        'TCLLIBPATH': '/usr/share/tcltk/tcllib1.19',\n",
              "        'CLOUDSDK_PYTHON': 'python3',\n",
              "        'LANG': 'en_US.UTF-8',\n",
              "        'NV_LIBNPP_DEV_PACKAGE': 'libnpp-dev-11-2=11.3.2.152-1',\n",
              "        'HOSTNAME': '9d647ed4c8c9',\n",
              "        'OLDPWD': '/',\n",
              "        'CLOUDSDK_CONFIG': '/content/.config',\n",
              "        'NV_LIBNPP_VERSION': '11.3.2.152-1',\n",
              "        'NV_NVPROF_DEV_PACKAGE': 'cuda-nvprof-11-2=11.2.152-1',\n",
              "        'NVIDIA_VISIBLE_DEVICES': 'all',\n",
              "        'NV_NVPROF_VERSION': '11.2.152-1',\n",
              "        'NV_LIBCUSPARSE_VERSION': '11.4.1.1152-1',\n",
              "        'DATALAB_SETTINGS_OVERRIDES': '{\"kernelManagerProxyPort\":6000,\"kernelManagerProxyHost\":\"172.28.0.3\",\"jupyterArgs\":[\"--ip=172.28.0.2\"],\"debugAdapterMultiplexerPath\":\"/usr/local/bin/dap_multiplexer\",\"enableLsp\":true}',\n",
              "        'NV_LIBCUBLAS_DEV_PACKAGE': 'libcublas-dev-11-2=11.4.1.1043-1',\n",
              "        'ENV': '/root/.bashrc',\n",
              "        'NCCL_VERSION': '2.8.4-1',\n",
              "        'TF_FORCE_GPU_ALLOW_GROWTH': 'true',\n",
              "        'NO_GCE_CHECK': 'False',\n",
              "        'PWD': '/',\n",
              "        'NVARCH': 'x86_64',\n",
              "        'HOME': '/root',\n",
              "        'NV_LIBCUSPARSE_DEV_VERSION': '11.4.1.1152-1',\n",
              "        'KMP_LISTEN_PORT': '6000',\n",
              "        'LAST_FORCED_REBUILD': '20221021',\n",
              "        'NV_LIBNCCL_PACKAGE_VERSION': '2.8.4-1',\n",
              "        'NV_LIBNCCL_PACKAGE': 'libnccl2=2.8.4-1+cuda11.2',\n",
              "        'DEBIAN_FRONTEND': 'noninteractive',\n",
              "        'NV_LIBNCCL_DEV_PACKAGE_NAME': 'libnccl-dev',\n",
              "        'NV_CUDA_LIB_VERSION': '11.2.2-1',\n",
              "        'NV_LIBNPP_PACKAGE': 'libnpp-11-2=11.3.2.152-1',\n",
              "        'NV_LIBNCCL_PACKAGE_NAME': 'libnccl2',\n",
              "        'LIBRARY_PATH': '/usr/local/cuda/lib64/stubs',\n",
              "        'NV_NVTX_VERSION': '11.2.152-1',\n",
              "        'NV_LIBCUBLAS_VERSION': '11.4.1.1043-1',\n",
              "        'NV_LIBCUBLAS_PACKAGE': 'libcublas-11-2=11.4.1.1043-1',\n",
              "        'GCE_METADATA_TIMEOUT': '3',\n",
              "        'NV_CUDNN_VERSION': '8.1.1.33',\n",
              "        'VM_GCE_METADATA_HOST': '169.254.169.254',\n",
              "        'NV_CUDA_CUDART_DEV_VERSION': '11.2.152-1',\n",
              "        'KMP_TARGET_PORT': '9000',\n",
              "        'GLIBCPP_FORCE_NEW': '1',\n",
              "        'TBE_CREDS_ADDR': '172.28.0.1:8008',\n",
              "        'SHELL': '/bin/bash',\n",
              "        'GCS_READ_CACHE_BLOCK_SIZE_MB': '16',\n",
              "        'NV_NVML_DEV_VERSION': '11.2.152-1',\n",
              "        'PYTHONWARNINGS': 'ignore:::pip._internal.cli.base_command',\n",
              "        'CUDA_VERSION': '11.2.2',\n",
              "        'NV_LIBCUBLAS_PACKAGE_NAME': 'libcublas-11-2',\n",
              "        'NVIDIA_DRIVER_CAPABILITIES': 'compute,utility',\n",
              "        'TBE_RUNTIME_ADDR': '172.28.0.1:8011',\n",
              "        'SHLVL': '0',\n",
              "        'PYTHONPATH': '/env/python',\n",
              "        'NV_LIBCUBLAS_DEV_PACKAGE_NAME': 'libcublas-dev-11-2',\n",
              "        'NVIDIA_REQUIRE_CUDA': 'cuda>=11.2 brand=tesla,driver>=418,driver<419 brand=tesla,driver>=450,driver<451',\n",
              "        'NV_LIBNPP_DEV_VERSION': '11.3.2.152-1',\n",
              "        'TBE_EPHEM_CREDS_ADDR': '172.28.0.1:8009',\n",
              "        'NV_CUDA_CUDART_VERSION': '11.2.152-1',\n",
              "        'NV_CUDNN_PACKAGE_NAME': 'libcudnn8',\n",
              "        'GLIBCXX_FORCE_NEW': '1',\n",
              "        'PATH': '/opt/bin:/usr/local/nvidia/bin:/usr/local/cuda/bin:/usr/local/sbin:/usr/local/bin:/usr/sbin:/usr/bin:/sbin:/bin:/tools/node/bin:/tools/google-cloud-sdk/bin',\n",
              "        'NV_LIBNCCL_DEV_PACKAGE_VERSION': '2.8.4-1',\n",
              "        'LD_PRELOAD': '/usr/lib/x86_64-linux-gnu/libtcmalloc.so.4',\n",
              "        'NV_CUDNN_PACKAGE': 'libcudnn8=8.1.1.33-1+cuda11.2',\n",
              "        'JPY_PARENT_PID': '57',\n",
              "        'TERM': 'xterm-color',\n",
              "        'CLICOLOR': '1',\n",
              "        'PAGER': 'cat',\n",
              "        'GIT_PAGER': 'cat',\n",
              "        'MPLBACKEND': 'module://ipykernel.pylab.backend_inline',\n",
              "        'ENABLE_DIRECTORYPREFETCHER': '1',\n",
              "        'USE_AUTH_EPHEM': '1',\n",
              "        'PYDEVD_USE_FRAME_EVAL': 'NO'}"
            ]
          },
          "execution_count": 26,
          "metadata": {},
          "output_type": "execute_result"
        }
      ],
      "source": [
        "os.environ"
      ]
    },
    {
      "cell_type": "markdown",
      "metadata": {
        "id": "s23izIbV7-5-"
      },
      "source": [
        "20. Как игнорировать warrnings?"
      ]
    },
    {
      "cell_type": "markdown",
      "metadata": {
        "id": "XE6k7cay7-5-"
      },
      "source": [
        "* Про datetime и timedelta \n",
        "\n",
        "https://www.guru99.com/date-time-and-datetime-classes-in-python.html"
      ]
    },
    {
      "cell_type": "code",
      "execution_count": 7,
      "metadata": {
        "id": "ewpjqfMS5GjD"
      },
      "outputs": [],
      "source": [
        "from datetime import date\n",
        "from datetime import time\n",
        "from datetime import datetime\n",
        "from datetime import timedelta"
      ]
    },
    {
      "cell_type": "markdown",
      "metadata": {
        "id": "SzCH8oZO7-5-"
      },
      "source": [
        "21. Вывести сегодняшнюю, вчерашнюю и завтрашнюю дату (☆☆☆)"
      ]
    },
    {
      "cell_type": "code",
      "execution_count": null,
      "metadata": {
        "colab": {
          "base_uri": "https://localhost:8080/"
        },
        "id": "J4duLqPc7-5_",
        "outputId": "b2c832ef-4891-43e5-ff9c-c0d9112836bd"
      },
      "outputs": [
        {
          "name": "stdout",
          "output_type": "stream",
          "text": [
            "2022-10-30\n",
            "2022-10-29\n",
            "2022-10-31\n"
          ]
        }
      ],
      "source": [
        "print(date.today())\n",
        "print(date.today() - timedelta(days=1)) # вчера\n",
        "print(date.today() - timedelta(days=-1)) # завтра\n"
      ]
    },
    {
      "cell_type": "markdown",
      "metadata": {
        "id": "MLqVlaHK7-5_"
      },
      "source": [
        "22. Вывести день недели сегодняшней даты (★☆☆)"
      ]
    },
    {
      "cell_type": "code",
      "execution_count": null,
      "metadata": {
        "colab": {
          "base_uri": "https://localhost:8080/"
        },
        "id": "G8SGml7y7-5_",
        "outputId": "7a013998-8691-48ca-94ee-747f807e7b1d"
      },
      "outputs": [
        {
          "name": "stdout",
          "output_type": "stream",
          "text": [
            "Today is day number 6\n",
            "which is a sunday\n"
          ]
        }
      ],
      "source": [
        "wd = date.today().weekday()\n",
        "\n",
        "days= [\"monday\",\"tuesday\",\"wednesday\",\"thursday\",\"friday\",\"saturday\",\"sunday\"]\n",
        "print(\"Today is day number %d\" % wd)\n",
        "print(\"which is a \" + days[wd])"
      ]
    },
    {
      "cell_type": "markdown",
      "metadata": {
        "id": "REha1tAt7-5_"
      },
      "source": [
        "23. Получить список дат за предыдущую неделю (★★☆)"
      ]
    },
    {
      "cell_type": "code",
      "execution_count": 8,
      "metadata": {
        "colab": {
          "base_uri": "https://localhost:8080/"
        },
        "id": "59rDsO2X7-5_",
        "outputId": "5a9c7d8c-eb26-4ec5-a20c-7b9f92f5f4d3"
      },
      "outputs": [
        {
          "name": "stdout",
          "output_type": "stream",
          "text": [
            "2022-11-05\n",
            "2022-11-04\n",
            "2022-11-03\n",
            "2022-11-02\n",
            "2022-11-01\n",
            "2022-10-31\n",
            "2022-10-30\n"
          ]
        }
      ],
      "source": [
        "for day in range(1,8):\n",
        "  print(date.today() - timedelta(days=day))\n"
      ]
    },
    {
      "cell_type": "markdown",
      "metadata": {
        "id": "eGzHWYoJ7-5_"
      },
      "source": [
        "24. Вывести дату с часами и минутами, отформатировать в формате: 01.12.2019 00:12:54 (★★☆)\n",
        "            \n",
        "(hint: now().strftime())"
      ]
    },
    {
      "cell_type": "code",
      "execution_count": null,
      "metadata": {
        "colab": {
          "base_uri": "https://localhost:8080/"
        },
        "id": "ERifWa0x7-5_",
        "outputId": "cfe091b7-ac83-4d44-d574-e0465f36b832"
      },
      "outputs": [
        {
          "name": "stdout",
          "output_type": "stream",
          "text": [
            "Sun Oct 30 08:42:41 2022\n"
          ]
        }
      ],
      "source": [
        "print(datetime.now().strftime(\"%c\"))"
      ]
    },
    {
      "cell_type": "markdown",
      "metadata": {
        "id": "xtw6syHf7-5_"
      },
      "source": [
        "25. Исходя из текущей даты вычислить дату предыдущего понедельника (★★★)"
      ]
    },
    {
      "cell_type": "code",
      "execution_count": null,
      "metadata": {
        "colab": {
          "base_uri": "https://localhost:8080/"
        },
        "id": "2j3IO3nm7-6A",
        "outputId": "822ce471-2555-4f1c-ff8f-aa0d972fad57"
      },
      "outputs": [
        {
          "name": "stdout",
          "output_type": "stream",
          "text": [
            "2022-10-24\n"
          ]
        }
      ],
      "source": [
        "wd = date.today().weekday()\n",
        "\n",
        "if wd!=0:\n",
        "  print(date.today() - timedelta(days=wd))\n",
        "else:\n",
        "  print(date.today() - timedelta(days=7))"
      ]
    },
    {
      "cell_type": "markdown",
      "metadata": {
        "id": "erB0b_lQ7-6A"
      },
      "source": [
        "# Numpy"
      ]
    },
    {
      "cell_type": "markdown",
      "metadata": {
        "id": "PGAVDzpv7-6A"
      },
      "source": [
        "### numpy в картинках (реально лучший):\n",
        "\n",
        "https://jalammar.github.io/visual-numpy/"
      ]
    },
    {
      "cell_type": "code",
      "execution_count": null,
      "metadata": {
        "id": "I2hMMh4J7-6A"
      },
      "outputs": [],
      "source": [
        "import numpy as np"
      ]
    },
    {
      "cell_type": "markdown",
      "metadata": {
        "id": "Zc2HN9ah7-6A"
      },
      "source": [
        "1. Задать нулевой вектор размером 10 (★☆☆)\n",
        "\n",
        "(hint: np.zeros)"
      ]
    },
    {
      "cell_type": "code",
      "execution_count": null,
      "metadata": {
        "id": "Mo3_ncPr7-6A"
      },
      "outputs": [],
      "source": [
        "v = np.zeros(10)"
      ]
    },
    {
      "cell_type": "markdown",
      "metadata": {
        "id": "zo6g4t_O7-6A"
      },
      "source": [
        "2. Как найти размер занимаемой памяти любым массивом (★☆☆)\n",
        "\n",
        "(hint: size, itemsize)"
      ]
    },
    {
      "cell_type": "code",
      "execution_count": null,
      "metadata": {
        "colab": {
          "base_uri": "https://localhost:8080/"
        },
        "id": "H4u2UL4R7-6A",
        "outputId": "9bc0d66a-ded6-4cd9-c86e-a2f8a44a2ef3"
      },
      "outputs": [
        {
          "data": {
            "text/plain": [
              "10"
            ]
          },
          "execution_count": 35,
          "metadata": {},
          "output_type": "execute_result"
        }
      ],
      "source": [
        "np.size(v)"
      ]
    },
    {
      "cell_type": "markdown",
      "metadata": {
        "id": "RgMlxewK7-6A"
      },
      "source": [
        "3. Создать вектор из 10 нулей, кроме пятого элемента, который равен 1 (★☆☆)"
      ]
    },
    {
      "cell_type": "code",
      "execution_count": null,
      "metadata": {
        "colab": {
          "base_uri": "https://localhost:8080/"
        },
        "id": "jiQkXc4O7-6A",
        "outputId": "80a0270d-389c-48f3-92c9-4788bc50a326"
      },
      "outputs": [
        {
          "data": {
            "text/plain": [
              "array([0., 0., 0., 0., 1., 0., 0., 0., 0., 0.])"
            ]
          },
          "execution_count": 36,
          "metadata": {},
          "output_type": "execute_result"
        }
      ],
      "source": [
        "v = np.zeros(10)\n",
        "v[4] = 1\n",
        "v"
      ]
    },
    {
      "cell_type": "markdown",
      "metadata": {
        "id": "kPEle2qT7-6B"
      },
      "source": [
        "4. Создать вектор от 10 до 50 включительно (★☆☆)\n",
        "\n",
        "(hint:np.arange)"
      ]
    },
    {
      "cell_type": "code",
      "execution_count": null,
      "metadata": {
        "colab": {
          "base_uri": "https://localhost:8080/"
        },
        "id": "fJnAkqW-7-6B",
        "outputId": "14810c01-d898-4508-cd64-687fd993bfb2"
      },
      "outputs": [
        {
          "data": {
            "text/plain": [
              "array([10, 11, 12, 13, 14, 15, 16, 17, 18, 19, 20, 21, 22, 23, 24, 25, 26,\n",
              "       27, 28, 29, 30, 31, 32, 33, 34, 35, 36, 37, 38, 39, 40, 41, 42, 43,\n",
              "       44, 45, 46, 47, 48, 49])"
            ]
          },
          "execution_count": 37,
          "metadata": {},
          "output_type": "execute_result"
        }
      ],
      "source": [
        "vv = np.arange(start=10,stop=50)\n",
        "vv"
      ]
    },
    {
      "cell_type": "markdown",
      "metadata": {
        "id": "9P1_c7se7-6B"
      },
      "source": [
        "5. Перевернуть вектор (первый элемент будет последним) (★☆☆)"
      ]
    },
    {
      "cell_type": "code",
      "execution_count": null,
      "metadata": {
        "id": "nZ8mw8B67-6B"
      },
      "outputs": [],
      "source": [
        "vv=vv[::-1]"
      ]
    },
    {
      "cell_type": "markdown",
      "metadata": {
        "id": "431qEvN87-6B"
      },
      "source": [
        "6. Создать матрицу 3х3 с элементами от 0 до 8 (★☆☆)\n",
        "\n",
        "(hint: reshape)"
      ]
    },
    {
      "cell_type": "code",
      "execution_count": null,
      "metadata": {
        "id": "b4A8JfF37-6B"
      },
      "outputs": [],
      "source": [
        "matrix = np.arange(start=0,stop=9).reshape(3,3)"
      ]
    },
    {
      "cell_type": "code",
      "execution_count": null,
      "metadata": {
        "colab": {
          "base_uri": "https://localhost:8080/"
        },
        "id": "WMggs73rQpGQ",
        "outputId": "17510e73-bea7-461f-ea6b-0184825a3d36"
      },
      "outputs": [
        {
          "data": {
            "text/plain": [
              "array([[0, 1, 2],\n",
              "       [3, 4, 5],\n",
              "       [6, 7, 8]])"
            ]
          },
          "execution_count": 40,
          "metadata": {},
          "output_type": "execute_result"
        }
      ],
      "source": [
        "matrix"
      ]
    },
    {
      "cell_type": "markdown",
      "metadata": {
        "id": "PMb49oNH7-6B"
      },
      "source": [
        "7. Найти индексы не нулевых эемелентов в numpy array [1,2,0,0,4,0] (★☆☆)\n",
        "\n",
        "(hint: np.nonzero)"
      ]
    },
    {
      "cell_type": "code",
      "execution_count": null,
      "metadata": {
        "colab": {
          "base_uri": "https://localhost:8080/"
        },
        "id": "K8dAIKrt7-6B",
        "outputId": "c717fdc4-c2aa-4aa2-870f-a6de60c95d81"
      },
      "outputs": [
        {
          "data": {
            "text/plain": [
              "(array([0, 1, 4]),)"
            ]
          },
          "execution_count": 41,
          "metadata": {},
          "output_type": "execute_result"
        }
      ],
      "source": [
        "np.nonzero([1,2,0,0,4,0])"
      ]
    },
    {
      "cell_type": "markdown",
      "metadata": {
        "id": "jmOnmP6b7-6B"
      },
      "source": [
        "8. Создать матрицу 10x10 array с рандомными числами и найти минимум, максимум и среднее (★☆☆)"
      ]
    },
    {
      "cell_type": "code",
      "execution_count": null,
      "metadata": {
        "id": "YwTmInvURIJ_"
      },
      "outputs": [],
      "source": [
        "import random"
      ]
    },
    {
      "cell_type": "code",
      "execution_count": null,
      "metadata": {
        "id": "PvbVEYkt7-6B"
      },
      "outputs": [],
      "source": [
        "matrix = np.reshape([round(random.random()*100) for i in range(100)],(10,10))"
      ]
    },
    {
      "cell_type": "code",
      "execution_count": null,
      "metadata": {
        "colab": {
          "base_uri": "https://localhost:8080/"
        },
        "id": "F_qEOa9bRs10",
        "outputId": "d7cd54c9-a80f-47d1-f38b-2f2935e829b3"
      },
      "outputs": [
        {
          "data": {
            "text/plain": [
              "array([[34, 65, 20, 16, 35, 47, 67, 77, 13, 54],\n",
              "       [69, 95, 35, 19, 64, 98, 94, 26, 72, 53],\n",
              "       [17, 80, 65, 77, 35, 61, 67, 11,  7, 64],\n",
              "       [ 2, 91, 58, 90, 83, 58, 10, 57,  6,  1],\n",
              "       [36, 44, 62, 89, 12, 58, 97, 43, 25, 47],\n",
              "       [86, 88, 17, 69, 11, 64, 21, 41, 98, 48],\n",
              "       [96, 95, 66, 10, 39, 39, 85,  9,  7, 35],\n",
              "       [ 2, 65, 10, 81, 44,  0, 14, 24, 43, 58],\n",
              "       [23, 25, 61, 41, 51, 29, 37, 50, 63, 67],\n",
              "       [38, 47, 15, 17, 66, 28, 31,  5, 32, 51]])"
            ]
          },
          "execution_count": 44,
          "metadata": {},
          "output_type": "execute_result"
        }
      ],
      "source": [
        "matrix"
      ]
    },
    {
      "cell_type": "markdown",
      "metadata": {
        "id": "7Akk1awh7-6C"
      },
      "source": [
        "9. Создать матрицу 8x8 и заполнить 0 и 1 в стиле шахматной доски (★☆☆)\n",
        "\n",
        "(hint: array[::n])"
      ]
    },
    {
      "cell_type": "code",
      "execution_count": null,
      "metadata": {
        "colab": {
          "base_uri": "https://localhost:8080/"
        },
        "id": "825TezXL7-6C",
        "outputId": "06412a00-833f-4703-cd3d-7afd7450ca7a"
      },
      "outputs": [
        {
          "name": "stdout",
          "output_type": "stream",
          "text": [
            "[[0 1 0 1 0 1 0 1]\n",
            " [1 0 1 0 1 0 1 0]\n",
            " [0 1 0 1 0 1 0 1]\n",
            " [1 0 1 0 1 0 1 0]\n",
            " [0 1 0 1 0 1 0 1]\n",
            " [1 0 1 0 1 0 1 0]\n",
            " [0 1 0 1 0 1 0 1]\n",
            " [1 0 1 0 1 0 1 0]]\n"
          ]
        }
      ],
      "source": [
        "matrix = np.zeros((8,8), dtype = int)\n",
        "matrix[1::2,::2] = 1\n",
        "matrix[::2,1::2] = 1\n",
        "print(matrix)"
      ]
    },
    {
      "cell_type": "code",
      "execution_count": null,
      "metadata": {
        "colab": {
          "base_uri": "https://localhost:8080/"
        },
        "id": "DI2AD47oS6Ja",
        "outputId": "a3fcc9a5-da8f-40f2-84ba-1a2859fd0541"
      },
      "outputs": [
        {
          "data": {
            "text/plain": [
              "array([[0, 1, 0, 1, 0, 1, 0, 1],\n",
              "       [1, 0, 1, 0, 1, 0, 1, 0],\n",
              "       [0, 1, 0, 1, 0, 1, 0, 1],\n",
              "       [1, 0, 1, 0, 1, 0, 1, 0],\n",
              "       [0, 1, 0, 1, 0, 1, 0, 1],\n",
              "       [1, 0, 1, 0, 1, 0, 1, 0],\n",
              "       [0, 1, 0, 1, 0, 1, 0, 1],\n",
              "       [1, 0, 1, 0, 1, 0, 1, 0]])"
            ]
          },
          "execution_count": 46,
          "metadata": {},
          "output_type": "execute_result"
        }
      ],
      "source": [
        "matrix"
      ]
    },
    {
      "cell_type": "markdown",
      "metadata": {
        "id": "tPItbLuk7-6C"
      },
      "source": [
        "10. Нормализовать рандомную матрицу 5x5 (★☆☆)\n",
        "\n",
        "(hint: (x - mean) / std)"
      ]
    },
    {
      "cell_type": "code",
      "execution_count": null,
      "metadata": {
        "id": "NxpOioEr7-6C"
      },
      "outputs": [],
      "source": [
        "matrix = np.reshape([round(random.random()*100) for i in range(25)],(5,5))"
      ]
    },
    {
      "cell_type": "code",
      "execution_count": null,
      "metadata": {
        "colab": {
          "base_uri": "https://localhost:8080/"
        },
        "id": "Cc_eVdvvUZtZ",
        "outputId": "a22c2e25-7407-4cb1-cdb0-8e0fd01eb9a7"
      },
      "outputs": [
        {
          "name": "stdout",
          "output_type": "stream",
          "text": [
            "52.76\n",
            "[-0.48968699 -1.17233614 -0.85376654  1.10316103  0.28398205]\n",
            "[ 1.05765108  0.51153176 -0.94478642  2.10437978  1.2852008 ]\n",
            "[-0.53519693 -2.08253501 -0.12560744  0.78459142 -0.17111739]\n",
            "[-1.39988586 -0.26213727  0.10194227 -0.21662733  1.51275052]\n",
            "[-1.26335603 -0.3986671   1.10316103  0.46602182 -0.3986671 ]\n"
          ]
        }
      ],
      "source": [
        "\n",
        "mean = matrix.mean()\n",
        "std = matrix.std()\n",
        "print(mean)\n",
        "for el in matrix:\n",
        "  el = (el - mean)/std\n",
        "  print(el)"
      ]
    },
    {
      "cell_type": "markdown",
      "metadata": {
        "id": "rpnPFQiD7-6C"
      },
      "source": [
        "11. Найти общие элементы между двумя массивами\n",
        "\n",
        "(hint: np.intersect1d)"
      ]
    },
    {
      "cell_type": "code",
      "execution_count": null,
      "metadata": {
        "colab": {
          "base_uri": "https://localhost:8080/"
        },
        "id": "Om2KNfr57-6C",
        "outputId": "c7738685-c137-4ed1-bbe5-0c5bca327a19"
      },
      "outputs": [
        {
          "data": {
            "text/plain": [
              "array([0, 1, 2, 3, 4, 5, 6, 7, 8, 9])"
            ]
          },
          "execution_count": 49,
          "metadata": {},
          "output_type": "execute_result"
        }
      ],
      "source": [
        "np.intersect1d([x for x in range(10)],[x for x in range(15)])"
      ]
    },
    {
      "cell_type": "markdown",
      "metadata": {
        "id": "aqQ7cw7Z7-6C"
      },
      "source": [
        "12. Извлечь целую часть рандомного массива чисел различными способами (максимум 5) (★★☆)"
      ]
    },
    {
      "cell_type": "code",
      "execution_count": 21,
      "metadata": {
        "colab": {
          "base_uri": "https://localhost:8080/"
        },
        "id": "km63zOAL7-6C",
        "outputId": "7151f938-3661-4d61-f19a-510607af7271"
      },
      "outputs": [
        {
          "name": "stdout",
          "output_type": "stream",
          "text": [
            "numpy array is: \n",
            " [ 1.          1.18367347  1.36734694  1.55102041  1.73469388  1.91836735\n",
            "  2.10204082  2.28571429  2.46938776  2.65306122  2.83673469  3.02040816\n",
            "  3.20408163  3.3877551   3.57142857  3.75510204  3.93877551  4.12244898\n",
            "  4.30612245  4.48979592  4.67346939  4.85714286  5.04081633  5.2244898\n",
            "  5.40816327  5.59183673  5.7755102   5.95918367  6.14285714  6.32653061\n",
            "  6.51020408  6.69387755  6.87755102  7.06122449  7.24489796  7.42857143\n",
            "  7.6122449   7.79591837  7.97959184  8.16326531  8.34693878  8.53061224\n",
            "  8.71428571  8.89795918  9.08163265  9.26530612  9.44897959  9.63265306\n",
            "  9.81632653 10.        ]\n",
            "[1, 1, 1, 1, 1, 1, 2, 2, 2, 2, 2, 3, 3, 3, 3, 3, 3, 4, 4, 4, 4, 4, 5, 5, 5, 5, 5, 5, 6, 6, 6, 6, 6, 7, 7, 7, 7, 7, 7, 8, 8, 8, 8, 8, 9, 9, 9, 9, 9, 10]\n",
            "python list is: \n",
            " [0.0, 1.1, 2.2, 3.3, 4.4, 5.5, 6.6, 7.7, 8.8, 9.9]\n",
            "[0, 1, 2, 3, 4, 5, 6, 7, 8, 9]\n",
            "python list3 is:  [0.0, 1.1, 2.2, 3.3, 4.4, 5.5, 6.6, 7.7, 8.8, 9.9]\n",
            "[0.0, 1.0, 2.0, 3.0, 4.0, 5.0, 6.0, 7.0, 8.0, 9.0]\n"
          ]
        }
      ],
      "source": [
        "import numpy as np\n",
        "import math\n",
        "# 1\n",
        "lst = np.linspace(1,10)\n",
        "print(\"numpy array is: \\n\",lst)\n",
        "result = list()\n",
        "for el in lst:\n",
        "  result.append(math.floor(el))\n",
        "\n",
        "print(result)\n",
        "\n",
        "\n",
        "# 2\n",
        "lst2 = [k+k*0.1 for k in range(10)]\n",
        "result.clear()\n",
        "print(f\"python list is: \\n {lst2}\")\n",
        "for e in lst2:\n",
        "  result.append(int(e))\n",
        "\n",
        "print(result)\n",
        "\n",
        "\n",
        "# 3\n",
        "\n",
        "lst3 = [k+k*0.1 for k in range(10)]\n",
        "result.clear()\n",
        "print(\"python list3 is: \",lst3)\n",
        "for e in lst3:\n",
        "  result.append(e//1)\n",
        "\n",
        "print(result)\n"
      ]
    },
    {
      "cell_type": "markdown",
      "metadata": {
        "id": "f_rFnjH37-6C"
      },
      "source": [
        "13. Создать рандомный вектор размера 10 и отсортировать его (★★☆)"
      ]
    },
    {
      "cell_type": "code",
      "execution_count": null,
      "metadata": {
        "colab": {
          "base_uri": "https://localhost:8080/"
        },
        "id": "QfFtNYNg7-6C",
        "outputId": "a019d257-1f00-492a-f3cb-ff2543a220a3"
      },
      "outputs": [
        {
          "data": {
            "text/plain": [
              "list"
            ]
          },
          "execution_count": 61,
          "metadata": {},
          "output_type": "execute_result"
        }
      ],
      "source": [
        "vec = [random.randint(1,100) for x in range(10)]\n",
        "type(vec)"
      ]
    },
    {
      "cell_type": "code",
      "execution_count": null,
      "metadata": {
        "colab": {
          "base_uri": "https://localhost:8080/"
        },
        "id": "PTVVR7ZmWRHi",
        "outputId": "8c6ad7ec-263c-4290-f1dd-f7f7a5f0d857"
      },
      "outputs": [
        {
          "name": "stdout",
          "output_type": "stream",
          "text": [
            "[4, 8, 35, 56, 62, 65, 75, 85, 95, 99]\n"
          ]
        }
      ],
      "source": [
        "for n in range(len(vec)-1, 0, -1):\n",
        "  for i in range(n):\n",
        "      if vec[i] > vec[i + 1]:\n",
        "        vec[i], vec[i + 1] = vec[i + 1], vec[i]       \n",
        "  \n",
        "\n",
        "\n",
        "print(vec)\n",
        "\n"
      ]
    },
    {
      "cell_type": "markdown",
      "metadata": {
        "id": "bJzpgOl37-6D"
      },
      "source": [
        "14. Проверить одинаковы ли два рандомных массива А и B (★★☆)\n",
        "\n",
        "(hint: np.allclose, np.array_equal)"
      ]
    },
    {
      "cell_type": "code",
      "execution_count": null,
      "metadata": {
        "colab": {
          "base_uri": "https://localhost:8080/"
        },
        "id": "6n303JJr7-6D",
        "outputId": "d6bde14d-23c4-4fea-a008-20996351f484"
      },
      "outputs": [
        {
          "data": {
            "text/plain": [
              "False"
            ]
          },
          "execution_count": 63,
          "metadata": {},
          "output_type": "execute_result"
        }
      ],
      "source": [
        "np.array_equal([random.randint(1,100) for x in range(10)],[random.randint(1,100) for x in range(10)])"
      ]
    },
    {
      "cell_type": "markdown",
      "metadata": {
        "id": "JoJglzhz7-6D"
      },
      "source": [
        "15. Создать рандомный ветор размером 10 и максимальный элемент заменить на -1 (★★☆)\n",
        "\n",
        "(hint: argmax)"
      ]
    },
    {
      "cell_type": "code",
      "execution_count": null,
      "metadata": {
        "id": "e5mGRtnL7-6D"
      },
      "outputs": [],
      "source": [
        "vec = [random.randint(1,100) for x in range(10)]\n"
      ]
    },
    {
      "cell_type": "code",
      "execution_count": null,
      "metadata": {
        "id": "DFS7ZCz_FiCA"
      },
      "outputs": [],
      "source": [
        "vec[np.argmax(vec)]=-1"
      ]
    },
    {
      "cell_type": "code",
      "execution_count": null,
      "metadata": {
        "colab": {
          "base_uri": "https://localhost:8080/"
        },
        "id": "xuNRtjT9Fn91",
        "outputId": "0003e05c-da56-4bd3-f60b-b6f554fb46be"
      },
      "outputs": [
        {
          "data": {
            "text/plain": [
              "[47, -1, 18, 53, 66, 23, 60, 11, 69, 89]"
            ]
          },
          "execution_count": 72,
          "metadata": {},
          "output_type": "execute_result"
        }
      ],
      "source": [
        "vec"
      ]
    },
    {
      "cell_type": "markdown",
      "metadata": {
        "id": "mAGLVuFF7-6D"
      },
      "source": [
        "16. Найдите самый близкий элемент к данному рандомному числу в векторе? (★★☆)\n",
        "\n",
        "(hint: argmin)"
      ]
    },
    {
      "cell_type": "code",
      "execution_count": null,
      "metadata": {
        "colab": {
          "base_uri": "https://localhost:8080/"
        },
        "id": "89qRlKiw7-6D",
        "outputId": "c4db25c9-c7b9-420d-86e7-1d8d4bbb083f"
      },
      "outputs": [
        {
          "name": "stdout",
          "output_type": "stream",
          "text": [
            "[ 0  1  2  3  4  5  6  7  8  9 10 11 12 13 14 15 16 17 18 19 20 21 22 23\n",
            " 24 25 26 27 28 29 30 31 32 33 34 35 36 37 38 39 40 41 42 43 44 45 46 47\n",
            " 48 49 50 51 52 53 54 55 56 57 58 59 60 61 62 63 64 65 66 67 68 69 70 71\n",
            " 72 73 74 75 76 77 78 79 80 81 82 83 84 85 86 87 88 89 90 91 92 93 94 95\n",
            " 96 97 98 99]\n",
            "*******\n",
            "23.978530068659186\n",
            "*******\n",
            "24\n"
          ]
        }
      ],
      "source": [
        "Z = np.arange(100)\n",
        "v = np.random.uniform(0,100) # данное число\n",
        "print(Z)\n",
        "print(\"*******\")\n",
        "print(v)\n",
        "print(\"*******\")\n",
        "\n",
        "delta = 10000\n",
        "for i in range(len(Z)-1):\n",
        "  if Z[i]-v<abs(delta):\n",
        "    delta = v-Z[i]\n",
        "    index =  i\n",
        "\n",
        "\n",
        "print(Z[index])"
      ]
    },
    {
      "cell_type": "markdown",
      "metadata": {
        "id": "36WBkhF-7-6D"
      },
      "source": [
        "17. Посчитать среднее для каждой строки матрицы (★★☆)"
      ]
    },
    {
      "cell_type": "code",
      "execution_count": null,
      "metadata": {
        "colab": {
          "base_uri": "https://localhost:8080/"
        },
        "id": "GnLZw8aJ7-6D",
        "outputId": "4a8c6ac2-ea97-4213-af03-840e825514ce"
      },
      "outputs": [
        {
          "data": {
            "text/plain": [
              "array([[10, 57, 22, 40, 33],\n",
              "       [37, 92, 52,  8,  6],\n",
              "       [80,  0, 64, 34, 71],\n",
              "       [57,  5, 21, 59, 63],\n",
              "       [95, 42, 28,  6, 51]])"
            ]
          },
          "execution_count": 103,
          "metadata": {},
          "output_type": "execute_result"
        }
      ],
      "source": [
        "matrix = np.reshape([round(random.random()*100) for i in range(25)],(5,5))\n",
        "matrix"
      ]
    },
    {
      "cell_type": "code",
      "execution_count": null,
      "metadata": {
        "colab": {
          "base_uri": "https://localhost:8080/"
        },
        "id": "0s-6TIaVI3Jq",
        "outputId": "90b953d9-3fc1-4bf0-ef85-87490bc6b08a"
      },
      "outputs": [
        {
          "name": "stdout",
          "output_type": "stream",
          "text": [
            "среднее для элементов строки 0 в матрице равно 32.4\n",
            "среднее для элементов строки 1 в матрице равно 39.0\n",
            "среднее для элементов строки 2 в матрице равно 49.8\n",
            "среднее для элементов строки 3 в матрице равно 41.0\n",
            "среднее для элементов строки 4 в матрице равно 44.4\n"
          ]
        }
      ],
      "source": [
        "m_xy = matrix.shape \n",
        "str_sum = 0\n",
        "for i in range(m_xy[0]):\n",
        "  for j in range(m_xy[1]):\n",
        "    str_sum = str_sum + matrix[i][j]\n",
        "  \n",
        "  str_sum = str_sum/m_xy[1]\n",
        "  print(f\"среднее для элементов строки {i} в матрице равно {str_sum}\")\n",
        "  str_sum = 0\n"
      ]
    },
    {
      "cell_type": "code",
      "execution_count": null,
      "metadata": {
        "colab": {
          "base_uri": "https://localhost:8080/"
        },
        "id": "pRGjns1hL-P4",
        "outputId": "d29f7970-a7d5-4d38-a63a-0d42a2d48e30"
      },
      "outputs": [
        {
          "data": {
            "text/plain": [
              "32.4"
            ]
          },
          "execution_count": 107,
          "metadata": {},
          "output_type": "execute_result"
        }
      ],
      "source": [
        "# проверка\n",
        "10+57+22+40+33 # 162\n",
        "162/5"
      ]
    },
    {
      "cell_type": "markdown",
      "metadata": {
        "id": "uh0PaELi7-6D"
      },
      "source": [
        "18. Посчитать среднее со скользящим окном над массивом (★★★)\n"
      ]
    },
    {
      "cell_type": "code",
      "execution_count": null,
      "metadata": {
        "id": "G1FMXEzw7-6D"
      },
      "outputs": [],
      "source": []
    },
    {
      "cell_type": "markdown",
      "metadata": {
        "id": "39MrQOOQ7-6D"
      },
      "source": [
        "<img src=\"gifs/bender.gif\" width=\"400\">"
      ]
    },
    {
      "cell_type": "markdown",
      "metadata": {
        "id": "hjyrzC-K7-6E"
      },
      "source": [
        "# Regular expressions\n",
        "\n",
        "* Cупер статья на все времена. Особенно понятно все про такие сложные штуки как lookaround. \n",
        "\n",
        "https://habr.com/ru/post/349860/\n",
        "\n",
        "\n",
        "* Задания на регулярки\n",
        "\n",
        "https://regexone.com/\n",
        "\n",
        "* На этом сайте удобно тестировать регулярку, которую мучаешь, можно написать несколько примеров и тестировать на них. Важно не забывать выбирать Python:\n",
        "\n",
        "https://regex101.com/"
      ]
    },
    {
      "cell_type": "markdown",
      "metadata": {
        "id": "Qyr-_5kN7-6E"
      },
      "source": [
        "1. Из строки в файле data/rejson.txt вытащить хэш. Пример:\n",
        "\n",
        "'master_guid': '<b>233880bb4c50d247f84edc9cac9e6e29</b>_2308194320'"
      ]
    },
    {
      "cell_type": "code",
      "execution_count": null,
      "metadata": {
        "id": "snI9_pDw7-6E"
      },
      "outputs": [],
      "source": []
    },
    {
      "cell_type": "markdown",
      "metadata": {
        "id": "LvMyVVti7-6E"
      },
      "source": [
        "# Pandas"
      ]
    },
    {
      "cell_type": "markdown",
      "metadata": {
        "id": "1phjMjs87-6E"
      },
      "source": [
        "* Pandas в картинках\n",
        "\n",
        "https://jalammar.github.io/gentle-visual-intro-to-data-analysis-python-pandas/\n",
        "\n",
        "* 10 minutes to pandas\n",
        "\n",
        "https://pandas.pydata.org/pandas-docs/stable/getting_started/10min.html\n",
        "\n",
        "* 🐼реально классный твиттер чувака с крутыми pandas tricks:\n",
        "    \n",
        "https://mobile.twitter.com/i/moments/1158828895547854849"
      ]
    }
  ],
  "metadata": {
    "colab": {
      "collapsed_sections": [],
      "provenance": []
    },
    "kernelspec": {
      "display_name": "Python 3.10.8 64-bit",
      "language": "python",
      "name": "python3"
    },
    "language_info": {
      "codemirror_mode": {
        "name": "ipython",
        "version": 3
      },
      "file_extension": ".py",
      "mimetype": "text/x-python",
      "name": "python",
      "nbconvert_exporter": "python",
      "pygments_lexer": "ipython3",
      "version": "3.10.8"
    },
    "vscode": {
      "interpreter": {
        "hash": "e7370f93d1d0cde622a1f8e1c04877d8463912d04d973331ad4851f04de6915a"
      }
    }
  },
  "nbformat": 4,
  "nbformat_minor": 0
}
